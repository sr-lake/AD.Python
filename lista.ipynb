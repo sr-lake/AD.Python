{
  "nbformat": 4,
  "nbformat_minor": 0,
  "metadata": {
    "colab": {
      "name": "lista.ipynb",
      "provenance": [],
      "collapsed_sections": [],
      "authorship_tag": "ABX9TyOBliEkUKibKerg2PBDXaBV",
      "include_colab_link": true
    },
    "kernelspec": {
      "name": "python3",
      "display_name": "Python 3"
    },
    "language_info": {
      "name": "python"
    }
  },
  "cells": [
    {
      "cell_type": "markdown",
      "metadata": {
        "id": "view-in-github",
        "colab_type": "text"
      },
      "source": [
        "<a href=\"https://colab.research.google.com/github/sr-lake/AD.Python/blob/main/lista.ipynb\" target=\"_parent\"><img src=\"https://colab.research.google.com/assets/colab-badge.svg\" alt=\"Open In Colab\"/></a>"
      ]
    },
    {
      "cell_type": "markdown",
      "source": [
        "Modulo 2 - \n",
        "1. Listas\n",
        "*\n",
        "*\n",
        "1.2. Definição"
      ],
      "metadata": {
        "id": "AWJs__dXrfA6"
      }
    },
    {
      "cell_type": "code",
      "execution_count": null,
      "metadata": {
        "colab": {
          "base_uri": "https://localhost:8080/"
        },
        "id": "TH5MxDPr1VJP",
        "outputId": "692462fb-629a-4121-bfde-0791ae4c5d8a"
      },
      "outputs": [
        {
          "output_type": "stream",
          "name": "stdout",
          "text": [
            "['André Perez', 'andre.perez', 'andre123', 'andre.perez@gmail.com']\n",
            "<class 'list'>\n"
          ]
        }
      ],
      "source": [
        "usuario_web = ['André Perez', 'andre.perez', 'andre123', 'andre.perez@gmail.com']\n",
        "\n",
        "print(usuario_web)\n",
        "print(type(usuario_web))"
      ]
    },
    {
      "cell_type": "code",
      "source": [
        "idade = 20\n",
        "sc = 723.15\n",
        "ulgd = True\n",
        "\n",
        "usuario_web = ['André Perez', idade, 'andre.perez', 'andre123', 'andre.perez@gmail.com', sc, ulgd]\n",
        "print(usuario_web)\n",
        "print(type(usuario_web))\n"
      ],
      "metadata": {
        "colab": {
          "base_uri": "https://localhost:8080/"
        },
        "id": "bkWiogSt1ZJf",
        "outputId": "ad6c5e5d-2320-4ad9-fd11-cec626a7a6ef"
      },
      "execution_count": null,
      "outputs": [
        {
          "output_type": "stream",
          "name": "stdout",
          "text": [
            "['André Perez', 20, 'andre.perez', 'andre123', 'andre.perez@gmail.com', 723.15, True]\n",
            "<class 'list'>\n"
          ]
        }
      ]
    },
    {
      "cell_type": "markdown",
      "source": [
        "1.3. Operações"
      ],
      "metadata": {
        "id": "znIM1FLEsHiv"
      }
    },
    {
      "cell_type": "code",
      "source": [
        "fabricantes_mobile_china = ['xiaomi', 'huawei']\n",
        "fabricantes_mobile_eua = ['apple', 'motorola']\n",
        "fabricantes_mobile = fabricantes_mobile_china + fabricantes_mobile_eua\n",
        "\n",
        "print(fabricantes_mobile_china)\n",
        "print(fabricantes_mobile_eua)\n",
        "print(fabricantes_mobile)\n"
      ],
      "metadata": {
        "colab": {
          "base_uri": "https://localhost:8080/"
        },
        "id": "na_p8ARQpeiE",
        "outputId": "79939d26-e908-4957-d5c2-bc3741bf774d"
      },
      "execution_count": 2,
      "outputs": [
        {
          "output_type": "stream",
          "name": "stdout",
          "text": [
            "['xiaomi', 'huawei']\n",
            "['apple', 'motorola']\n",
            "['xiaomi', 'huawei', 'apple', 'motorola']\n"
          ]
        }
      ]
    },
    {
      "cell_type": "code",
      "source": [
        "print(f'0: {fabricantes_mobile[0]}')\n",
        "print(f'-1: {fabricantes_mobile[-1]}')"
      ],
      "metadata": {
        "colab": {
          "base_uri": "https://localhost:8080/"
        },
        "id": "QNpRS2sfpuS5",
        "outputId": "2f774e6d-797b-4af1-d9e2-d9fe6c230539"
      },
      "execution_count": 3,
      "outputs": [
        {
          "output_type": "stream",
          "name": "stdout",
          "text": [
            "0: xiaomi\n",
            "-1: motorola\n"
          ]
        }
      ]
    },
    {
      "cell_type": "code",
      "source": [
        "fabricantes_mobile_china = fabricantes_mobile[0:2]\n",
        "fabricantes_mobile_eua = fabricantes_mobile[2:len(fabricantes_mobile)]\n",
        "print('china: ' + str(fabricantes_mobile_china))\n",
        "print('eua: ' + str(fabricantes_mobile_eua))"
      ],
      "metadata": {
        "colab": {
          "base_uri": "https://localhost:8080/"
        },
        "id": "1T49F-cpp27m",
        "outputId": "04257919-692a-44a5-a48e-3fa8a0fcaf55"
      },
      "execution_count": 4,
      "outputs": [
        {
          "output_type": "stream",
          "name": "stdout",
          "text": [
            "china: ['xiaomi', 'huawei']\n",
            "eua: ['apple', 'motorola']\n"
          ]
        }
      ]
    },
    {
      "cell_type": "code",
      "source": [
        " print(fabricantes_mobile)"
      ],
      "metadata": {
        "colab": {
          "base_uri": "https://localhost:8080/"
        },
        "id": "zYGLjj0rqUQK",
        "outputId": "797d5e22-57a2-4a23-ac97-dd4a4afca000"
      },
      "execution_count": 5,
      "outputs": [
        {
          "output_type": "stream",
          "name": "stdout",
          "text": [
            "['xiaomi', 'huawei', 'apple', 'motorola']\n"
          ]
        }
      ]
    },
    {
      "cell_type": "code",
      "source": [
        " fabricantes_mobile[2] = 'nokia'\n",
        "print(fabricantes_mobile)"
      ],
      "metadata": {
        "colab": {
          "base_uri": "https://localhost:8080/"
        },
        "id": "DjoNBGXEqrsX",
        "outputId": "780617de-717f-4b84-8f1b-09c4a366acc1"
      },
      "execution_count": 6,
      "outputs": [
        {
          "output_type": "stream",
          "name": "stdout",
          "text": [
            "['xiaomi', 'huawei', 'nokia', 'motorola']\n"
          ]
        }
      ]
    },
    {
      "cell_type": "markdown",
      "source": [
        "1.4. Métodos"
      ],
      "metadata": {
        "id": "36nelgvWrVP-"
      }
    },
    {
      "cell_type": "code",
      "source": [
        "juros = [0.05, 0.07, 0.02, 0.04, 0.08]\n",
        "print(juros)"
      ],
      "metadata": {
        "colab": {
          "base_uri": "https://localhost:8080/"
        },
        "id": "JFyQJmjZsRiH",
        "outputId": "864fe67e-4265-4efa-fb62-77d2c674b628"
      },
      "execution_count": 7,
      "outputs": [
        {
          "output_type": "stream",
          "name": "stdout",
          "text": [
            "[0.05, 0.07, 0.02, 0.04, 0.08]\n"
          ]
        }
      ]
    },
    {
      "cell_type": "code",
      "source": [
        "juros.insert(0, 0.10)\n",
        "print(juros)"
      ],
      "metadata": {
        "colab": {
          "base_uri": "https://localhost:8080/"
        },
        "id": "7M8rqpiesYMl",
        "outputId": "68468521-eb8f-49e3-f4b2-d6f527c615b9"
      },
      "execution_count": 8,
      "outputs": [
        {
          "output_type": "stream",
          "name": "stdout",
          "text": [
            "[0.1, 0.05, 0.07, 0.02, 0.04, 0.08]\n"
          ]
        }
      ]
    },
    {
      "cell_type": "code",
      "source": [
        "#inclui no final da lista o metodo \"APPEND\"\n",
        "juros.append(0.09)\n",
        "print(juros)"
      ],
      "metadata": {
        "colab": {
          "base_uri": "https://localhost:8080/"
        },
        "id": "iOBm_EX5wXnF",
        "outputId": "c45d54ab-1011-49e6-cf5d-86a409f8e4dc"
      },
      "execution_count": 9,
      "outputs": [
        {
          "output_type": "stream",
          "name": "stdout",
          "text": [
            "[0.1, 0.05, 0.07, 0.02, 0.04, 0.08, 0.09]\n"
          ]
        }
      ]
    },
    {
      "cell_type": "code",
      "source": [
        "#Remover valores especificos ultiliza o metodo \"REMOVE\"\n",
        "juros.remove(0.1)\n",
        "print(juros)"
      ],
      "metadata": {
        "colab": {
          "base_uri": "https://localhost:8080/"
        },
        "id": "vHYJBm-Fleeu",
        "outputId": "c86ec3ca-dc41-4957-91d8-e53ba7dfbd55"
      },
      "execution_count": 10,
      "outputs": [
        {
          "output_type": "stream",
          "name": "stdout",
          "text": [
            "[0.05, 0.07, 0.02, 0.04, 0.08, 0.09]\n"
          ]
        }
      ]
    }
  ]
}