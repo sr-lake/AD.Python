{
  "nbformat": 4,
  "nbformat_minor": 0,
  "metadata": {
    "colab": {
      "name": "Conjuntos PY.ipynb",
      "provenance": [],
      "collapsed_sections": [],
      "authorship_tag": "ABX9TyNnQrh4B9ZzuMZipQqOubar",
      "include_colab_link": true
    },
    "kernelspec": {
      "name": "python3",
      "display_name": "Python 3"
    },
    "language_info": {
      "name": "python"
    }
  },
  "cells": [
    {
      "cell_type": "markdown",
      "metadata": {
        "id": "view-in-github",
        "colab_type": "text"
      },
      "source": [
        "<a href=\"https://colab.research.google.com/github/sr-lake/AD.Python/blob/main/Conjuntos_PY.ipynb\" target=\"_parent\"><img src=\"https://colab.research.google.com/assets/colab-badge.svg\" alt=\"Open In Colab\"/></a>"
      ]
    },
    {
      "cell_type": "markdown",
      "source": [
        "2. Conjuntos\n",
        " \n",
        "2.1 Motivação\n",
        "- Você trabalha como analista de dados de mídias sociais e precisa descobrir todas as\n",
        "hashtags que alcançaram o top trending do Twitter durante uma semana. Você já\n",
        "conseguiu as hashtags por dia da semana:"
      ],
      "metadata": {
        "id": "bF6vIHWypCSi"
      }
    },
    {
      "cell_type": "code",
      "source": [
        "hashtags_seg = ['#tiago', '#joao', '#bbb']\n",
        "hashtags_ter = ['#sarah', '#bbb', '#fiuk']\n",
        "hashtags_qua = ['#gil', '#thelma', '#lourdes']\n",
        "hashtags_qui = ['#rafa', '#fora', '#danilo']\n",
        "hashtags_sex = ['#juliete', '#arthur', '#bbb']"
      ],
      "metadata": {
        "id": "j65RNxjopEK3"
      },
      "execution_count": null,
      "outputs": []
    },
    {
      "cell_type": "code",
      "source": [
        "hashtags_semana = hashtags_seg + hashtags_ter + hashtags_qua + hashtags_qui + hashtags_sex \n",
        "print(hashtags_semana)\n"
      ],
      "metadata": {
        "colab": {
          "base_uri": "https://localhost:8080/"
        },
        "id": "sq96laoLp0pw",
        "outputId": "7318e3c9-c50d-4d61-fa11-33a67fd8ac98"
      },
      "execution_count": 3,
      "outputs": [
        {
          "output_type": "stream",
          "name": "stdout",
          "text": [
            "['#tiago', '#joao', '#bbb', '#sarah', '#bbb', '#fiuk', '#gil', '#thelma', '#lourdes', '#rafa', '#fora', '#danilo', '#juliete', '#arthur', '#bbb']\n"
          ]
        }
      ]
    },
    {
      "cell_type": "markdown",
      "source": [
        "2.2. Definição\n",
        "Armazenam sequências imutáveis e desordenadas valores, sem repetição. São do tipo \n",
        "set :"
      ],
      "metadata": {
        "id": "luXUi9oQqVx3"
      }
    },
    {
      "cell_type": "code",
      "source": [
        "frutas = {'banana', 'maca', 'uva', 'uva'}\n",
        "print(frutas)\n",
        "print(type(frutas))"
      ],
      "metadata": {
        "colab": {
          "base_uri": "https://localhost:8080/"
        },
        "id": "WdrWsgcAqW2l",
        "outputId": "6f672127-c634-4001-c250-b0d207d66c29"
      },
      "execution_count": 4,
      "outputs": [
        {
          "output_type": "stream",
          "name": "stdout",
          "text": [
            "{'maca', 'uva', 'banana'}\n",
            "<class 'set'>\n"
          ]
        }
      ]
    },
    {
      "cell_type": "markdown",
      "source": [
        "2.3. Operações\n",
        "As operações da estrutura do tipo set são:\n",
        "- (diferença).\n",
        "Exemplo: Países da europa."
      ],
      "metadata": {
        "id": "5-NQUHVBu3sf"
      }
    },
    {
      "cell_type": "code",
      "source": [
        "norte_europa = {\n",
        " 'reino unido',\n",
        " 'suecia',\n",
        " 'russia',\n",
        " 'noruega',\n",
        " 'dinamarca'\n",
        "}\n",
        "escandinavia = {'noruega', 'dinamarca', 'suecia'}"
      ],
      "metadata": {
        "id": "umpKgnDAu8CF"
      },
      "execution_count": 5,
      "outputs": []
    },
    {
      "cell_type": "code",
      "source": [
        "norte_europa_nao_escandivano = norte_europa - escandinavia\n",
        "print(norte_europa_nao_escandivano)"
      ],
      "metadata": {
        "colab": {
          "base_uri": "https://localhost:8080/"
        },
        "id": "fVMafKTAvE8j",
        "outputId": "3e32b756-ad0b-4d82-ae3d-68c37dfa7324"
      },
      "execution_count": 6,
      "outputs": [
        {
          "output_type": "stream",
          "name": "stdout",
          "text": [
            "{'russia', 'reino unido'}\n"
          ]
        }
      ]
    },
    {
      "cell_type": "code",
      "source": [
        "escandivano_nao_norte_europa = escandinavia - norte_europa\n",
        "print(escandivano_nao_norte_europa)\n"
      ],
      "metadata": {
        "colab": {
          "base_uri": "https://localhost:8080/"
        },
        "id": "Gl_Kt_qhvG6W",
        "outputId": "b97b85ca-1006-441f-b272-d628c709280d"
      },
      "execution_count": 7,
      "outputs": [
        {
          "output_type": "stream",
          "name": "stdout",
          "text": [
            "set()\n"
          ]
        }
      ]
    },
    {
      "cell_type": "markdown",
      "source": [
        "2.4. Métodos\n",
        "São métodos nativos do Python que nos ajudam a trabalhar no dia a dia com conjuntos."
      ],
      "metadata": {
        "id": "pX_U56UAvLAV"
      }
    },
    {
      "cell_type": "code",
      "source": [
        "cursos = {'Exatas', 'Humanas', 'Biológicas'}\n",
        "print(cursos)"
      ],
      "metadata": {
        "colab": {
          "base_uri": "https://localhost:8080/"
        },
        "id": "WrPcSalTvN2S",
        "outputId": "ddc72113-6df4-42be-b3a6-dda021e276bc"
      },
      "execution_count": 9,
      "outputs": [
        {
          "output_type": "stream",
          "name": "stdout",
          "text": [
            "{'Humanas', 'Exatas', 'Biológicas'}\n"
          ]
        }
      ]
    },
    {
      "cell_type": "code",
      "source": [
        "# inserir um elemento no conjunto: set.add(val)\n",
        "cursos.add('Saúde')\n",
        "print(cursos)"
      ],
      "metadata": {
        "colab": {
          "base_uri": "https://localhost:8080/"
        },
        "id": "cW0cjHRUvlCd",
        "outputId": "b7de86ca-c8e2-4319-cb9e-60c370cc2272"
      },
      "execution_count": 10,
      "outputs": [
        {
          "output_type": "stream",
          "name": "stdout",
          "text": [
            "{'Humanas', 'Saúde', 'Exatas', 'Biológicas'}\n"
          ]
        }
      ]
    },
    {
      "cell_type": "code",
      "source": [
        "# remover um elemento no conjunto: set.remove(val)\n",
        "cursos.remove('Saúde')\n",
        "print(cursos)\n"
      ],
      "metadata": {
        "colab": {
          "base_uri": "https://localhost:8080/"
        },
        "id": "fSJukwU2vuFH",
        "outputId": "d8f4efdc-0645-4051-8d67-ab54bca605c7"
      },
      "execution_count": 11,
      "outputs": [
        {
          "output_type": "stream",
          "name": "stdout",
          "text": [
            "{'Humanas', 'Exatas', 'Biológicas'}\n"
          ]
        }
      ]
    }
  ]
}