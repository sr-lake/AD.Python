{
  "nbformat": 4,
  "nbformat_minor": 0,
  "metadata": {
    "colab": {
      "name": "Conjuntos PY.ipynb",
      "provenance": [],
      "authorship_tag": "ABX9TyP2gB1YImsP96oaFC91jOus",
      "include_colab_link": true
    },
    "kernelspec": {
      "name": "python3",
      "display_name": "Python 3"
    },
    "language_info": {
      "name": "python"
    }
  },
  "cells": [
    {
      "cell_type": "markdown",
      "metadata": {
        "id": "view-in-github",
        "colab_type": "text"
      },
      "source": [
        "<a href=\"https://colab.research.google.com/github/sr-lake/AD.Python/blob/main/Conjuntos_PY.ipynb\" target=\"_parent\"><img src=\"https://colab.research.google.com/assets/colab-badge.svg\" alt=\"Open In Colab\"/></a>"
      ]
    },
    {
      "cell_type": "markdown",
      "source": [
        "2. Conjuntos\n",
        " \n",
        "2.1 Motivação\n",
        "- Você trabalha como analista de dados de mídias sociais e precisa descobrir todas as\n",
        "hashtags que alcançaram o top trending do Twitter durante uma semana. Você já\n",
        "conseguiu as hashtags por dia da semana:"
      ],
      "metadata": {
        "id": "bF6vIHWypCSi"
      }
    },
    {
      "cell_type": "code",
      "source": [
        "hashtags_seg = ['#tiago', '#joao', '#bbb']\n",
        "hashtags_ter = ['#sarah', '#bbb', '#fiuk']\n",
        "hashtags_qua = ['#gil', '#thelma', '#lourdes']\n",
        "hashtags_qui = ['#rafa', '#fora', '#danilo']\n",
        "hashtags_sex = ['#juliete', '#arthur', '#bbb']"
      ],
      "metadata": {
        "id": "j65RNxjopEK3"
      },
      "execution_count": null,
      "outputs": []
    },
    {
      "cell_type": "code",
      "source": [
        "hashtags_semana = hashtags_seg + hashtags_ter + hashtags_qua + hashtags_qui + hashtags_sex \n",
        "print(hashtags_semana)\n"
      ],
      "metadata": {
        "colab": {
          "base_uri": "https://localhost:8080/"
        },
        "id": "sq96laoLp0pw",
        "outputId": "7318e3c9-c50d-4d61-fa11-33a67fd8ac98"
      },
      "execution_count": 3,
      "outputs": [
        {
          "output_type": "stream",
          "name": "stdout",
          "text": [
            "['#tiago', '#joao', '#bbb', '#sarah', '#bbb', '#fiuk', '#gil', '#thelma', '#lourdes', '#rafa', '#fora', '#danilo', '#juliete', '#arthur', '#bbb']\n"
          ]
        }
      ]
    },
    {
      "cell_type": "code",
      "source": [
        ""
      ],
      "metadata": {
        "id": "lTc166SgqE-v"
      },
      "execution_count": null,
      "outputs": []
    }
  ]
}