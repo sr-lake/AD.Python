{
  "nbformat": 4,
  "nbformat_minor": 0,
  "metadata": {
    "colab": {
      "name": "Exercício M2.ipynb",
      "provenance": [],
      "collapsed_sections": [],
      "authorship_tag": "ABX9TyO3XhyCcsglFL/DmCvPlYUD",
      "include_colab_link": true
    },
    "kernelspec": {
      "name": "python3",
      "display_name": "Python 3"
    },
    "language_info": {
      "name": "python"
    }
  },
  "cells": [
    {
      "cell_type": "markdown",
      "metadata": {
        "id": "view-in-github",
        "colab_type": "text"
      },
      "source": [
        "<a href=\"https://colab.research.google.com/github/sr-lake/AD.Python/blob/main/Exerc%C3%ADcio_M2.ipynb\" target=\"_parent\"><img src=\"https://colab.research.google.com/assets/colab-badge.svg\" alt=\"Open In Colab\"/></a>"
      ]
    },
    {
      "cell_type": "code",
      "execution_count": null,
      "metadata": {
        "id": "BYsIBkGX2MYM"
      },
      "outputs": [],
      "source": [
        "Exercício Modulo 02 - \n",
        "Ex:01 Lista"
      ]
    },
    {
      "cell_type": "code",
      "source": [
        "filmes = ['1. Um Sonho de Liberdade',\n",
        "\n",
        " '2. O Poderoso Chefão',\n",
        "\n",
        " '3.  Batman: O Cavaleiro das Trevas ',\n",
        "\n",
        " '4.  O Poderoso Chefão II',\n",
        "\n",
        " '5.  12 Homens e uma Sentença',\n",
        "\n",
        " '6. A Lista de Schindler ',\n",
        "\n",
        " '7. O Senhor dos Anéis: O Retorno do Rei ',\n",
        "\n",
        " '8. Pulp Fiction: Tempo de Violência ',\n",
        "\n",
        " '9. O Senhor dos Anéis: A Sociedade do Anel ',\n",
        "\n",
        " '10. Três Homens em Conflito']"
      ],
      "metadata": {
        "id": "fN3v2v142aGn"
      },
      "execution_count": null,
      "outputs": []
    },
    {
      "cell_type": "code",
      "source": [
        "print(filmes)\n",
        "print(type(filmes))"
      ],
      "metadata": {
        "id": "OJIWq4xv3BNz"
      },
      "execution_count": null,
      "outputs": []
    },
    {
      "cell_type": "code",
      "source": [
        "sorted(set(filmes), key=filmes.index)"
      ],
      "metadata": {
        "id": "iaDh5IAaCJbM"
      },
      "execution_count": null,
      "outputs": []
    },
    {
      "cell_type": "markdown",
      "source": [
        "Ex:1.2 - Listas"
      ],
      "metadata": {
        "id": "gGNiMUIb3nGp"
      }
    },
    {
      "cell_type": "code",
      "source": [
        "filmes[1] = '1. Um Sonho de Liberdade'\n",
        "filmes[0]= '2. O Poderoso Chefão'\n",
        "print(filmes)"
      ],
      "metadata": {
        "colab": {
          "base_uri": "https://localhost:8080/"
        },
        "id": "F-wy6Lyp8CBE",
        "outputId": "1f0455d5-f9b9-444c-8430-f9f245389dfa"
      },
      "execution_count": null,
      "outputs": [
        {
          "output_type": "stream",
          "name": "stdout",
          "text": [
            "['2. O Poderoso Chefão', '1. Um Sonho de Liberdade', '3.  Batman: O Cavaleiro das Trevas ', '4.  O Poderoso Chefão II', '5.  12 Homens e uma Sentença', '6. A Lista de Schindler ', '7. O Senhor dos Anéis: O Retorno do Rei ', '8. Pulp Fiction: Tempo de Violência ', '9. O Senhor dos Anéis: A Sociedade do Anel ', '10. Três Homens em Conflito']\n"
          ]
        }
      ]
    },
    {
      "cell_type": "code",
      "source": [
        "sorted(set(filmes), key=filmes.index)"
      ],
      "metadata": {
        "id": "86ZS_GEv3qOH",
        "colab": {
          "base_uri": "https://localhost:8080/"
        },
        "outputId": "39091db6-b4f0-411b-a4bb-0315f72f9280"
      },
      "execution_count": null,
      "outputs": [
        {
          "output_type": "execute_result",
          "data": {
            "text/plain": [
              "['2. O Poderoso Chefão',\n",
              " '1. Um Sonho de Liberdade',\n",
              " '3.  Batman: O Cavaleiro das Trevas ',\n",
              " '4.  O Poderoso Chefão II',\n",
              " '5.  12 Homens e uma Sentença',\n",
              " '6. A Lista de Schindler ',\n",
              " '7. O Senhor dos Anéis: O Retorno do Rei ',\n",
              " '8. Pulp Fiction: Tempo de Violência ',\n",
              " '9. O Senhor dos Anéis: A Sociedade do Anel ',\n",
              " '10. Três Homens em Conflito']"
            ]
          },
          "metadata": {},
          "execution_count": 38
        }
      ]
    },
    {
      "cell_type": "code",
      "source": [
        "filmes.pop(7)\n",
        "print(filmes)"
      ],
      "metadata": {
        "colab": {
          "base_uri": "https://localhost:8080/"
        },
        "id": "04nrWvGxB6Yv",
        "outputId": "ccd4975b-42a2-4e1c-bff6-f045b86c4207"
      },
      "execution_count": null,
      "outputs": [
        {
          "output_type": "stream",
          "name": "stdout",
          "text": [
            "['2. O Poderoso Chefão', '1. Um Sonho de Liberdade', '3.  Batman: O Cavaleiro das Trevas ', '4.  O Poderoso Chefão II', '5.  12 Homens e uma Sentença', '6. A Lista de Schindler ', '7. O Senhor dos Anéis: O Retorno do Rei ', '9. O Senhor dos Anéis: A Sociedade do Anel ', '10. Três Homens em Conflito']\n"
          ]
        }
      ]
    },
    {
      "cell_type": "code",
      "source": [
        "sorted(set(filmes), key=filmes.index)"
      ],
      "metadata": {
        "colab": {
          "base_uri": "https://localhost:8080/"
        },
        "id": "c90B-JoYDZ8Q",
        "outputId": "155c04c8-988e-4cda-ce78-264087ce4cfe"
      },
      "execution_count": null,
      "outputs": [
        {
          "output_type": "execute_result",
          "data": {
            "text/plain": [
              "['2. O Poderoso Chefão',\n",
              " '1. Um Sonho de Liberdade',\n",
              " '3.  Batman: O Cavaleiro das Trevas ',\n",
              " '4.  O Poderoso Chefão II',\n",
              " '5.  12 Homens e uma Sentença',\n",
              " '6. A Lista de Schindler ',\n",
              " '7. O Senhor dos Anéis: O Retorno do Rei ',\n",
              " '9. O Senhor dos Anéis: A Sociedade do Anel ',\n",
              " '10. Três Homens em Conflito']"
            ]
          },
          "metadata": {},
          "execution_count": 43
        }
      ]
    },
    {
      "cell_type": "code",
      "source": [
        "from collections import OrderedDict\n",
        "\n",
        "\n",
        "\n",
        "lista = input('Aperte qualquer tecla para visualizar nome dos 10 primeiros filmes mais bem avaliados no site no IMDB \\n ')\n",
        "\n",
        "filmes = ['1. Um Sonho de Liberdade ','2. O Poderoso Chefão','3. O Poderoso Chefão II','4. Batman: O Cavaleiro das Trevas',\n",
        "\n",
        "'5. 12 Homens e uma Sentença','6. A Lista de Schindler','7. O Senhor dos Anéis: O Retorno do Rei','8. Pulp Fiction: Tempo de Violência',\n",
        "\n",
        "'9. Três Homens em Conflito ','10. O Senhor dos Anéis: A Sociedade do Anel',\n",
        "\n",
        "'10. O Senhor dos Anéis: A Sociedade do Anel',\n",
        "\n",
        "'10. O Senhor dos Anéis: A Sociedade do Anel']\n",
        "\n",
        "\n",
        "\n",
        "# print(filmes)\n",
        "\n",
        "# list(set(filmes)) porem sai da ordem \n",
        "\n",
        "\n",
        "\n",
        "OrderedDict.fromkeys(filmes)\n",
        "\n",
        "\n",
        "\n",
        "filmes_new_lista = list(OrderedDict.fromkeys(filmes))\n",
        "\n",
        "\n",
        "\n",
        "list(filmes_new_lista)"
      ],
      "metadata": {
        "id": "HUYy0dtnLNYX"
      },
      "execution_count": null,
      "outputs": []
    },
    {
      "cell_type": "markdown",
      "source": [
        "EX:02 - Conjunto"
      ],
      "metadata": {
        "id": "8m475Cy2O9od"
      }
    },
    {
      "cell_type": "code",
      "source": [
        "filmes = {'1. Um Sonho de Liberdade',\n",
        " '2. O Poderoso Chefão', \n",
        " '3.  Batman: O Cavaleiro das Trevas ',\n",
        " '4.  O Poderoso Chefão II',\n",
        " '5.  12 Homens e uma Sentença'\n",
        " '6. A Lista de Schindler ',\n",
        " '7. O Senhor dos Anéis: O Retorno do Rei ', \n",
        " '8. Pulp Fiction: Tempo de Violência ',\n",
        " '9. O Senhor dos Anéis: A Sociedade do Anel ',\n",
        " '10. Três Homens em Conflito', \n",
        " '8. Pulp Fiction: Tempo de Violência ',\n",
        " '9. O Senhor dos Anéis: A Sociedade do Anel ',\n",
        " '10. Três Homens em Conflito'}"
      ],
      "metadata": {
        "id": "nofEkUuhPJnZ"
      },
      "execution_count": null,
      "outputs": []
    },
    {
      "cell_type": "code",
      "source": [
        "print(filmes)\n",
        "print(type(filmes))"
      ],
      "metadata": {
        "colab": {
          "base_uri": "https://localhost:8080/"
        },
        "id": "0l9vE5fwWnGW",
        "outputId": "9e097554-801c-486f-c404-e7114e7dc196"
      },
      "execution_count": null,
      "outputs": [
        {
          "output_type": "stream",
          "name": "stdout",
          "text": [
            "{'2. O Poderoso Chefão', '5.  12 Homens e uma Sentença6. A Lista de Schindler ', '4.  O Poderoso Chefão II', '1. Um Sonho de Liberdade', '8. Pulp Fiction: Tempo de Violência ', '9. O Senhor dos Anéis: A Sociedade do Anel ', '3.  Batman: O Cavaleiro das Trevas ', '10. Três Homens em Conflito', '7. O Senhor dos Anéis: O Retorno do Rei '}\n",
            "<class 'set'>\n"
          ]
        }
      ]
    },
    {
      "cell_type": "code",
      "source": [
        "sorted(list(filmes), key=filmes.index)"
      ],
      "metadata": {
        "colab": {
          "base_uri": "https://localhost:8080/"
        },
        "id": "3jyDmLfyPuxZ",
        "outputId": "5158050d-5f0b-4570-a78a-71adbd3bb67b"
      },
      "execution_count": null,
      "outputs": [
        {
          "output_type": "execute_result",
          "data": {
            "text/plain": [
              "['1. Um Sonho de Liberdade',\n",
              " '2. O Poderoso Chefão',\n",
              " '3.  Batman: O Cavaleiro das Trevas ',\n",
              " '4.  O Poderoso Chefão II',\n",
              " '5.  12 Homens e uma Sentença6. A Lista de Schindler ',\n",
              " '7. O Senhor dos Anéis: O Retorno do Rei ',\n",
              " '8. Pulp Fiction: Tempo de Violência ',\n",
              " '8. Pulp Fiction: Tempo de Violência ',\n",
              " '9. O Senhor dos Anéis: A Sociedade do Anel ',\n",
              " '9. O Senhor dos Anéis: A Sociedade do Anel ',\n",
              " '10. Três Homens em Conflito',\n",
              " '10. Três Homens em Conflito']"
            ]
          },
          "metadata": {},
          "execution_count": 3
        }
      ]
    },
    {
      "cell_type": "code",
      "source": [
        "sorted(set(filmes), key=filmes.index)"
      ],
      "metadata": {
        "colab": {
          "base_uri": "https://localhost:8080/"
        },
        "id": "rNgdAaLIQZ9L",
        "outputId": "fa51e135-e289-4af5-8445-71fe0b643d91"
      },
      "execution_count": null,
      "outputs": [
        {
          "output_type": "execute_result",
          "data": {
            "text/plain": [
              "['1. Um Sonho de Liberdade',\n",
              " '2. O Poderoso Chefão',\n",
              " '3.  Batman: O Cavaleiro das Trevas ',\n",
              " '4.  O Poderoso Chefão II',\n",
              " '5.  12 Homens e uma Sentença6. A Lista de Schindler ',\n",
              " '7. O Senhor dos Anéis: O Retorno do Rei ',\n",
              " '8. Pulp Fiction: Tempo de Violência ',\n",
              " '9. O Senhor dos Anéis: A Sociedade do Anel ',\n",
              " '10. Três Homens em Conflito']"
            ]
          },
          "metadata": {},
          "execution_count": 4
        }
      ]
    },
    {
      "cell_type": "code",
      "source": [
        "print(type(filmes))"
      ],
      "metadata": {
        "colab": {
          "base_uri": "https://localhost:8080/"
        },
        "id": "bLvzoxFIkL2r",
        "outputId": "1ebb9099-c91d-4ea3-89ca-3edfb9609abc"
      },
      "execution_count": null,
      "outputs": [
        {
          "output_type": "stream",
          "name": "stdout",
          "text": [
            "<class 'set'>\n"
          ]
        }
      ]
    },
    {
      "cell_type": "markdown",
      "source": [
        "EX:03. Dicionários\n"
      ],
      "metadata": {
        "id": "vKRk2SG0VPv3"
      }
    },
    {
      "cell_type": "code",
      "source": [
        "filmes = ('1.Um Sonho de Liberdade', '2.O Poderoso Chefão', '3.O Poderoso Chefão II ', '4.Batman: O Cavaleiro das Trevas', '5.12 Homens e uma Sentença', '6.A Lista de Schindler ', '7.O Senhor dos Anéis: O Retorno do Rei ', '8.Pulp Fiction: Tempo de Violência ', '9.Três Homens em Conflito ', '10.O Senhor dos Anéis: A Sociedade do Anel')\n",
        "\n",
        "ano = (1994,1972,1974,2008,1957,1993,2003,1994,1966,2001)\n",
        "\n",
        "sinopse=('a','b','c','d','e','f','g','h','i','j')   "
      ],
      "metadata": {
        "id": "lw2NPUS9ZRsp"
      },
      "execution_count": null,
      "outputs": []
    },
    {
      "cell_type": "code",
      "source": [
        ""
      ],
      "metadata": {
        "id": "Ht5eiYZOk8QY"
      },
      "execution_count": null,
      "outputs": []
    },
    {
      "cell_type": "code",
      "source": [
        "print(filmes, ano, sinopse)"
      ],
      "metadata": {
        "colab": {
          "base_uri": "https://localhost:8080/"
        },
        "id": "VHbtaOMDZk4U",
        "outputId": "82495086-7ecc-4d9a-f72c-fb9b13b89b52"
      },
      "execution_count": null,
      "outputs": [
        {
          "output_type": "stream",
          "name": "stdout",
          "text": [
            "('1.Um Sonho de Liberdade', '2.O Poderoso Chefão', '3.O Poderoso Chefão II ', '4.Batman: O Cavaleiro das Trevas', '5.12 Homens e uma Sentença', '6.A Lista de Schindler ', '7.O Senhor dos Anéis: O Retorno do Rei ', '8.Pulp Fiction: Tempo de Violência ', '9.Três Homens em Conflito ', '10.O Senhor dos Anéis: A Sociedade do Anel') (1994, 1972, 1974, 2008, 1957, 1993, 2003, 1994, 1966, 2001) ('a', 'b', 'c', 'd', 'e', 'f', 'g', 'h', 'i', 'j')\n"
          ]
        }
      ]
    },
    {
      "cell_type": "code",
      "source": [
        "sorted(set(filmes), key=filmes.index)"
      ],
      "metadata": {
        "colab": {
          "base_uri": "https://localhost:8080/"
        },
        "id": "Mq1d8yDnZ3s8",
        "outputId": "628d5f1d-7faa-48d9-a65b-82b6f835513b"
      },
      "execution_count": null,
      "outputs": [
        {
          "output_type": "execute_result",
          "data": {
            "text/plain": [
              "['1.Um Sonho de Liberdade',\n",
              " '2.O Poderoso Chefão',\n",
              " '3.O Poderoso Chefão II ',\n",
              " '4.Batman: O Cavaleiro das Trevas',\n",
              " '5.12 Homens e uma Sentença',\n",
              " '6.A Lista de Schindler ',\n",
              " '7.O Senhor dos Anéis: O Retorno do Rei ',\n",
              " '8.Pulp Fiction: Tempo de Violência ',\n",
              " '9.Três Homens em Conflito ',\n",
              " '10.O Senhor dos Anéis: A Sociedade do Anel']"
            ]
          },
          "metadata": {},
          "execution_count": 7
        }
      ]
    },
    {
      "cell_type": "code",
      "source": [
        "rank_top_filmes = {\n",
        "    'nome_filmes': {\n",
        "        '1': 'Um Sonho de Liberdade',\n",
        "         'ano' : '1994',\n",
        "         'sinopse' : 'Dois homens presos se reúnem ao longo de vários anos, encontrando consolo e eventual redenção através de atos de decência comum.',\n",
        "         '2': 'O poderoso chefão',\n",
        "         'ano' : '1994',\n",
        "         'sinopse' : 'comum.',\n",
        "       } \n",
        "}\n"
      ],
      "metadata": {
        "id": "YvHHBvt8JDDM"
      },
      "execution_count": 24,
      "outputs": []
    },
    {
      "cell_type": "code",
      "source": [
        "rank_top_filmes['nome_filmes']['sinopse']"
      ],
      "metadata": {
        "colab": {
          "base_uri": "https://localhost:8080/",
          "height": 35
        },
        "id": "qodEg4XYRnx7",
        "outputId": "43cec604-f3f4-408d-a356-a7fc6153b060"
      },
      "execution_count": 30,
      "outputs": [
        {
          "output_type": "execute_result",
          "data": {
            "text/plain": [
              "'comum.'"
            ],
            "application/vnd.google.colaboratory.intrinsic+json": {
              "type": "string"
            }
          },
          "metadata": {},
          "execution_count": 30
        }
      ]
    }
  ]
}