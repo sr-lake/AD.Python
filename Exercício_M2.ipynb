{
  "nbformat": 4,
  "nbformat_minor": 0,
  "metadata": {
    "colab": {
      "name": "Exercício M2.ipynb",
      "provenance": [],
      "collapsed_sections": [],
      "authorship_tag": "ABX9TyOxWQFxTYwqJ3c3FGRMt7sF",
      "include_colab_link": true
    },
    "kernelspec": {
      "name": "python3",
      "display_name": "Python 3"
    },
    "language_info": {
      "name": "python"
    }
  },
  "cells": [
    {
      "cell_type": "markdown",
      "metadata": {
        "id": "view-in-github",
        "colab_type": "text"
      },
      "source": [
        "<a href=\"https://colab.research.google.com/github/sr-lake/AD.Python/blob/main/Exerc%C3%ADcio_M2.ipynb\" target=\"_parent\"><img src=\"https://colab.research.google.com/assets/colab-badge.svg\" alt=\"Open In Colab\"/></a>"
      ]
    },
    {
      "cell_type": "code",
      "execution_count": null,
      "metadata": {
        "id": "BYsIBkGX2MYM"
      },
      "outputs": [],
      "source": [
        "Exercício Modulo 02 - \n",
        "Ex:01 Lista"
      ]
    },
    {
      "cell_type": "code",
      "source": [
        "filmes = ['1. Um Sonho de Liberdade',\n",
        "\n",
        " '2. O Poderoso Chefão',\n",
        "\n",
        " '3.  Batman: O Cavaleiro das Trevas ',\n",
        "\n",
        " '4.  O Poderoso Chefão II',\n",
        "\n",
        " '5.  12 Homens e uma Sentença',\n",
        "\n",
        " '6. A Lista de Schindler ',\n",
        "\n",
        " '7. O Senhor dos Anéis: O Retorno do Rei ',\n",
        "\n",
        " '8. Pulp Fiction: Tempo de Violência ',\n",
        "\n",
        " '9. O Senhor dos Anéis: A Sociedade do Anel ',\n",
        "\n",
        " '10. Três Homens em Conflito']"
      ],
      "metadata": {
        "id": "fN3v2v142aGn"
      },
      "execution_count": 23,
      "outputs": []
    },
    {
      "cell_type": "code",
      "source": [
        "print(filmes)\n",
        "print(type(filmes))"
      ],
      "metadata": {
        "colab": {
          "base_uri": "https://localhost:8080/"
        },
        "id": "OJIWq4xv3BNz",
        "outputId": "31f69560-0b7e-4388-e324-3c24faef1a5a"
      },
      "execution_count": 24,
      "outputs": [
        {
          "output_type": "stream",
          "name": "stdout",
          "text": [
            "['1. Um Sonho de Liberdade', '2. O Poderoso Chefão', '3.  Batman: O Cavaleiro das Trevas ', '4.  O Poderoso Chefão II', '5.  12 Homens e uma Sentença', '6. A Lista de Schindler ', '7. O Senhor dos Anéis: O Retorno do Rei ', '8. Pulp Fiction: Tempo de Violência ', '9. O Senhor dos Anéis: A Sociedade do Anel ', '10. Três Homens em Conflito']\n",
            "<class 'list'>\n"
          ]
        }
      ]
    },
    {
      "cell_type": "code",
      "source": [
        "sorted(set(filmes), key=filmes.index)"
      ],
      "metadata": {
        "colab": {
          "base_uri": "https://localhost:8080/"
        },
        "id": "oFIXN-PM5MEB",
        "outputId": "62bfd48f-9236-46c6-bc33-b476604f5c21"
      },
      "execution_count": 25,
      "outputs": [
        {
          "output_type": "execute_result",
          "data": {
            "text/plain": [
              "['1. Um Sonho de Liberdade',\n",
              " '2. O Poderoso Chefão',\n",
              " '3.  Batman: O Cavaleiro das Trevas ',\n",
              " '4.  O Poderoso Chefão II',\n",
              " '5.  12 Homens e uma Sentença',\n",
              " '6. A Lista de Schindler ',\n",
              " '7. O Senhor dos Anéis: O Retorno do Rei ',\n",
              " '8. Pulp Fiction: Tempo de Violência ',\n",
              " '9. O Senhor dos Anéis: A Sociedade do Anel ',\n",
              " '10. Três Homens em Conflito']"
            ]
          },
          "metadata": {},
          "execution_count": 25
        }
      ]
    },
    {
      "cell_type": "markdown",
      "source": [
        "Ex:1.2 - Listas"
      ],
      "metadata": {
        "id": "gGNiMUIb3nGp"
      }
    },
    {
      "cell_type": "code",
      "source": [
        "filmes[1] = '1. Um Sonho de Liberdade'\n",
        "filmes[0]= '2. O Poderoso Chefão'\n",
        "print(filmes)"
      ],
      "metadata": {
        "colab": {
          "base_uri": "https://localhost:8080/"
        },
        "id": "F-wy6Lyp8CBE",
        "outputId": "1f0455d5-f9b9-444c-8430-f9f245389dfa"
      },
      "execution_count": 37,
      "outputs": [
        {
          "output_type": "stream",
          "name": "stdout",
          "text": [
            "['2. O Poderoso Chefão', '1. Um Sonho de Liberdade', '3.  Batman: O Cavaleiro das Trevas ', '4.  O Poderoso Chefão II', '5.  12 Homens e uma Sentença', '6. A Lista de Schindler ', '7. O Senhor dos Anéis: O Retorno do Rei ', '8. Pulp Fiction: Tempo de Violência ', '9. O Senhor dos Anéis: A Sociedade do Anel ', '10. Três Homens em Conflito']\n"
          ]
        }
      ]
    },
    {
      "cell_type": "code",
      "source": [
        "sorted(set(filmes), key=filmes.index)"
      ],
      "metadata": {
        "id": "86ZS_GEv3qOH",
        "colab": {
          "base_uri": "https://localhost:8080/"
        },
        "outputId": "39091db6-b4f0-411b-a4bb-0315f72f9280"
      },
      "execution_count": 38,
      "outputs": [
        {
          "output_type": "execute_result",
          "data": {
            "text/plain": [
              "['2. O Poderoso Chefão',\n",
              " '1. Um Sonho de Liberdade',\n",
              " '3.  Batman: O Cavaleiro das Trevas ',\n",
              " '4.  O Poderoso Chefão II',\n",
              " '5.  12 Homens e uma Sentença',\n",
              " '6. A Lista de Schindler ',\n",
              " '7. O Senhor dos Anéis: O Retorno do Rei ',\n",
              " '8. Pulp Fiction: Tempo de Violência ',\n",
              " '9. O Senhor dos Anéis: A Sociedade do Anel ',\n",
              " '10. Três Homens em Conflito']"
            ]
          },
          "metadata": {},
          "execution_count": 38
        }
      ]
    },
    {
      "cell_type": "code",
      "source": [
        "filmes.pop(7)\n",
        "print(filmes)"
      ],
      "metadata": {
        "colab": {
          "base_uri": "https://localhost:8080/"
        },
        "id": "04nrWvGxB6Yv",
        "outputId": "ccd4975b-42a2-4e1c-bff6-f045b86c4207"
      },
      "execution_count": 42,
      "outputs": [
        {
          "output_type": "stream",
          "name": "stdout",
          "text": [
            "['2. O Poderoso Chefão', '1. Um Sonho de Liberdade', '3.  Batman: O Cavaleiro das Trevas ', '4.  O Poderoso Chefão II', '5.  12 Homens e uma Sentença', '6. A Lista de Schindler ', '7. O Senhor dos Anéis: O Retorno do Rei ', '9. O Senhor dos Anéis: A Sociedade do Anel ', '10. Três Homens em Conflito']\n"
          ]
        }
      ]
    },
    {
      "cell_type": "code",
      "source": [
        "sorted(set(filmes), key=filmes.index)"
      ],
      "metadata": {
        "colab": {
          "base_uri": "https://localhost:8080/"
        },
        "id": "c90B-JoYDZ8Q",
        "outputId": "155c04c8-988e-4cda-ce78-264087ce4cfe"
      },
      "execution_count": 43,
      "outputs": [
        {
          "output_type": "execute_result",
          "data": {
            "text/plain": [
              "['2. O Poderoso Chefão',\n",
              " '1. Um Sonho de Liberdade',\n",
              " '3.  Batman: O Cavaleiro das Trevas ',\n",
              " '4.  O Poderoso Chefão II',\n",
              " '5.  12 Homens e uma Sentença',\n",
              " '6. A Lista de Schindler ',\n",
              " '7. O Senhor dos Anéis: O Retorno do Rei ',\n",
              " '9. O Senhor dos Anéis: A Sociedade do Anel ',\n",
              " '10. Três Homens em Conflito']"
            ]
          },
          "metadata": {},
          "execution_count": 43
        }
      ]
    },
    {
      "cell_type": "code",
      "source": [
        "from collections import OrderedDict\n",
        "\n",
        "\n",
        "\n",
        "lista = input('Aperte qualquer tecla para visualizar nome dos 10 primeiros filmes mais bem avaliados no site no IMDB \\n ')\n",
        "\n",
        "filmes = ['1. Um Sonho de Liberdade ','2. O Poderoso Chefão','3. O Poderoso Chefão II','4. Batman: O Cavaleiro das Trevas',\n",
        "\n",
        "'5. 12 Homens e uma Sentença','6. A Lista de Schindler','7. O Senhor dos Anéis: O Retorno do Rei','8. Pulp Fiction: Tempo de Violência',\n",
        "\n",
        "'9. Três Homens em Conflito ','10. O Senhor dos Anéis: A Sociedade do Anel',\n",
        "\n",
        "'10. O Senhor dos Anéis: A Sociedade do Anel',\n",
        "\n",
        "'10. O Senhor dos Anéis: A Sociedade do Anel']\n",
        "\n",
        "\n",
        "\n",
        "# print(filmes)\n",
        "\n",
        "# list(set(filmes)) porem sai da ordem \n",
        "\n",
        "\n",
        "\n",
        "OrderedDict.fromkeys(filmes)\n",
        "\n",
        "\n",
        "\n",
        "filmes_new_lista = list(OrderedDict.fromkeys(filmes))\n",
        "\n",
        "\n",
        "\n",
        "list(filmes_new_lista)"
      ],
      "metadata": {
        "colab": {
          "base_uri": "https://localhost:8080/"
        },
        "id": "HUYy0dtnLNYX",
        "outputId": "4877b3f3-f0d7-4b81-c46a-b46305aaeb9b"
      },
      "execution_count": 50,
      "outputs": [
        {
          "name": "stdout",
          "output_type": "stream",
          "text": [
            "Aperte qualquer tecla para visualizar nome dos 10 primeiros filmes mais bem avaliados no site no IMDB \n",
            " \n"
          ]
        },
        {
          "output_type": "execute_result",
          "data": {
            "text/plain": [
              "['1. Um Sonho de Liberdade ',\n",
              " '2. O Poderoso Chefão',\n",
              " '3. O Poderoso Chefão II',\n",
              " '4. Batman: O Cavaleiro das Trevas',\n",
              " '5. 12 Homens e uma Sentença',\n",
              " '6. A Lista de Schindler',\n",
              " '7. O Senhor dos Anéis: O Retorno do Rei',\n",
              " '8. Pulp Fiction: Tempo de Violência',\n",
              " '9. Três Homens em Conflito ',\n",
              " '10. O Senhor dos Anéis: A Sociedade do Anel']"
            ]
          },
          "metadata": {},
          "execution_count": 50
        }
      ]
    },
    {
      "cell_type": "markdown",
      "source": [
        "EX:02 - Conjunto"
      ],
      "metadata": {
        "id": "8m475Cy2O9od"
      }
    },
    {
      "cell_type": "code",
      "source": [
        "filmes = ['1. Um Sonho de Liberdade',\n",
        " '2. O Poderoso Chefão', \n",
        " '3.  Batman: O Cavaleiro das Trevas ',\n",
        " '4.  O Poderoso Chefão II',\n",
        " '5.  12 Homens e uma Sentença'\n",
        " '6. A Lista de Schindler ',\n",
        " '7. O Senhor dos Anéis: O Retorno do Rei ', \n",
        " '8. Pulp Fiction: Tempo de Violência ',\n",
        " '9. O Senhor dos Anéis: A Sociedade do Anel ',\n",
        " '10. Três Homens em Conflito', \n",
        " '8. Pulp Fiction: Tempo de Violência ',\n",
        " '9. O Senhor dos Anéis: A Sociedade do Anel ',\n",
        " '10. Três Homens em Conflito']"
      ],
      "metadata": {
        "id": "nofEkUuhPJnZ"
      },
      "execution_count": 67,
      "outputs": []
    },
    {
      "cell_type": "code",
      "source": [
        "print(filmes)"
      ],
      "metadata": {
        "colab": {
          "base_uri": "https://localhost:8080/"
        },
        "id": "0l9vE5fwWnGW",
        "outputId": "2bdbf967-d212-425d-d8bc-fba9888bf87a"
      },
      "execution_count": 68,
      "outputs": [
        {
          "output_type": "stream",
          "name": "stdout",
          "text": [
            "['1. Um Sonho de Liberdade', '2. O Poderoso Chefão', '3.  Batman: O Cavaleiro das Trevas ', '4.  O Poderoso Chefão II', '5.  12 Homens e uma Sentença6. A Lista de Schindler ', '7. O Senhor dos Anéis: O Retorno do Rei ', '8. Pulp Fiction: Tempo de Violência ', '9. O Senhor dos Anéis: A Sociedade do Anel ', '10. Três Homens em Conflito', '8. Pulp Fiction: Tempo de Violência ', '9. O Senhor dos Anéis: A Sociedade do Anel ', '10. Três Homens em Conflito']\n"
          ]
        }
      ]
    },
    {
      "cell_type": "code",
      "source": [
        "sorted(list(filmes), key=filmes.index)"
      ],
      "metadata": {
        "colab": {
          "base_uri": "https://localhost:8080/"
        },
        "id": "3jyDmLfyPuxZ",
        "outputId": "0b5eaa3e-628c-4918-b1af-01105bcba6a4"
      },
      "execution_count": 60,
      "outputs": [
        {
          "output_type": "execute_result",
          "data": {
            "text/plain": [
              "['1. Um Sonho de Liberdade',\n",
              " '2. O Poderoso Chefão',\n",
              " '3.  Batman: O Cavaleiro das Trevas ',\n",
              " '4.  O Poderoso Chefão II',\n",
              " '5.  12 Homens e uma Sentença',\n",
              " '6. A Lista de Schindler ',\n",
              " '7. O Senhor dos Anéis: O Retorno do Rei ',\n",
              " '8. Pulp Fiction: Tempo de Violência ',\n",
              " '8. Pulp Fiction: Tempo de Violência ',\n",
              " '9. O Senhor dos Anéis: A Sociedade do Anel ',\n",
              " '9. O Senhor dos Anéis: A Sociedade do Anel ',\n",
              " '10. Três Homens em Conflito',\n",
              " '10. Três Homens em Conflito']"
            ]
          },
          "metadata": {},
          "execution_count": 60
        }
      ]
    },
    {
      "cell_type": "code",
      "source": [
        "sorted(set(filmes), key=filmes.index)"
      ],
      "metadata": {
        "colab": {
          "base_uri": "https://localhost:8080/"
        },
        "id": "rNgdAaLIQZ9L",
        "outputId": "84addf38-3079-4bf6-da65-82550f7d137d"
      },
      "execution_count": 61,
      "outputs": [
        {
          "output_type": "execute_result",
          "data": {
            "text/plain": [
              "['1. Um Sonho de Liberdade',\n",
              " '2. O Poderoso Chefão',\n",
              " '3.  Batman: O Cavaleiro das Trevas ',\n",
              " '4.  O Poderoso Chefão II',\n",
              " '5.  12 Homens e uma Sentença',\n",
              " '6. A Lista de Schindler ',\n",
              " '7. O Senhor dos Anéis: O Retorno do Rei ',\n",
              " '8. Pulp Fiction: Tempo de Violência ',\n",
              " '9. O Senhor dos Anéis: A Sociedade do Anel ',\n",
              " '10. Três Homens em Conflito']"
            ]
          },
          "metadata": {},
          "execution_count": 61
        }
      ]
    },
    {
      "cell_type": "markdown",
      "source": [
        "EX:03. Dicionários\n"
      ],
      "metadata": {
        "id": "vKRk2SG0VPv3"
      }
    },
    {
      "cell_type": "code",
      "source": [
        "filmes = ('1.Um Sonho de Liberdade', '2.O Poderoso Chefão', '3.O Poderoso Chefão II ', '4.Batman: O Cavaleiro das Trevas', '5.12 Homens e uma Sentença', '6.A Lista de Schindler ', '7.O Senhor dos Anéis: O Retorno do Rei ', '8.Pulp Fiction: Tempo de Violência ', '9.Três Homens em Conflito ', '10.O Senhor dos Anéis: A Sociedade do Anel')\n",
        "\n",
        "ano = (1994,1972,1974,2008,1957,1993,2003,1994,1966,2001)\n",
        "\n",
        "sinopse=('a','b','c','d','e','f','g','h','i','j')   "
      ],
      "metadata": {
        "id": "lw2NPUS9ZRsp"
      },
      "execution_count": 69,
      "outputs": []
    },
    {
      "cell_type": "code",
      "source": [
        "print(filmes, ano, sinopse)"
      ],
      "metadata": {
        "colab": {
          "base_uri": "https://localhost:8080/"
        },
        "id": "VHbtaOMDZk4U",
        "outputId": "678d0e70-e345-46ed-9923-4a18dc26c116"
      },
      "execution_count": 71,
      "outputs": [
        {
          "output_type": "stream",
          "name": "stdout",
          "text": [
            "('1.Um Sonho de Liberdade', '2.O Poderoso Chefão', '3.O Poderoso Chefão II ', '4.Batman: O Cavaleiro das Trevas', '5.12 Homens e uma Sentença', '6.A Lista de Schindler ', '7.O Senhor dos Anéis: O Retorno do Rei ', '8.Pulp Fiction: Tempo de Violência ', '9.Três Homens em Conflito ', '10.O Senhor dos Anéis: A Sociedade do Anel') (1994, 1972, 1974, 2008, 1957, 1993, 2003, 1994, 1966, 2001) ('a', 'b', 'c', 'd', 'e', 'f', 'g', 'h', 'i', 'j')\n"
          ]
        }
      ]
    },
    {
      "cell_type": "code",
      "source": [
        "sorted(set(filmes), key=filmes.index)"
      ],
      "metadata": {
        "colab": {
          "base_uri": "https://localhost:8080/"
        },
        "id": "Mq1d8yDnZ3s8",
        "outputId": "45c9e9f5-3cbf-4481-bf65-36387554c305"
      },
      "execution_count": 75,
      "outputs": [
        {
          "output_type": "execute_result",
          "data": {
            "text/plain": [
              "['1.Um Sonho de Liberdade',\n",
              " '2.O Poderoso Chefão',\n",
              " '3.O Poderoso Chefão II ',\n",
              " '4.Batman: O Cavaleiro das Trevas',\n",
              " '5.12 Homens e uma Sentença',\n",
              " '6.A Lista de Schindler ',\n",
              " '7.O Senhor dos Anéis: O Retorno do Rei ',\n",
              " '8.Pulp Fiction: Tempo de Violência ',\n",
              " '9.Três Homens em Conflito ',\n",
              " '10.O Senhor dos Anéis: A Sociedade do Anel']"
            ]
          },
          "metadata": {},
          "execution_count": 75
        }
      ]
    }
  ]
}