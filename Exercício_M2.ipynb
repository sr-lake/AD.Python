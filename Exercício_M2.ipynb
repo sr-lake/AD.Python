{
  "nbformat": 4,
  "nbformat_minor": 0,
  "metadata": {
    "colab": {
      "name": "Exercício M2.ipynb",
      "provenance": [],
      "collapsed_sections": [],
      "authorship_tag": "ABX9TyOFxOz6pptCimzY+P0pWobt",
      "include_colab_link": true
    },
    "kernelspec": {
      "name": "python3",
      "display_name": "Python 3"
    },
    "language_info": {
      "name": "python"
    }
  },
  "cells": [
    {
      "cell_type": "markdown",
      "metadata": {
        "id": "view-in-github",
        "colab_type": "text"
      },
      "source": [
        "<a href=\"https://colab.research.google.com/github/sr-lake/AD.Python/blob/main/Exerc%C3%ADcio_M2.ipynb\" target=\"_parent\"><img src=\"https://colab.research.google.com/assets/colab-badge.svg\" alt=\"Open In Colab\"/></a>"
      ]
    },
    {
      "cell_type": "markdown",
      "source": [
        "Exercício Modulo 02 - \n",
        "Ex:01 Lista"
      ],
      "metadata": {
        "id": "mmlQg-HiQWnQ"
      }
    },
    {
      "cell_type": "code",
      "source": [
        "filmes = ['1. Um Sonho de Liberdade',\n",
        "\n",
        " '2. O Poderoso Chefão',\n",
        "\n",
        " '3.  Batman: O Cavaleiro das Trevas ',\n",
        "\n",
        " '4.  O Poderoso Chefão II',\n",
        "\n",
        " '5.  12 Homens e uma Sentença',\n",
        "\n",
        " '6. A Lista de Schindler ',\n",
        "\n",
        " '7. O Senhor dos Anéis: O Retorno do Rei ',\n",
        "\n",
        " '8. Pulp Fiction: Tempo de Violência ',\n",
        "\n",
        " '9. O Senhor dos Anéis: A Sociedade do Anel ',\n",
        "\n",
        " '10. Três Homens em Conflito']"
      ],
      "metadata": {
        "id": "fN3v2v142aGn"
      },
      "execution_count": 62,
      "outputs": []
    },
    {
      "cell_type": "code",
      "source": [
        "print(filmes)\n",
        "print(type(filmes))"
      ],
      "metadata": {
        "id": "OJIWq4xv3BNz",
        "colab": {
          "base_uri": "https://localhost:8080/"
        },
        "outputId": "60465706-b76b-4607-a9f3-dc53eabb95ff"
      },
      "execution_count": 63,
      "outputs": [
        {
          "output_type": "stream",
          "name": "stdout",
          "text": [
            "['1. Um Sonho de Liberdade', '2. O Poderoso Chefão', '3.  Batman: O Cavaleiro das Trevas ', '4.  O Poderoso Chefão II', '5.  12 Homens e uma Sentença', '6. A Lista de Schindler ', '7. O Senhor dos Anéis: O Retorno do Rei ', '8. Pulp Fiction: Tempo de Violência ', '9. O Senhor dos Anéis: A Sociedade do Anel ', '10. Três Homens em Conflito']\n",
            "<class 'list'>\n"
          ]
        }
      ]
    },
    {
      "cell_type": "code",
      "source": [
        "sorted(set(filmes), key=filmes.index)"
      ],
      "metadata": {
        "id": "iaDh5IAaCJbM",
        "colab": {
          "base_uri": "https://localhost:8080/"
        },
        "outputId": "16add71c-dfc2-4196-801e-b2deace72da8"
      },
      "execution_count": 64,
      "outputs": [
        {
          "output_type": "execute_result",
          "data": {
            "text/plain": [
              "['1. Um Sonho de Liberdade',\n",
              " '2. O Poderoso Chefão',\n",
              " '3.  Batman: O Cavaleiro das Trevas ',\n",
              " '4.  O Poderoso Chefão II',\n",
              " '5.  12 Homens e uma Sentença',\n",
              " '6. A Lista de Schindler ',\n",
              " '7. O Senhor dos Anéis: O Retorno do Rei ',\n",
              " '8. Pulp Fiction: Tempo de Violência ',\n",
              " '9. O Senhor dos Anéis: A Sociedade do Anel ',\n",
              " '10. Três Homens em Conflito']"
            ]
          },
          "metadata": {},
          "execution_count": 64
        }
      ]
    },
    {
      "cell_type": "markdown",
      "source": [
        "Ex:1.2 - Listas"
      ],
      "metadata": {
        "id": "gGNiMUIb3nGp"
      }
    },
    {
      "cell_type": "code",
      "source": [
        "filmes = (['1. Um Sonho de Liberdade',\n",
        "\n",
        " '2. O Poderoso Chefão',\n",
        "\n",
        " '3.  Batman: O Cavaleiro das Trevas ',\n",
        "\n",
        " '4.  O Poderoso Chefão II',\n",
        "\n",
        " '5.  12 Homens e uma Sentença',\n",
        "\n",
        " '6. A Lista de Schindler ',\n",
        "\n",
        " '7. O Senhor dos Anéis: O Retorno do Rei ',\n",
        "\n",
        " '8. Pulp Fiction: Tempo de Violência ',\n",
        "\n",
        " '9. O Senhor dos Anéis: A Sociedade do Anel ',\n",
        "\n",
        " '10. Três Homens em Conflito'])\n",
        "\n",
        "print(filmes)\n",
        "print(type(filmes))"
      ],
      "metadata": {
        "colab": {
          "base_uri": "https://localhost:8080/"
        },
        "id": "F3qM4hQ-atrq",
        "outputId": "564b182a-ec02-432a-c14c-6be7b6d1d68b"
      },
      "execution_count": 144,
      "outputs": [
        {
          "output_type": "stream",
          "name": "stdout",
          "text": [
            "['1. Um Sonho de Liberdade', '2. O Poderoso Chefão', '3.  Batman: O Cavaleiro das Trevas ', '4.  O Poderoso Chefão II', '5.  12 Homens e uma Sentença', '6. A Lista de Schindler ', '7. O Senhor dos Anéis: O Retorno do Rei ', '8. Pulp Fiction: Tempo de Violência ', '9. O Senhor dos Anéis: A Sociedade do Anel ', '10. Três Homens em Conflito']\n",
            "<class 'list'>\n"
          ]
        }
      ]
    },
    {
      "cell_type": "code",
      "source": [
        "print(filmes)\n",
        "filmes.pop(0)\n",
        "filmes.insert(1,'1. Um Sonho de Liberdade')\n",
        "print(filmes)"
      ],
      "metadata": {
        "colab": {
          "base_uri": "https://localhost:8080/"
        },
        "id": "GCiZKfb9Tral",
        "outputId": "25bfa51f-00ff-4754-c320-26fff4d3da53"
      },
      "execution_count": 145,
      "outputs": [
        {
          "output_type": "stream",
          "name": "stdout",
          "text": [
            "['1. Um Sonho de Liberdade', '2. O Poderoso Chefão', '3.  Batman: O Cavaleiro das Trevas ', '4.  O Poderoso Chefão II', '5.  12 Homens e uma Sentença', '6. A Lista de Schindler ', '7. O Senhor dos Anéis: O Retorno do Rei ', '8. Pulp Fiction: Tempo de Violência ', '9. O Senhor dos Anéis: A Sociedade do Anel ', '10. Três Homens em Conflito']\n",
            "['2. O Poderoso Chefão', '1. Um Sonho de Liberdade', '3.  Batman: O Cavaleiro das Trevas ', '4.  O Poderoso Chefão II', '5.  12 Homens e uma Sentença', '6. A Lista de Schindler ', '7. O Senhor dos Anéis: O Retorno do Rei ', '8. Pulp Fiction: Tempo de Violência ', '9. O Senhor dos Anéis: A Sociedade do Anel ', '10. Três Homens em Conflito']\n"
          ]
        }
      ]
    },
    {
      "cell_type": "code",
      "source": [
        "filmes = (['1. Um Sonho de Liberdade',\n",
        "\n",
        " '2. O Poderoso Chefão',\n",
        "\n",
        " '3.  Batman: O Cavaleiro das Trevas ',\n",
        "\n",
        " '4.  O Poderoso Chefão II',\n",
        "\n",
        " '5.  12 Homens e uma Sentença',\n",
        "\n",
        " '6. A Lista de Schindler ',\n",
        "\n",
        " '7. O Senhor dos Anéis: O Retorno do Rei ',\n",
        "\n",
        " '8. Pulp Fiction: Tempo de Violência ',\n",
        "\n",
        " '9. O Senhor dos Anéis: A Sociedade do Anel ',\n",
        "\n",
        " '10. Três Homens em Conflito'])\n",
        "\n",
        "\n",
        "print(type(filmes))\n",
        "\n",
        "sorted(set(filmes), key=filmes.index)"
      ],
      "metadata": {
        "id": "86ZS_GEv3qOH",
        "colab": {
          "base_uri": "https://localhost:8080/"
        },
        "outputId": "f57f64ce-60cd-432e-b8cb-dc8e0f6f28ea"
      },
      "execution_count": 151,
      "outputs": [
        {
          "output_type": "stream",
          "name": "stdout",
          "text": [
            "<class 'list'>\n"
          ]
        },
        {
          "output_type": "execute_result",
          "data": {
            "text/plain": [
              "['1. Um Sonho de Liberdade',\n",
              " '2. O Poderoso Chefão',\n",
              " '3.  Batman: O Cavaleiro das Trevas ',\n",
              " '4.  O Poderoso Chefão II',\n",
              " '5.  12 Homens e uma Sentença',\n",
              " '6. A Lista de Schindler ',\n",
              " '7. O Senhor dos Anéis: O Retorno do Rei ',\n",
              " '8. Pulp Fiction: Tempo de Violência ',\n",
              " '9. O Senhor dos Anéis: A Sociedade do Anel ',\n",
              " '10. Três Homens em Conflito']"
            ]
          },
          "metadata": {},
          "execution_count": 151
        }
      ]
    },
    {
      "cell_type": "code",
      "source": [
        "from collections import OrderedDict\n",
        "\n",
        "\n",
        "\n",
        "lista = input('Aperte qualquer tecla para visualizar nome dos 10 primeiros filmes mais bem avaliados no site no IMDB \\n ')\n",
        "\n",
        "filmes = ['1. Um Sonho de Liberdade ','2. O Poderoso Chefão','3. O Poderoso Chefão II','4. Batman: O Cavaleiro das Trevas',\n",
        "\n",
        "'5. 12 Homens e uma Sentença','6. A Lista de Schindler','7. O Senhor dos Anéis: O Retorno do Rei','8. Pulp Fiction: Tempo de Violência',\n",
        "\n",
        "'9. Três Homens em Conflito ','10. O Senhor dos Anéis: A Sociedade do Anel',\n",
        "\n",
        "'10. O Senhor dos Anéis: A Sociedade do Anel',\n",
        "\n",
        "'10. O Senhor dos Anéis: A Sociedade do Anel']\n",
        "\n",
        "\n",
        "\n",
        "# print(filmes)\n",
        "\n",
        "# list(set(filmes)) porem sai da ordem \n",
        "\n",
        "\n",
        "\n",
        "OrderedDict.fromkeys(filmes)\n",
        "\n",
        "\n",
        "\n",
        "filmes_new_lista = list(OrderedDict.fromkeys(filmes))\n",
        "\n",
        "\n",
        "\n",
        "list(filmes_new_lista)"
      ],
      "metadata": {
        "id": "HUYy0dtnLNYX",
        "colab": {
          "base_uri": "https://localhost:8080/"
        },
        "outputId": "026f5818-b424-41a0-9d43-6465fb334a11"
      },
      "execution_count": 153,
      "outputs": [
        {
          "name": "stdout",
          "output_type": "stream",
          "text": [
            "Aperte qualquer tecla para visualizar nome dos 10 primeiros filmes mais bem avaliados no site no IMDB \n",
            " \n"
          ]
        },
        {
          "output_type": "execute_result",
          "data": {
            "text/plain": [
              "['1. Um Sonho de Liberdade ',\n",
              " '2. O Poderoso Chefão',\n",
              " '3. O Poderoso Chefão II',\n",
              " '4. Batman: O Cavaleiro das Trevas',\n",
              " '5. 12 Homens e uma Sentença',\n",
              " '6. A Lista de Schindler',\n",
              " '7. O Senhor dos Anéis: O Retorno do Rei',\n",
              " '8. Pulp Fiction: Tempo de Violência',\n",
              " '9. Três Homens em Conflito ',\n",
              " '10. O Senhor dos Anéis: A Sociedade do Anel']"
            ]
          },
          "metadata": {},
          "execution_count": 153
        }
      ]
    },
    {
      "cell_type": "markdown",
      "source": [
        "EX:02 - Conjunto"
      ],
      "metadata": {
        "id": "8m475Cy2O9od"
      }
    },
    {
      "cell_type": "code",
      "source": [
        "filmes = {'1. Um Sonho de Liberdade',\n",
        " '2. O Poderoso Chefão', \n",
        " '3.  Batman: O Cavaleiro das Trevas ',\n",
        " '4.  O Poderoso Chefão II',\n",
        " '5.  12 Homens e uma Sentença'\n",
        " '6. A Lista de Schindler ',\n",
        " '7. O Senhor dos Anéis: O Retorno do Rei ', \n",
        " '8. Pulp Fiction: Tempo de Violência ',\n",
        " '9. O Senhor dos Anéis: A Sociedade do Anel ',\n",
        " '10. Três Homens em Conflito', \n",
        " '8. Pulp Fiction: Tempo de Violência ',\n",
        " '9. O Senhor dos Anéis: A Sociedade do Anel ',\n",
        " '10. Três Homens em Conflito'}"
      ],
      "metadata": {
        "id": "nofEkUuhPJnZ"
      },
      "execution_count": 10,
      "outputs": []
    },
    {
      "cell_type": "code",
      "source": [
        "print(filmes)\n",
        "print(type(filmes))"
      ],
      "metadata": {
        "colab": {
          "base_uri": "https://localhost:8080/"
        },
        "id": "0l9vE5fwWnGW",
        "outputId": "9405fe01-6d7c-4d0b-ffbb-b89018a7bfda"
      },
      "execution_count": 11,
      "outputs": [
        {
          "output_type": "stream",
          "name": "stdout",
          "text": [
            "{'9. O Senhor dos Anéis: A Sociedade do Anel ', '4.  O Poderoso Chefão II', '7. O Senhor dos Anéis: O Retorno do Rei ', '1. Um Sonho de Liberdade', '10. Três Homens em Conflito', '5.  12 Homens e uma Sentença6. A Lista de Schindler ', '8. Pulp Fiction: Tempo de Violência ', '2. O Poderoso Chefão', '3.  Batman: O Cavaleiro das Trevas '}\n",
            "<class 'set'>\n"
          ]
        }
      ]
    },
    {
      "cell_type": "code",
      "source": [
        "print(type(filmes))"
      ],
      "metadata": {
        "colab": {
          "base_uri": "https://localhost:8080/"
        },
        "id": "bLvzoxFIkL2r",
        "outputId": "b8192176-d3ca-4b8d-cd7b-3b20750c58a3"
      },
      "execution_count": 30,
      "outputs": [
        {
          "output_type": "stream",
          "name": "stdout",
          "text": [
            "<class 'list'>\n"
          ]
        }
      ]
    },
    {
      "cell_type": "markdown",
      "source": [
        "EX:03. Dicionários\n"
      ],
      "metadata": {
        "id": "vKRk2SG0VPv3"
      }
    },
    {
      "cell_type": "code",
      "source": [
        "filmes = ('1.Um Sonho de Liberdade', '2.O Poderoso Chefão', '3.O Poderoso Chefão II ', '4.Batman: O Cavaleiro das Trevas', '5.12 Homens e uma Sentença', '6.A Lista de Schindler ', '7.O Senhor dos Anéis: O Retorno do Rei ', '8.Pulp Fiction: Tempo de Violência ', '9.Três Homens em Conflito ', '10.O Senhor dos Anéis: A Sociedade do Anel')\n",
        "\n",
        "ano = (1994,1972,1974,2008,1957,1993,2003,1994,1966,2001)\n",
        "\n",
        "sinopse=('a','b','c','d','e','f','g','h','i','j')   "
      ],
      "metadata": {
        "id": "lw2NPUS9ZRsp"
      },
      "execution_count": 33,
      "outputs": []
    },
    {
      "cell_type": "code",
      "source": [
        "rank_top_filmes = []\n",
        "   "
      ],
      "metadata": {
        "id": "YvHHBvt8JDDM"
      },
      "execution_count": 31,
      "outputs": []
    },
    {
      "cell_type": "code",
      "source": [
        " filmes = {'1': 'Um Sonho de Liberdade', 'ano': '1994', \n",
        "'sinopse': 'Dois homens presos se reúnem ao longo de vários anos, encontrando consolo e eventual redenção através de atos de decência comum.',}\n",
        "rank_top_filmes.append(filmes)"
      ],
      "metadata": {
        "id": "qodEg4XYRnx7"
      },
      "execution_count": 32,
      "outputs": []
    },
    {
      "cell_type": "code",
      "source": [
        " filmes = { '2': 'O poderoso chefão', 'ano': '2000', 'sinopse': 'comum',} \n",
        " rank_top_filmes.append(filmes)"
      ],
      "metadata": {
        "id": "O1IbgT4ad1GK"
      },
      "execution_count": 34,
      "outputs": []
    },
    {
      "cell_type": "code",
      "source": [
        "print(rank_top_filmes)"
      ],
      "metadata": {
        "id": "urYOIo6ceZgJ",
        "outputId": "92e7cd62-f180-4db0-8f7e-29c36e0b419e",
        "colab": {
          "base_uri": "https://localhost:8080/"
        }
      },
      "execution_count": 37,
      "outputs": [
        {
          "output_type": "stream",
          "name": "stdout",
          "text": [
            "[{'1': 'Um Sonho de Liberdade', 'ano': '1994', 'sinopse': 'Dois homens presos se reúnem ao longo de vários anos, encontrando consolo e eventual redenção através de atos de decência comum.'}, {'2': 'O poderoso chefão', 'ano': '2000', 'sinopse': 'comum'}]\n"
          ]
        }
      ]
    }
  ]
}