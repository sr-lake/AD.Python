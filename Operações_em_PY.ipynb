{
  "nbformat": 4,
  "nbformat_minor": 0,
  "metadata": {
    "colab": {
      "provenance": [],
      "authorship_tag": "ABX9TyOHm0gOVqou3zGrE4bdMTda",
      "include_colab_link": true
    },
    "kernelspec": {
      "name": "python3",
      "display_name": "Python 3"
    },
    "language_info": {
      "name": "python"
    }
  },
  "cells": [
    {
      "cell_type": "markdown",
      "metadata": {
        "id": "view-in-github",
        "colab_type": "text"
      },
      "source": [
        "<a href=\"https://colab.research.google.com/github/sr-lake/AD.Python/blob/main/Opera%C3%A7%C3%B5es_em_PY.ipynb\" target=\"_parent\"><img src=\"https://colab.research.google.com/assets/colab-badge.svg\" alt=\"Open In Colab\"/></a>"
      ]
    },
    {
      "cell_type": "markdown",
      "source": [
        "*Operações com PY.*"
      ],
      "metadata": {
        "id": "S83np-JGui9q"
      }
    },
    {
      "cell_type": "code",
      "source": [
        "n = int(input('Digite Algo!'))\n",
        "a = n - 1\n",
        "s = n + 1\n",
        "print('Analisando o valor:{}, seu antecessor é:{}, e o seu sucessor é:{}'.format(n, a, s),end =\".\")"
      ],
      "metadata": {
        "colab": {
          "base_uri": "https://localhost:8080/"
        },
        "id": "i1h1AqU2vr14",
        "outputId": "bcca8a94-8aaa-402f-dbd3-a38f2f6c377d"
      },
      "execution_count": null,
      "outputs": [
        {
          "output_type": "stream",
          "name": "stdout",
          "text": [
            "Digite Algo!8\n",
            "Analisando o valor:8, seu antecessor é:7, e o seu sucessor é:9."
          ]
        }
      ]
    },
    {
      "cell_type": "code",
      "source": [
        "n = input('Digite algo!')\n",
        "if n.isdigit():\n",
        "    a = int(n) - 1\n",
        "    s = int(n) + 1\n",
        "else:\n",
        "    a = chr(ord(n) - 1)\n",
        "    s = chr(ord(n) + 1)\n",
        "print('Analisando o valor:{}, seu antecessor é:{}, e o seu sucessor é:{}'.format(n, a, s), end=\".\")\n"
      ],
      "metadata": {
        "colab": {
          "base_uri": "https://localhost:8080/"
        },
        "id": "ydNi374CYXVA",
        "outputId": "66eed778-db41-4697-a5a6-0d2eb94db6ee"
      },
      "execution_count": null,
      "outputs": [
        {
          "output_type": "stream",
          "name": "stdout",
          "text": [
            "Digite algo!h\n",
            "Analisando o valor:h, seu antecessor é:g, e o seu sucessor é:i."
          ]
        }
      ]
    },
    {
      "cell_type": "code",
      "source": [],
      "metadata": {
        "id": "0i0hThyjYe0n"
      },
      "execution_count": null,
      "outputs": []
    }
  ]
}