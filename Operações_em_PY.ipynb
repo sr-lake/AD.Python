{
  "nbformat": 4,
  "nbformat_minor": 0,
  "metadata": {
    "colab": {
      "name": "Operações em PY.ipynb",
      "provenance": [],
      "collapsed_sections": [],
      "authorship_tag": "ABX9TyMJ9QLcWv5yLq+G80VYkK0f",
      "include_colab_link": true
    },
    "kernelspec": {
      "name": "python3",
      "display_name": "Python 3"
    },
    "language_info": {
      "name": "python"
    }
  },
  "cells": [
    {
      "cell_type": "markdown",
      "metadata": {
        "id": "view-in-github",
        "colab_type": "text"
      },
      "source": [
        "<a href=\"https://colab.research.google.com/github/sr-lake/AD.Python/blob/main/Opera%C3%A7%C3%B5es_em_PY.ipynb\" target=\"_parent\"><img src=\"https://colab.research.google.com/assets/colab-badge.svg\" alt=\"Open In Colab\"/></a>"
      ]
    },
    {
      "cell_type": "markdown",
      "source": [
        "*Operações com PY.*"
      ],
      "metadata": {
        "id": "S83np-JGui9q"
      }
    },
    {
      "cell_type": "code",
      "source": [
        "n = int(input('Digite Algo!'))\n",
        "a = n - 1\n",
        "s = n + 1\n",
        "print('Analisando o valor:{}, seu antecessor é:{}, e o seu sucessor é:{}'.format(n, a, s),end =\".\")"
      ],
      "metadata": {
        "colab": {
          "base_uri": "https://localhost:8080/"
        },
        "id": "i1h1AqU2vr14",
        "outputId": "a79c0546-244b-4c3d-bf35-2d5d4194c7ee"
      },
      "execution_count": 7,
      "outputs": [
        {
          "output_type": "stream",
          "name": "stdout",
          "text": [
            "Digite Algo!8\n",
            "Analisando o valor:8, seu antecessor é:7, e o seu sucessor é:9."
          ]
        }
      ]
    }
  ]
}