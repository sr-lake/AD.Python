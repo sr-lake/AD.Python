{
  "cells": [
    {
      "cell_type": "markdown",
      "metadata": {
        "id": "view-in-github",
        "colab_type": "text"
      },
      "source": [
        "<a href=\"https://colab.research.google.com/github/sr-lake/AD.Python/blob/main/Ol%C3%A1%2C_este_%C3%A9_o_Colaboratory.ipynb\" target=\"_parent\"><img src=\"https://colab.research.google.com/assets/colab-badge.svg\" alt=\"Open In Colab\"/></a>"
      ]
    },
    {
      "cell_type": "code",
      "source": [
        "print ('Olá, Mundo!')"
      ],
      "metadata": {
        "colab": {
          "base_uri": "https://localhost:8080/"
        },
        "id": "ltger5Dr4TWH",
        "outputId": "200ca78f-796a-4c54-dced-bd6779759412"
      },
      "execution_count": 8,
      "outputs": [
        {
          "output_type": "stream",
          "name": "stdout",
          "text": [
            "Olá, Mundo!\n"
          ]
        }
      ]
    },
    {
      "cell_type": "code",
      "source": [
        ""
      ],
      "metadata": {
        "id": "ApUIduuS589M"
      },
      "execution_count": 8,
      "outputs": []
    },
    {
      "cell_type": "markdown",
      "source": [
        "![pepiline.png](data:image/png;base64,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)"
      ],
      "metadata": {
        "id": "6XObRXst7Ssx"
      }
    },
    {
      "cell_type": "markdown",
      "metadata": {
        "id": "OwuxHmxllTwN"
      },
      "source": [
        "## Machine learning\n",
        "\n",
        "Com o Colab, é possível importar um conjunto de dados de imagem, treinar um classificador de imagens dentro dele e avaliar o modelo, tudo com apenas <a href=\"https://colab.research.google.com/github/tensorflow/docs/blob/master/site/en/tutorials/quickstart/beginner.ipynb\">algumas linhas de código</a>. Os notebooks do Colab executam código dos servidores em nuvem do Google. Isso significa que você pode tirar proveito da potência de hardware do Google, como <a href=\"#using-accelerated-hardware\">GPUs e TPUs</a>, independentemente da potência da sua máquina. Você só precisa de um navegador."
      ]
    },
    {
      "cell_type": "markdown",
      "metadata": {
        "id": "ufxBm1yRnruN"
      },
      "source": [
        "O Colab é usado amplamente pela comunidade de machine learning, para aplicações como:\n",
        "- Primeiros passos com o TensorFlow\n",
        "- Desenvolvimento e treinamento de redes neurais\n",
        "- Experimentos com TPUs\n",
        "- Divulgação de pesquisas em IA\n",
        "- Criação de tutoriais\n",
        "\n",
        "Para ver notebooks do Colab que demonstram aplicações de machine learning, consulte os <a href=\"#machine-learning-examples\">exemplos de machine learning</a> abaixo."
      ]
    },
    {
      "cell_type": "markdown",
      "metadata": {
        "id": "-Rh3-Vt9Nev9"
      },
      "source": [
        "## Mais recursos\n",
        "\n",
        "### Como trabalhar com Notebooks no Colab\n",
        "- [Visão geral do Colaboratory](/notebooks/basic_features_overview.ipynb)\n",
        "- [Guia sobre Markdown](/notebooks/markdown_guide.ipynb)\n",
        "- [Importar bibliotecas e instalar dependências](/notebooks/snippets/importing_libraries.ipynb)\n",
        "- [Salvar e carregar notebooks no GitHub](https://colab.research.google.com/github/googlecolab/colabtools/blob/main/notebooks/colab-github-demo.ipynb)\n",
        "- [Formulários interativos](/notebooks/forms.ipynb)\n",
        "- [Widgets interativos](/notebooks/widgets.ipynb)\n",
        "- <img src=\"/img/new.png\" height=\"20px\" align=\"left\" hspace=\"4px\" alt=\"New\"></img>\n",
        " [TensorFlow 2 no Colab](/notebooks/tensorflow_version.ipynb)\n",
        "\n",
        "<a name=\"working-with-data\"></a>\n",
        "### Como trabalhar com dados\n",
        "- [Carregar dados: Drive, Planilhas e Google Cloud Storage](/notebooks/io.ipynb) \n",
        "- [Gráficos: visualizar dados](/notebooks/charts.ipynb)\n",
        "- [Primeiros passos com o BigQuery](/notebooks/bigquery.ipynb)\n",
        "\n",
        "### Curso intensivo de machine learning\n",
        "Estes são alguns notebooks do curso on-line do Google sobre machine learning. Acesse o <a href=\"https://developers.google.com/machine-learning/crash-course/\">site do curso completo</a> para saber mais.\n",
        "- [Introdução ao Pandas DataFrame](https://colab.research.google.com/github/google/eng-edu/blob/main/ml/cc/exercises/pandas_dataframe_ultraquick_tutorial.ipynb)\n",
        "- [Regressão linear com tf.keras e uso de dados sintéticos](https://colab.research.google.com/github/google/eng-edu/blob/main/ml/cc/exercises/linear_regression_with_synthetic_data.ipynb)\n",
        "\n",
        "\n",
        "<a name=\"using-accelerated-hardware\"></a>\n",
        "### Usar hardware acelerado\n",
        "- [TensorFlow com GPUs](/notebooks/gpu.ipynb)\n",
        "- [TensorFlow com TPUs](/notebooks/tpu.ipynb)"
      ]
    },
    {
      "cell_type": "markdown",
      "metadata": {
        "id": "P-H6Lw1vyNNd"
      },
      "source": [
        "<a name=\"machine-learning-examples\"></a>\n",
        "\n",
        "### Exemplos em destaque\n",
        "\n",
        "- <a href=\"https://colab.research.google.com/github/NVIDIA/NeMo/blob/stable/tutorials/VoiceSwapSample.ipynb\">NeMo Voice Swap</a>: use o kit de ferramentas para IA conversacional do Nvidia NeMo para trocar uma voz em um fragmento de áudio por uma gerada por computador.\n",
        "\n",
        "- <a href=\"https://tensorflow.org/hub/tutorials/tf2_image_retraining\">Treinar novamente um classificador de imagens</a>: crie um modelo do Keras com base em um classificador de imagens pré-treinado para distinguir flores.\n",
        "- <a href=\"https://tensorflow.org/hub/tutorials/tf2_text_classification\">Classificação de texto</a>: classifique avaliações de filmes do IMDB como <em>positivas</em> ou <em>negativas</em>.\n",
        "- <a href=\"https://tensorflow.org/hub/tutorials/tf2_arbitrary_image_stylization\">Transferência de estilo</a>: use o aprendizado profundo para transferir o estilo entre imagens.\n",
        "- <a href=\"https://tensorflow.org/hub/tutorials/retrieval_with_tf_hub_universal_encoder_qa\">Perguntas e respostas sobre o codificador de frases universais multilíngue</a>: use um modelo de machine learning para responder a perguntas do conjunto de dados SQuAD.\n",
        "- <a href=\"https://tensorflow.org/hub/tutorials/tweening_conv3d\">Interpolação de vídeo</a>: preveja o que aconteceu em um vídeo entre o primeiro e o último frames.\n"
      ]
    }
  ],
  "metadata": {
    "colab": {
      "collapsed_sections": [],
      "name": "Olá, este é o Colaboratory",
      "provenance": [],
      "include_colab_link": true
    },
    "kernelspec": {
      "display_name": "Python 3",
      "name": "python3"
    }
  },
  "nbformat": 4,
  "nbformat_minor": 0
}