{
  "nbformat": 4,
  "nbformat_minor": 0,
  "metadata": {
    "colab": {
      "name": "FIT- Python - AULA 2L10.ipynb",
      "provenance": [],
      "collapsed_sections": [],
      "include_colab_link": true
    },
    "kernelspec": {
      "name": "python3",
      "display_name": "Python 3"
    },
    "language_info": {
      "name": "python"
    }
  },
  "cells": [
    {
      "cell_type": "markdown",
      "metadata": {
        "id": "view-in-github",
        "colab_type": "text"
      },
      "source": [
        "<a href=\"https://colab.research.google.com/github/sr-lake/AD.Python/blob/main/FIT_Python_AULA_2L10.ipynb\" target=\"_parent\"><img src=\"https://colab.research.google.com/assets/colab-badge.svg\" alt=\"Open In Colab\"/></a>"
      ]
    },
    {
      "cell_type": "markdown",
      "metadata": {
        "id": "Ub4JP7xQKVHG"
      },
      "source": [
        "###Estruturas de Decisão"
      ]
    },
    {
      "cell_type": "code",
      "metadata": {
        "id": "ibdUJPG4KLNm"
      },
      "source": [
        "# estrutura de decisão do tipo if / elif / else\n",
        "\n",
        "idade = 18"
      ],
      "execution_count": null,
      "outputs": []
    },
    {
      "cell_type": "code",
      "metadata": {
        "id": "q0EXtuekLp4H"
      },
      "source": [
        "if (idade >= 18):\n",
        "  print(\"Você já pode ser motorista\")\n"
      ],
      "execution_count": null,
      "outputs": []
    },
    {
      "cell_type": "code",
      "metadata": {
        "id": "SSS3S9qmLVm3",
        "colab": {
          "base_uri": "https://localhost:8080/"
        },
        "outputId": "b2f3fa71-5ab4-47e3-97fc-a9eaf29ebff6"
      },
      "source": [
        "if (idade >= 18): \n",
        "  print(\"Você já pode ser motorista!\") \n",
        "else:\n",
        "  print(\"Você ainda não pode ser motorista!\")"
      ],
      "execution_count": null,
      "outputs": [
        {
          "output_type": "stream",
          "name": "stdout",
          "text": [
            "Você já pode ser motorista!\n"
          ]
        }
      ]
    },
    {
      "cell_type": "code",
      "metadata": {
        "id": "10OFTPGFM1Ln",
        "colab": {
          "base_uri": "https://localhost:8080/"
        },
        "outputId": "03e9f2f2-a82c-426f-8b97-c6a67fe8dfb7"
      },
      "source": [
        "salario = 5900\n",
        "\n",
        "if (salario <= 1903.98):\n",
        "    print(\"Faixa 1: Até R$ 1.903,98: isento\")\n",
        "elif (salario >= 1903.99 and  salario <= 2826.65):\n",
        "    print(\"Faixa2: De R$ 1.903,99 até R$ 2.826,65: 7,5%\")\n",
        "elif (salario >= 2826.66 and  salario <= 3751.05):\n",
        "    print(\"Faixa 3: De R$ 2.826,66 até R$ 3.751,05: 15%\")\n",
        "elif (salario >= 3751.06 and  salario <= 4664.68):\n",
        "    print(\"Faixa 4: De R$ 3.751,06 até R$ 4.664,68: 22,5%\")\n",
        "else:\n",
        "    print(\"Faixa 5: Acima de R$ 4.664,68: 27,5%\")"
      ],
      "execution_count": null,
      "outputs": [
        {
          "output_type": "stream",
          "name": "stdout",
          "text": [
            "Faixa 5: Acima de R$ 4.664,68: 27,5%\n"
          ]
        }
      ]
    },
    {
      "cell_type": "markdown",
      "metadata": {
        "id": "dqpK0KopSa06"
      },
      "source": [
        "##Estruturas de Repetição"
      ]
    },
    {
      "cell_type": "code",
      "metadata": {
        "id": "64k2m8eCSeb2"
      },
      "source": [
        "# laço (loop) de repetição While (repete equanto satisfaz a condição)\n",
        "\n",
        "# condição inicial\n",
        "n = 1\n",
        "\n",
        "while (n <= 10):\n",
        "   print(\"Estamos no looping, iteração número:\", n)\n",
        "   n = n + 1  #incrementa a variável\n",
        "\n",
        "   "
      ],
      "execution_count": null,
      "outputs": []
    },
    {
      "cell_type": "code",
      "metadata": {
        "id": "YV4WzOcpVuSh"
      },
      "source": [
        "# repetição - for (repete o bloco de instrução subordinado a ela por um número de vezes pré-determinado)\n",
        "\n",
        "for i in range(10):  # Utiliza uma variável auxiliar para percorrer os elementos\n",
        "    print(\"número:\", i)\n",
        "\n"
      ],
      "execution_count": null,
      "outputs": []
    },
    {
      "cell_type": "markdown",
      "metadata": {
        "id": "zKoE9ZIIcKFg"
      },
      "source": [
        "#Estrutura de dados"
      ]
    },
    {
      "cell_type": "code",
      "source": [
        "dia = 30\n",
        "mes = 3\n",
        "ano = 2022\n",
        "\n",
        "lista_data = [30, 3, 2022]\n",
        "\n",
        "print(lista_data)"
      ],
      "metadata": {
        "colab": {
          "base_uri": "https://localhost:8080/"
        },
        "id": "Rf6sPs09LWoa",
        "outputId": "e5f2ee3e-2d34-4aea-d1fe-e28d83d18f54"
      },
      "execution_count": null,
      "outputs": [
        {
          "output_type": "stream",
          "name": "stdout",
          "text": [
            "[30, 3, 2022]\n"
          ]
        }
      ]
    },
    {
      "cell_type": "code",
      "metadata": {
        "id": "-xExGJY-cOaS",
        "colab": {
          "base_uri": "https://localhost:8080/"
        },
        "outputId": "4d7e56e2-f688-4a0d-8e96-173b9213ff2a"
      },
      "source": [
        "# LISTAS\n",
        "\n",
        "minha_lista = [\"maria\", 21, 3.54, \"SP\", 2900.44, 34, 'Casa', 56.7, False] #permite tipos de dados diferentes\n",
        "\n",
        "print(minha_lista)\n"
      ],
      "execution_count": null,
      "outputs": [
        {
          "output_type": "stream",
          "name": "stdout",
          "text": [
            "['maria', 21, 3.54, 'SP', 2900.44, 34, 'Casa', 56.7, False]\n"
          ]
        }
      ]
    },
    {
      "cell_type": "code",
      "metadata": {
        "id": "LJHkaYM8cgeK",
        "colab": {
          "base_uri": "https://localhost:8080/"
        },
        "outputId": "0412e0c9-5d9a-4ae1-c62c-b99820071580"
      },
      "source": [
        "# acessando o valor pelo índice, primeiro elemento inicia em [0]\n",
        "\n",
        "print(minha_lista[3])\n"
      ],
      "execution_count": null,
      "outputs": [
        {
          "output_type": "stream",
          "name": "stdout",
          "text": [
            "SP\n"
          ]
        }
      ]
    },
    {
      "cell_type": "code",
      "metadata": {
        "id": "gDvQUNEGc2jb",
        "colab": {
          "base_uri": "https://localhost:8080/"
        },
        "outputId": "7b34b745-b5d1-4882-e40c-c62d7e3b686e"
      },
      "source": [
        "# consultando quantos elementos estão presentes na lista\n",
        "\n",
        "print(len(minha_lista)) "
      ],
      "execution_count": null,
      "outputs": [
        {
          "output_type": "stream",
          "name": "stdout",
          "text": [
            "9\n"
          ]
        }
      ]
    },
    {
      "cell_type": "code",
      "metadata": {
        "id": "-eAo6fNbdMFQ",
        "colab": {
          "base_uri": "https://localhost:8080/"
        },
        "outputId": "548ce26d-dcd4-4947-906e-423a5bba806f"
      },
      "source": [
        "# seleção de intervalos da lista\n",
        "print(minha_lista)\n",
        "\n",
        "print(minha_lista[1:5]) "
      ],
      "execution_count": null,
      "outputs": [
        {
          "output_type": "stream",
          "name": "stdout",
          "text": [
            "['maria', 21, 3.54, 'SP', 2900.44, 34, 'Casa', 56.7, False]\n",
            "[21, 3.54, 'SP', 2900.44]\n"
          ]
        }
      ]
    },
    {
      "cell_type": "code",
      "metadata": {
        "id": "mRbJvez0du1W",
        "colab": {
          "base_uri": "https://localhost:8080/"
        },
        "outputId": "e23d6581-80c5-446f-91e7-0c1e446f6e1d"
      },
      "source": [
        "# alterando algum valor da lista\n",
        "\n",
        "minha_lista[4] = 5000\n",
        "\n",
        "print(minha_lista)"
      ],
      "execution_count": null,
      "outputs": [
        {
          "output_type": "stream",
          "name": "stdout",
          "text": [
            "['maria', 21, 3.54, 'SP', 5000, 34, 'Casa', 56.7, False]\n"
          ]
        }
      ]
    },
    {
      "cell_type": "code",
      "metadata": {
        "id": "dcCi2ikWg5MX",
        "colab": {
          "base_uri": "https://localhost:8080/"
        },
        "outputId": "c735c2f6-f29c-4aa3-9849-9dfd45ae39ec"
      },
      "source": [
        "# união de listas\n",
        "\n",
        "lista_num = [1 , 23, 14.5]\n",
        "lista_str = [\"casa\", \"moto\", \"bola\"]\n",
        "\n",
        "lista_uniao = lista_num + lista_str\n",
        "\n",
        "print(lista_uniao)\n"
      ],
      "execution_count": null,
      "outputs": [
        {
          "output_type": "stream",
          "name": "stdout",
          "text": [
            "[1, 23, 14.5, 'casa', 'moto', 'bola']\n"
          ]
        }
      ]
    },
    {
      "cell_type": "code",
      "source": [
        "# ordenação de listas de tipo de dados string\n",
        "\n",
        "lista_ord = [\"casa\", \"bola\", \"cidade\", \"23\", \"56\"]\n",
        "\n",
        "lista_ord.sort() #reverse = True decrescente\n",
        "\n",
        "print(lista_ord)\n",
        "\n",
        "print(type(lista_ord))\n"
      ],
      "metadata": {
        "id": "-cPOhDUGf5F1"
      },
      "execution_count": null,
      "outputs": []
    },
    {
      "cell_type": "code",
      "metadata": {
        "id": "kGIXvgM9W0i0",
        "colab": {
          "base_uri": "https://localhost:8080/"
        },
        "outputId": "4c68ea22-40f1-464b-df81-c1be273066f5"
      },
      "source": [
        "# inserção e exclusão - lista\n",
        "\n",
        "lista_1 = [23, 35, 56, 23]\n",
        "\n",
        "lista_1.append(100) #insere ao final da lista\n",
        "print(lista_1)\n",
        "\n",
        "lista_1.insert(0, 12) #insere elemento na posição indicada\n",
        "print(lista_1)\n",
        "\n",
        "lista_1.remove(23) #exclusão do elemento indicado\n",
        "print(lista_1)\n",
        "\n",
        "lista_1.clear() #esvazia a lista\n",
        "print(lista_1)"
      ],
      "execution_count": null,
      "outputs": [
        {
          "output_type": "stream",
          "name": "stdout",
          "text": [
            "[23, 35, 56, 23, 100]\n",
            "[12, 23, 35, 56, 23, 100]\n",
            "[12, 35, 56, 23, 100]\n",
            "[]\n"
          ]
        }
      ]
    },
    {
      "cell_type": "code",
      "metadata": {
        "id": "Uy2eYYnGCUy1",
        "colab": {
          "base_uri": "https://localhost:8080/"
        },
        "outputId": "8b563792-c71a-497f-ab9e-77d32726c8b8"
      },
      "source": [
        "# TUPLAS\n",
        "\n",
        "minha_tupla = (100.30, 22, \"SP\", \"RJ\")\n",
        "print(minha_tupla)\n",
        "\n",
        "print(type(minha_tupla))\n"
      ],
      "execution_count": null,
      "outputs": [
        {
          "output_type": "stream",
          "name": "stdout",
          "text": [
            "(100.3, 22, 'SP', 'RJ')\n",
            "<class 'tuple'>\n"
          ]
        }
      ]
    },
    {
      "cell_type": "code",
      "metadata": {
        "id": "vSv1JbkJEaTk",
        "colab": {
          "base_uri": "https://localhost:8080/"
        },
        "outputId": "f3dab3f1-ed60-4ef4-b3cc-13d682522dad"
      },
      "source": [
        "tupla_1 = (5, 8, 13.5, 21, 6, 7.9, 9)\n",
        "tupla_2 = (21, 34)\n",
        "\n",
        "#selecionando o primeiro elemento da tupla\n",
        "print(tupla_1[0])\n",
        "\n",
        "#selecionando alguns elementos da tupla\n",
        "print(tupla_1[2:5])\n",
        "\n",
        "#criando uma tupla a partir da união \n",
        "nova_tupla = tupla_1 + tupla_2 \n",
        "\n",
        "print(nova_tupla)"
      ],
      "execution_count": null,
      "outputs": [
        {
          "output_type": "stream",
          "name": "stdout",
          "text": [
            "5\n",
            "(13.5, 21, 6)\n",
            "(5, 8, 13.5, 21, 6, 7.9, 9, 21, 34)\n"
          ]
        }
      ]
    },
    {
      "cell_type": "code",
      "metadata": {
        "id": "QBFNmEkjKBvA",
        "colab": {
          "base_uri": "https://localhost:8080/"
        },
        "outputId": "71087df4-5b10-4dd7-cd7d-8c88bff15d5c"
      },
      "source": [
        "# DICIONÁRIOS\n",
        "\n",
        "# criar um dicionário\n",
        "dicionario_1 = {\"nome\" : \"Ana\", \"Idade\" : 20, \"Altura\" : 1.65}\n",
        "print(dicionario_1)\n",
        "\n",
        "# acessando o elemento correspondente à chave\n",
        "print(dicionario_1[\"Idade\"])\n",
        "\n",
        "# alterando o valor de uma chave do dicionário\n",
        "dicionario_1[\"Altura\"] = 1.67\n",
        "print(dicionario_1)\n",
        "\n",
        "# incluindo novo elemento no dicionário\n",
        "dicionario_1[\"Cidade\"] = \"São Paulo\"\n",
        "print(dicionario_1)\n",
        "\n",
        "# obtendo as chaves do dicionário\n",
        "print(dicionario_1.keys())"
      ],
      "execution_count": null,
      "outputs": [
        {
          "output_type": "stream",
          "name": "stdout",
          "text": [
            "{'nome': 'Ana', 'Idade': 20, 'Altura': 1.65}\n",
            "20\n",
            "{'nome': 'Ana', 'Idade': 20, 'Altura': 1.67}\n",
            "{'nome': 'Ana', 'Idade': 20, 'Altura': 1.67, 'Cidade': 'São Paulo'}\n",
            "dict_keys(['nome', 'Idade', 'Altura', 'Cidade'])\n"
          ]
        }
      ]
    },
    {
      "cell_type": "code",
      "source": [
        "print(\"A idade é:\", dicionario_1[\"Idade\"])\n",
        "dicionario_1[\"nome\"]"
      ],
      "metadata": {
        "colab": {
          "base_uri": "https://localhost:8080/",
          "height": 52
        },
        "id": "kDG81Xt1YuzB",
        "outputId": "4acc499d-9d92-4fbb-b8d1-c926b552d9a0"
      },
      "execution_count": null,
      "outputs": [
        {
          "output_type": "stream",
          "name": "stdout",
          "text": [
            "A idade é: 20\n"
          ]
        },
        {
          "output_type": "execute_result",
          "data": {
            "text/plain": [
              "'Ana'"
            ],
            "application/vnd.google.colaboratory.intrinsic+json": {
              "type": "string"
            }
          },
          "metadata": {},
          "execution_count": 74
        }
      ]
    },
    {
      "cell_type": "markdown",
      "metadata": {
        "id": "wnMZapL_SP85"
      },
      "source": [
        "###Exercícios"
      ]
    },
    {
      "cell_type": "markdown",
      "metadata": {
        "id": "x2phmwycQt_z"
      },
      "source": [
        "*1 - Escreva um programa que classifique um atleta em uma categoria de acordo com a tabela a seguir:*"
      ]
    },
    {
      "cell_type": "markdown",
      "source": [
        "![image.png](data:image/png;base64,iVBORw0KGgoAAAANSUhEUgAAARwAAACkCAYAAABFGpFMAAAgAElEQVR4nOydd5QVRdbAf/3ypDc5zzAJGAYk55wVRAVFMee0rqu7rq77mXNcV5Q1IqICgoKAgIKC5JzzABOYnPPLqbu+P94QBmYIioPh/c6BOadfddXtqurbVbdu1ZWEEAIfPnz4aAVUF1sAHz58/HnwKRwfPny0Gj6F48OHj1bDp3B8+PDRavgUjg8fPloNn8Lx4cNHq6E5049ut5v6+vrWksWHDx+/M4QQ6PV6jEYjkiSdNf0ZFc7u3bsZM2YMTqfzggnow4ePPw5CCMaNG8e8efPOKf0ZFY6iKFitVlwu1wURzocPH388HA7HOac9o8LRarVER0f7FI4PHz6aRQhBSEjIOaeXzrS1QQiBx+PBt/vBhw8fLSFJElqt9tzS+vZS+fDho7XwLYv78OGj1fApHB8+fLQaPoXjw4ePVsOncHz48NFq+BSODx8+Wo0z+uGguCjNP8yhQ0cxyWrCw42YSyuxSxJwzI1ZIiAqlV69OhPprz7P4gUCibM7RP82EQgkAZyDS/fJdyEkfrcP/ZtEwe20UFlaTmVVJWXFZdjVwUTHRhAZGUVUZDhBAX5o/tB1Lhr//22/T2ce4UgSBv9ADEoF37x4N2P/+QG1Kh06rRatRsLeUM6+tQuY+v4Cis/d2RCPuZTFH7zE8zM281t1KRRwFv8jgbUyiy9nrqDMfe6eBR5bAdPfeJHZ63Jwyb9YzD89wm0ma9MCHr/3ft6c/RM5lRZUWh2KrZZDmxfx9B3XMuq6u/l0c+HPLOB34jXiMbN+1n9589NlVNjdF1uaFjnzCEfSEhaTSs8BQxnQI4bZ2WlcO3E8fsd+FwJb9Wh+nL8L43mMbiwV2cyaPYudHit3TBpAsuHnP8CFRggZl6WWvKIG4tqnYNQ081xCpjp7A1OefZml9mH0njSKWO25fVcc+Rv5fMpHaK1tGdUrhajzHhX6OIaj9ihz33uFTze5uffZV7ihfypqFCRJdfxjMemaK5n+xUIC/M+zkylu6qrKqapVSG7fBp36tzxuAJepjIULZ7O0dCB9Rg0mOuncHPFamzMrnOOIximA1HRIJIFaH0B0Sjz+52ENMib14vX3Z1Ktb0OC/tzvaw1kRw0/ffQwf/8xhKWL/9eMwhGUZ67mg89WEjTmURaMH0obw7k/vH+7K/lwcVs0selEnMd9Pk7BXcbs1/6P/23Q8tc3X+KGvsmNUyZvnR7buRwU3YHBg7rREOJ/Xtm7Kg7w+O2PUJt6L9PfuwndBRb/QqMLSeHRlz/hZiWcjPjze9bW5BwVTktI6I0x9Boagfo8FKpKG0Bq1z6k/rLCfxWEx0lNSRalojehqtMVgsdSTn6NxBX3PESXtrEYztMwoNIa6dSr74US90+Kh7xVX/PRop2k3PRfru6fgqaFEYikMdC20yBc5zPCEQLZbeHwkTyMXcN/86MbAFQ64jN6En+x5TgLv0jhCByU7inA0CGZ8ONtIlORtZstW7ewK0/QZcgghvXuTHjAiaKE20pZfi5ZhxvodvlgQiQXRdn7OZCZiyeoHQMGdSW88esvhEzh7p9Yf0AweOJo2virkSSZmqJMNq/bwP5cE7HdB3LZ8D7EBp7Dd0i2kbtzA9+v2Yon4hJGjBxGl6TQ4yM3tUaDSpJQazWohRu3W0aoNGhVKiQJTLVVVOQfZt+6vRzq2ocxI/oQHXBSubKT8sJscqpdpLTPQF+9h8U/7Cdm5LVc3iEM2W6iOPcAOe5o+ndKwV93rGSZuoLDbNq8gW2HrbTr04/RQ3s1zdsHAMJezfLvfyS/LpSbhnYl4gxKX1JpCI6IOcVI76FwzybWb9pMbkMwvUYMZ0jPdgRqGttCktCo1d6/Oh2K4sYle/uGWiUh7HUc3LGBNdsP4QnPYPSo4XSKDzytbI+5gv27trJty0EajCkMHzWC3u2imnkgF6WHdrFl23Z259ST0n0Agwb1p330ySMVgamqkNxDxRjadyHNUM/q7xZw1G8Qt13dkwCc1JTkk5VdS2LvXiQEnTQCsJazce0qtm06iCq9H6NHDiU9Ngj1eS12XBjUzz///PNnS+SxV7N75TcsrW7Hk3eMQq0oCCFQ3NXsWLgbXXoK4f46FGctm5bMY2uxGdlupeDgOmZMm8MWUygDerTHqFfRULSPWZ9/yrtvvMVXKyQm3j2CYDXY6krZsHAqr33wPfUhafTtlIBO8lB/ZCVTPlpFpxEjaJsQgU6qZ/PCb9mYVYXLaaEkZzuL5n7F8kzBgKE9CdE1X4lCcVN7dAczZy2k2r8NndsnoK7ez+cffo05sj3piRFgr2Tz0q+YNn0JmfnlHN27jYXzNyGldKNThJO1y+az6Ug1QrZRlrWL72bP4vvDGoaP6k6QWsJcsp33X3iOt6Z8zPIsO+H+VpZMeYuP5q7E0mUsw3S5zP78PV5+8V32atMZ268j/loJ2VHLjh/nszazHNllpyJnK3Omf8HasiCGDOhEkNY39ToZZ91Rvvz8Q/ZWd+K+hyfRLvzMoxdJko6v3bgaivj+q2/Issl4zLVk7VrFZ58upFCfQt9OiRjUAnN5JkvmzGDuDxsoqyhk98Yf+XF3Me26dEaUbOfzeaux+seRnhqLUraLD177FEfbnnRJCEGSQMhOcrctY/byAxgT0mgTpadk9zLeeucTdh0t4dDubWwvlmmfFofaUsTiubNYmiOT0bE9bWJDsWSv4dVXp1Id2pYuaTHoHKXM/Xgyb/znv3z62WaC0hPJ/v59/vP+dDYdTOK6MUEsnTeHD956jdnLLPQaP5SkIC1CcVK2bx2ff7cHofLQUF3IqkVfMmtZDjGdu9EuOghVa+sccQ7YqzPFe/d1FqSNFm9/+J6YMmWKmDLlXfHfV/8l7r7hP2JPuVUIoQh7VbZY8NVnoszkEC6XS9hN5eKLf48XkUk3iCUHq4QQQsiyS9QV7RZPDe8lElKfEMVubxmyooja3DXigeFdRbv+d4hlhyqFrTJTfPTyE+KT9fnC0yiL254rFr47XxypaBAut1s4LBVi5cf/FHFtB4hPd1YJpdknUIS1/IB48f7rxY1vLhP1TtlbpqNCTHt4tOh+3fNic2GDcNkbxNF9q8Srt3QQfv2uE2u27RS7dx0QpfUOIWr3ibc//07sK6oXLrdT2M0VYs20f4u0mCHio/0mbymyS1jqs8U7dwwSbXqNFf9++2uxduMGseDDN8W764uE8LhEfdlmcXfPNmLU03NEld0rh70yRyyZM1XsKbMIl8spnPY6sebj+0R41OXi28wa4T6XRvoTYSpYLW7tFy7CE28TPx01ncediqjP2yE+WfiDsLlcwuVyCUt1jnjpxoEiY+C/xJZiixDCI+y1ZWLfyhmiR1ysGHLXx2LLnj1i3+E8UZO/WTx53y3i/z5bJ2od3rZzNhwVn9zdQySMe05UuWWhCCGspdvE3669VTw9Y4swy0IIIQtz2U7x2KhEETjsEfHt6rViR3a5cDpqxA/v/k2Mv+dlsavMJBTFK6PbWiq++tdwEZl6mfhqT5lwe9zC2lAhfpz8sMjQpYgb//1fseCnzWLLTzPEi498LepcLmFrKBAf3jZKXJL+gFhTbBNCCCF7TGLbnPliZWaFcLtdwuVyiKNrPxX92rcTN05eJsyyfEHb5Vw4v0+nUJCFQFEUFEUgo0ajkRq1pIQ2KI6hI64kKkiHhIJQB9B78ADaWAooKDMBoFJpCQoyEqzTNRnlqiSJkOR+3PPXG4lv2Mr7H83hx1W7cGRM5I5BSRwz3aq00Qy8fhRtIwNRCQUhBZHRuz+p1jpy8qpofqXZydHNP7BwQwOjxg4iuHEao9JH0aNfFyrXbWXXkSokvZHElHYkRPijCoygc9fudOveidhgPQQkccOVg0mPCfJOv9QBpPbsT3BoCZtyagCQVFoCgqOIDPcDXRhdhgxmyICBjL/jL1zXNRrUWvyDwwj01zTxltAa4xk4YgIdogNQAbKiJ2PYONrLpRwpMeNRzquV/vCoNX7o/f3wyPXU287HsULCPyqdCSMG4qdVIwkFtX8EwwZ0xliXR1GNHVBjCI2hXbsU/LU6giNT6da1K53T48hb9jkr9rro36czoXpvH9IFxjFwdF9Kvl/J7hoPClB1ZCMr8hsIT4pqXExRERCaSt8BnfGYjXQeNIiebaNxlR9g3tzNBLXvRsfIwEZ3LgmNfyxXP/wI7WrWM2XBDqpd4B8YQmR4GAGSitD0gVw9sh99R97Cw/8aTqBGi59/ICF+BjQnreKrVAbajhzOoPaRqCVQPApxnXrSO8qPiswizHLrL/mfnw2nTV8efuBvxy32QtSz/ettHDMzqHQG/HQWjuzei8lpoqKskorMbMySBYfLg+DYVLr5B5VUerqNu4WHc7L4+1v/40v9y3zwYrcmQqpUfgT6VZN7JJ/amjpqa2qoLtiDx+7BaXE3n7Oznpzde6mpaqBk/xY2mQO8cggN9Q4jqUESLrsDRQgkIRrFEyhCgWOqThdIqLaW4uwDVNU1UFtdRVXhHhocZmqtpxzBKlRExMSRGBXsldkQROxJo/5TZVRrdfgZJAoz91FnaaCqtIr6qn2YsGFzuH83riCthT4gkvi4eBy7stiTVcqETuGcq3OBxqDHr6GKAzuPYLLWUl1dR+7REixCweXyeBMJ4V1WF17nTgXAXcOm5bupqQgkd99WNpmMXqdPAXY5mo5B+6gxuRHROtxOJ446E7XlJlwCDJJAKG6cLg3pQzKIkLz3Vebs59CBBvreGXKau542ZgDd+oYxZ9U+Kh8eQbReg0CgUkWQkRTbmEoiODbypLtO7Shago16yosOU1bVQH1NJQ31RVTV2hBmJ66L0K/O22jcREYpgHZDuqLz1wEytvL9TH1vBjXhfZk4fihj+gymNt7EjE92t6RjTkNliKHX0KF0mLWRg7s2k1V1OZEJQcd/t5XvZfrULykMuoSrx45kaN+hUBLC4pfnI1rysXTZqaqrx2yvIXPrOuTDUqNOMRCdls7j74/mkp5JaCUJTwtyWUv38tn7cyg3tmfc+LEM6TUQpSSK96fOaCa1dE4HSnsRmCsOMPPjmeRpM5g4cTQjew6Guji+eH3+uVbbnwq1MZrR/fvy2aLPWbN0LVkjMugQrDm7h61wU529nnc/XEJAx9Fcd+UA+gwxkiPvZf7q/We+12mjsMGGyWJnz5a1NBzSej+gqgBi2l7Cq/NG0SfBgBqIzhjA0Ig5/LRoEVf0SaRHnI6CAxvZUprE60+OIkilAglcZgtWmwO7y3Wa57kk+RNgNKJ4tKia9KVz71ceew2bvv2cWXtsXHH1JAYM6UmEvpIjU79g9UXqWL9olUpCS2hcNOD1X9k2710+2OzPj99eQ6pRCygIRZz7iYECHJV7WbrFwh1P/JU5b77Nw2/2ZOOUW/EOEJxsnTWFr9YYefHTa+ifagQBFlmgnKkMvR+RYcEYg2MZedej3NMl+PweVLjYNPs93l6p48OZ19C/XRgADULmnDVpi3m72fndF7zzUw3vf/EMfVONSBLYGg3zPppBCmDA9Tdz1VdLmbbkMz4Z2INXb+2P4SzL1x5LOUs/eYMFNWPYdd/ljX3Kg6KIs48iDf4kB/sTHB7FhPse5eqO4S0mDUzozyvTJjP3i2ncOWYYEZ2Gce31V/KPN18hJSrw+E4YY1w80dG17M7OxuYZgk538jjNidUs6DG6G9F+OqQWjAUto1CZvZb/vTafbpO/4qr+SY2VIKOIX9xrfzbnaMOROLZ9qqUm9Thryd67l3pFoG50lvOYili/eiNlZvcp242kk/4/gdt0lDmf/Ii+/WCum3Q7j94/gZLpz/DYjL3e6lasZG46jMniQlJ7RZft5Wxbv5Y8j9zyliZdGJcMHUSkdJip/5tJka1p49kaTNgcruONIITA43DjlrzPIWQn+3OzKbPIqFTea7K1gt0b1lBZZ2vmSbzbq1oS58RONAmElYIjB6n1yKBWe5/BUcXm77+jsN7l213bAlJ4H/5v8htMTKpj2uN38eh735Jf11x0ERfFedkcLqjGbq8ka89ezIo4/qW1V+ewZss+6hynvNDCO6V2O5zettJEMeqmUQTY9vLF7GXkW5qOhc119TgV4e1DiouKo7nYYsazYs8+1s6fwkOTRpMWHdRktBKTMYDLxvaiZMkiluyvapKfo3gVOfXdeXJSb8L8Tigi6di72HytnPSOuqnPO0zOoVqE6tj9Cllb1rGrtAr3RXItOocRjsDjqKMsrx4qKigBUppJpTWE06l3D+zT53L/4yncOSCE7KpAeqakEea/A4dHPv4CKrKLBo8Dt2jA4T4mhZ2VMyazP2IMj4/oiFarot+ke3ls9Sr+/cI/mTBkAaOSg+g6PIPqF5bw3JPh5I5KwlTnIS0tmTiVhNvtauEl15Hc/1reeCaLB596mkHZm3n8LzeREixTlrmHysCe3HLTaBINoNYGkJSWgWrKMh566lUyggIZf+dNdO/UhciZs3juuTCKx7SjvlqQlpKCMciAbD95I5kTq8mBxWrD5m5mgibbsJntmMw23IoAVQDtOl2C/M50nn3yJcqu6EBBKQzq3ZWooPnYm8vDBwBxPa5i8pex9PvwP7zwzF3M/18HRky8mgkDLyFYBw0VOWxYsQp76uU8eP8NBATE0LnnJVT8dzK3tg1kfIKZQpFM26R4AvRFOOVG67wkoQ2JYVC8hg8X/YeX4g8Qqknjhjv/wav/rOfRt/7FhL3ruHPSGNqHqyjP3EWuoR9P/3UsEuCylfPNzPf53+oGVm9bTte4QJTGr5nKL45Lb7iZkZ3j0AalcNfjT5NX9ASvPv4Mulee5po+CVjy1/HSgwu59c0XGZIS3GifknE6rViwY7I1o1iFjMnlwC5bsTk9QADhbS8hpUMN7/ztH4Q9PRF3VjYJA7qRGhZMvduFrLT+OOfMfjguC/s2fsfMmYvJ9YTSLlKwf8dRqjWBtE+IRHvSEFbS6Ilu15N+neNwFVagadePm64eTozWSXVdJeW1VjRB4agtR5g7bxFHTQpRcYLiwlLkiGQch5ax/EAQEyaNpX24P5IkodaH0qFLWzyFRZTU2TG26UD3Pv3o3SEOp91MQGIPrr7mcjpEqMgrKqXBUUutHEmndhGoT1E9ksaPNp36MfbSAaQEOtm3YQcN+kg69x/JmGE9iA4yoJJA0uiISOpEp2Q/yspkBo2fwID0eJI7dqd312TUzgZUMb246sqRpEfqKCupQiqrwBwcRxvyWTDja7aXOjBqZMoLiqgzSSS2S8QgeSjYvZo5sxZQoARjdJspqrbhHxpP1959GNQ9EV29CSWuCzddN5bUCInywnxKa0ygM5KQEI3eN9xpgiSpCAiNo+ugMVw3fhTd2sbi7yhi3YZdlFggNCaVoeMmce0Vg0kOD0Kt9yepS396dQjDlFNJ/LDxXDO6F0HOBspqq6moNBMYGUtcpBGNLogO3dMJV7swiVjG3XAl6dERpHXrz/BB3YlRm8jal0W9PpIuAy9jwqjuBOm0SBKotX6EB2hxmy3IioLDbsNqtWKur2Tfum/5bOEeMoaMoH10IH4hSfQbPpgOIXZ2rFrGsnWZOALbcNU9tzOwYyw6lYSnoYiVy+azfFM2mvgQLMUFFJrsRMUnEuqnwVq4nbnfLGJ3kYnACC2VRcU4/ELo3KkbfQf0JlrfQJk7hnE3TGJghygqS8uod9dTY9eRlJyAUf8LNxycT5uJMxkKhEAgEMqJExWEEF5HKkl1+tBOeIeUQhEgSY3DR+8yukBCUknH8/Ba3ARCSKhUKm86IVCdlq9AadTEx8tsXJpHUjXm2ZhGACqp0dGrhUdCeOVrPFbi2FLkyWV6DcoKigIq9QmnMXHMriKpkFQgCVAan1lCQlJx3GZ1LF9orAfJ+9xCNNbFsfJV0olVEe9TopKkRjlPqrczPJOPYytK3jYCvHWL5O23TerOW9dCAVRelw6h0LgWJZ3Ub2mcVh3re8cWAo7Ze7y/SXj75IlFAjcHl01n2io7426byMAOsejV3v4tu2wcXf8hEyd8xIRpC3j6hm4YpFP7ZGNep8qseNM1Pi0SEt6dN9LxfuV92OOZNPbbE33r2PunyOJ4Ou+11utZZ9kt7hVGOtc1x8ZKkpoY7yRUavUpyZp7QKkFV2sJ1anukNKpeTaTpiURGyv5zGkAScUpYiOpVE2bRuKUFQTOmLe30zZTmcc78ylyniqAjxY4Ybs4tc6asa552+GkZJIKpOYW1k9WPk3u9/5t1kbtLmfV7AXUdnqQ7h0TOcn8gsoQRNu+g+gc+RlGo+H4/Wfvk1KjjC3sF2upXx2Xt+l9qou4N8w3SPfh40IiPDhsCpJKjVpqOnkQCOqPHsGU3JOe6VH8Ng+Q+HXxKRwfPi4kujiGThhA7d4NrNtThN3tXf2S3XZqCvbz5fQtDHrwUfolnXu0yj8SvkB4PnxcYDzWMpZMncbm6kAGDu9DQkQAwlrDwT370Xe9gokD09BehJ3avwV8CseHj18DxUV9ZRmFpWU0OCSCQyOJT4wnPPA3duJcK+NTOD58+Gg1fDYcHz58tBo+hePDh49Ww6dwfPjw0Wqc0fEvJyeH1157DY/Ht5/Hhw8fzdOtWzceeeSRc0p7RqOx2+2murrau43Ahw8fPprBYDAQHt7ycR0n41ul8uHDR6vhs+H48OGj1fApHB8+fLQaPoXjw4ePVsOncHz48NFq+BSODx8+Wo1fcLagwGk1U99Qh0cfQXx4wIWT6qKgYK0upV7xJzYqzKeJf8PILgslRw9xuKAGTUAYgVoXdQ4tKantSEsIa/5grLMikB0m8rKzqBFhdMhIJVh7kXd0CwW7pZ7KGhuBYRGEGg2/+375MxWOkx3ffMKC5RvZmVfJwIcm8+xVXX6ZJEoD+7YdxKH1x3BSLG2huLA4JLr37I7/rxRj21mfz6pv5zD9y420v+6fPH/viGZiLitUHtnM94u/Z1ueg45Dr2D82MG0Mf4Zj1G6yAiBx+WkZO8PfDz1O5wdBnH/XbeS0ObnO6jKtgqWzviAzxaupcrdg1e+fJMhsa3XtvaaXFYu3Yyu12VcmhGJ8Fj44asPWL5iA5tqonjo6We5qV+bVpPn1+JnKhwt6UOuYpytiB83b6PacQE8kZUavn3+GRZX1COpVcgeJ063DEIQeslVzP2sG/4Xuv2tBXz1vyl8sWI7VdXl5BwwEXyp5/jZsscQsoU1sz9mqyWBEWNuobutjA3ffcNDyzbx8puP0jnK7wIL5uNMqPVBpHYZRHiAjZVTvyY7pjPXjRtO+M88ZV6469iw+FvKYi/jPx/diqmsjtDAX+N4V4HstFBaVo0uNJqoYP/GbuahdP8qPv7vFJgQxrDnL0en9qPvZTejqt7DJ9OLaHD/MZxvf6bCUREUlUhymxgC/LQX5ghm4UYb2J+H7h1IUpgep9VEvdUJqDCEJRyPB35BkesprzQw7o5/0zm8jP/95VWaa9b6wz8yY001tz11J71Tw5BEOvHBHg7+/XneXjSUT+8dhKoVD6L24UVSqdCo1GjUGqSfHfJEoXLnQqZ9fogbJk8iLSUMkSxajuL6ixAUrf2Qu97Zzn0vTmZSr2MKR0Nsl9H844UY9Bl9vEePSmrCIuNJio9Ao64794Cbv3F+gQ3HezizuFAVIQSagFR6DRpCp+hm7EG/hj+0fyo3/vsxQsONmLOWYmj2IGsHe75bSL1uOGkxIY0HrKsJjU+nR+dQXly6mep7BhP1B+kQfz7cZG3aTFahQNMYwPHXipAhEDTk72BjdgkP+zW1x/iHJTNyfHIz9/yxOtY5KhxvqAm3tZ6CnCMcKTcRFp2ArtbafDAtIZDddsoKcsnOL8PjF0ZaWhqJ0SFoWzydXoCfBhUgK3JjyBkVKqkxIsMZ6l0IBZfdRFlBHvkFRVg1EbRNTyc5NhS95gwjI00Q0dEASsv6zFXK6qW78R99C8F+J/LSGIykxLfB8+VBcswKUcZmyhHeIPZ1lcUU5OdTVGEjIiWd9m2TCQ/QNobscGO3mqgsLcMTFENyhIGiw3vYl1NFUFwKGR3aExPs3xgSpDFbxYPNVE1xYTHFJeUoAVHEJcSTFBdFoEGDNyYNyLKd2vJiCgoKKa71EBYbS3KbZOIjg1qIkPF7xxtax2aqoaK0GGdIGmnBMnlZmeQW1GOISaJDuzRiwv1PvOweN+X51dgsRhTFgyJ7EJIatQqELGOpL6fg6FEKyhoIiEkmvV0aMSF+SJI3JI3DZqa2sow6KZiMxDDKcg5wMKcUKTiOtu3SSIw61ucFoOCRFVRaFXgc2GwWUOswaFQ4bSaqqyqpdoXStUP079443BLnFHnTbTdRcmQvGw4X4yccZOUVUVWUS9ahfeSU2ejdJL2CvS6PZYt+xBmSiM5tonLfeubNFIy9737GdU+k2dmREMhRWurydvPd8t1s2p6NJqkbQwcNZECPdgS2ZDAWCqbSg/z4wzaskpOiAztYsWE/npA+PP7GU0zoHvvL4u6Yq9lT5SA8xoju5Gw0esIiI/G3bKSo2g3G04+O9Djr2L92DTuL63HWFrB94zp2FnkYcduTPHXvaKIMDrK3rWfZ0u9Y9ON+Ot/4ENe3NfPTpn3s372ZQwV2UkfdzXOP30mvRKO3dmUXZZnr+Pr7bcR16IrOVkNl1l4WfJpLZO+rueeWS0kM0SPcJvb8MI91RX5kJOmprqglb+9qVvr35oEHJhLzBzQ7CeGkYP0S5i5bwXfL15L+wNtM9Cti6779HNizh4NlbtoPuJGXXrqfS6L8kYSbiuxd7MoppqrWwkcvP8EPUaF0HH8P9w1KJGfjclZn14GlhO0b1rLzaD0Zl97HS/++hVSjRHnWNr5fuIhvFq8hbPTDPD4Ylq7bx+HMXew9XEVEl3E89uwjjM2IQnhclBxaz9dLMvGU1/PJq0+yJCCELpdez/vC5yMAACAASURBVPC2dtYuW8qKNdtwDHiC714ah+5iV+avhTgLissktn39lrhxwpNiT6lJuD0e4XG7haU6T0x7dIJISogTD3+983h6t6VUzPzXeDHsbzNFld3jvegqE6/fPkL0uPEVsbPMJpTmCjLvEg9MvF6MGjNGTLjpFnHV8B4iIjRMBIZ1F898vVe4WxZQHPlpmnjzh0PC6XYJl8shSrZMFz0TYsTVT88X9XKzpZ2CLKoOLhY3J6WKO9/8UbjkE784cr4XGWkJ4rZpG4WjyT02sW/+S6Kdsa/4/JC9OcGEqXif+PyRqeJAg1O4XC7htJWJj+/rJ6L6Xi9WZFULIRThctpF7rrpYqQxSPQe+4CYsSZTmG0OYTdXioUvTBIhkQniwc82CrsQQiiyaMjfIP5++XDx5LeZwqV4n83jsohNM54SPRK6i0enbxA2WRGm/DXi75ddLuYeqDsuj636iJg152uRaz6XOvnt03B0hbi9XbwYcN87osbmEYpQhNthEzmrpoiEUK3oeNPjYvGmw6LeYhPWukIx58XrhU6bKh6f2dhflQaxf/US8exVA0Vq1Fjx1uxlYv3GTWJ/YZ1w24vFjDveFJsqbMLlcgmXtVJ899qNIrXrMPHhhkIhhBAel0NU5a4Qt4arRGrvSWLq8gOiqsEqrOYasWrqo6JzUrQY8ew3wimEkF02UXx4u/ji8WFCl9RZvP7lErFu3QaxL7dc2JwOUbB9nhg7sIPo+sSSJn09c+7DIrjbGPHe+jwhn1YDvz/OOnKry9/K5C9WEnrzrXSNDUKjVqPWaAgIT+by8cNpEx90svqiYPMCnp5RzrV3XUWEodHSr42h38BOHF36E2t3FtOsfU/2p9+ku/hwxgIWfjmTRau2smPZB4xLq+SNJ59lX6WjmZtASBriLhnHnSPaodNo0Wr1xPW9locGxdFwOIdq2y8z/ghFOR59sVlUevS65kdQhshkRv5jIh2NOrRaLTq/GG75251EFheRW2bCg4RWpycoNIQQg4GUIVdw45AMAv30GAIjmfDAA/TRqynclkutSyDcdexYMp+lRZ24aWzG8ZP/1doA+lx5MyN7qFn48Uw2lDiwlR7lpx1lZOUW4V1DlPALS2HokEFE/EHP8ZaQ0Oj9CAsLR6vVccnAcYzu257gAD/8QxIZe/Pd3BhXz9aDOY03GLlk6Ag6t4nGXx9Dlz4DGDSgP5ckhqDShTH46dvpE+WHVqtF6x/JuNtv4xLJTVZWOQ5ArdVhDA8nSq8msvc47hrdiQijP/6BYQy95mbGdU6jZk0mpQJUWj/i03vQrW0UKv8QuvQayODBA+mcGo2fTk9waCh+hj9ow5zEWaZUbgr2biW/1I+xHeJP+a0xhG+Td9HK4Y2bMFs1GNxWrNZGhSOpCDbGk+pYS2VlLYoQp9sQjOncNim9iWhteo3nPy9ksuDyz9mQU0vXyLjTnLokJAKjo/Fz2ig7msveHTs4XFjEruJqzGFWnJ5fpnB0fgFEaVQIlwf51B8FqFTRRIc0t14vodUFEZ/gwVpTytHMPWzbe5iK/K3YGpzY7e6T7EYC0BJk8APhDZMMQHAkyZKWUpsHWZHwmIrZuH0PjqDLiDxlzK0OSWJ0387M+2I3aw6XM7h7D67oUs4zE7ryanQ/brrnGkYNGsyw/t0wXmyHtlZASAJ9oF+TeJqagFCi2/iR6XCeuHgsfPOxcLuNqFR+JKfqcZirycrcw7Y9mVSUHaS0vIEEsx03YABviGEhERTgjzjJn0LlH0SsIRB1uRO3B9A2hvRtfGGa+4j9Gc6JOYvC8WCpqMRuMeNwN+9r06Trup1U1NZitefx1dtPsSmg0VgmAkhMb8eD016m99D2zRssm7uk0hCe2pEMJPwM6uYNx4qdo9t+ZOq87bTpNZLLR17HmCgVC4t+YnLxL29CVYCRaEWNJb8WuyLwP2b0VmTsFjvulEQSgps3GFurDvPtrDnsdscz/vLLuOH+sajy57J8+uTT47I3hwQSojFUtMDttlNjteBxOTi9NTQExwaj91ejllQYIjrzxIyldJ77FQvX7mbPtx8y/40nCBn4ANOnvsigtiFo/vh6pykCOB73/cx4rBX8MGMqP5YbuHzceMbfPoxg61YOzT/YGDH+HDmvxH98zqJwtBhjo3CrlrN211Hu7t7zJOu5gtVkwe06qeurtYSFhuDvH8uEx97i/h4hSMcCqR+L/yxJpzW47LFhMssYQwKbKiOh4LCY0LXvTb82wc1a7q3Fu3j3P1OoGvo8z98wBO+g1IaiiAvzxQhNZHjncL4pK8ZkVQgPavxmuu1UVtaROGQgbZrxERNKPRtnT+P9+Xbe+OZJBsXqkZCwCXGmNbGWERJ6vxCSw0ORt+7hUIVCXPTJNSJjrbcSHtSJfqnhyA4T9ap23PSPlxl/j4n6mirydy7mn4/M4rtNufRI6YHxT6dxzhFhJ2ftVzzz9k6e+n4GY9oFeeO/W5TjIxQfP4+z2HA0xHfoTvtADxs//5Qthebjvzhq8ti87gDV9W6Oq3BVIB37DyBSk8vXMxdR7VRQq9Wo1WpUagmnzYbd6TntdRP2WpYtW0Wxpel322WtYNWqHIY98RjpYfpmPhQK9eU5HMktRG0MxCB5ZyOV2dvZkVeDW7kQL1QEw24YSvnRbewrqj/uGGirKeJgbj1XX96P5mbewlFD1s6DNLi0BAUYkJCQHTVsXLeNKvlnqRzUwXEMHjkYo3MHXy7YjOt4JgLFXMrWTBOdrhhHvzYB1JXt57MVeaDSEGgMIyElnX6XXkm3Ph2Iiw1GdxED2l8wjvnLNOM3c+6r/qcnFLKdogMHqGpQERTo5/U3c9aza/NWCsy2024/nkOzjdo0fyFAdnlwyfKJC+ck3R+gvTiHZfGQ5F7cecNIst//jsefMvL3W8YRr6vlQJGL8NQkjKG7sZrNuGQFjVoiqe+VPHn/Rl6f+xb/Cmhg4vCexIboMZcVUOmOYvCofiQYThEiIIwgy0G+/Erm0kHdiA31w1lXQubBw9THX87jE3uja9Z/RyIgNI6YEBXrZ03ly5gbiJerqRdqdHoVHrcDp9OFEAakFnqgonjwuN2Yaqupc9pR11RhsjkxGjRo1WqQVKQOv42rFrzAkgU/0i5kLMmBLnZu2UBp1GAe6Z3YfMVpg0hoF41p7To++WgON/SPpqayARk9etmD3WHHIyuoJQ92swWL243aasHp9qDSaVA1yitQcDjNWO1OFH0gHYaM54GrNjH1g7eYnhrAdQPT8ZMb2LFyBbUpo7hv0jBCNRKllUWsnrecgT2MDEiLRLgaOLj2J8IHjuOKXonof8f9VwgFRRE01FRTbXdgaailwe4gSOeHChmr2YzHrWA3mbG5PBh1WiQVeKf3MmazBafHg1YlITvtmJx2nLIas8WGogQhqQyEJyeiEj8xbcpn6Ma1x1xdBy7QS+B0OnB5ZBSVgtNkotatYLGYcDndqHRar98Y3rZzuU2YLB4UowqVSkV4QiphNVuZN3su9u4JJGf0oWeHKGwWMy6nA9nUgNUjE6RWIxQ3DfUmhMOB1WLFJcvo1OrftY+O+vnnn3/+TAlUWn+SOvekf/f2YCrjyO7NFMhxDBs9ko6RbvLzyqitqKHBrCE6NYFwYxgd+wyiX5cEGgoy2bJpN0UWhaiktnTr3pG4sEA0pyoPSUNsiIGynP1sWLOBnYdKwT+EthndGDSgE6H6lva1SOiNUbRvl4K2tpDsQhvJvfsxsN8lqPIPcbjGgsOlIyYpkfCA5j0banK2sHDBQpb8tIUqSYtsq+LQkSLqVQbSk2NRSxKagCi690zHz1zIhhU/sGZ3MQGJXbnyqstIDfdr/tuj8ic2rS2JoYKc3DzcxhT6D+pPtwSJg3uzqFXc+AWF4CjcxZLFq8hzq8Buw4REakoaAToVKFaytu2l2G6mweYmIimF+Og4ugwcSEaUIGvHShav2ky5SRDWphOXXzaM9nFGVICQXbjrc9i/aQ0/rNxIkRmCYzO47NJhpIQZfplv0kXGbatmx4qvmfXNKspkPX6Sg+IqC2q9P56sdcz8bh1m2Q+dw4xJMZKcFEOAXoXiMpOfuZ/CMhM1bg9hOhurV3zP5gP5yAFgqqvHExhGclwMUQmptI3VU5x7hHptLP0G9Kdn22DyD+VQ6bSiaAIJcOWz6Ktv2WtVoXY6MCky4fGphPlrkRQ7JYePcLS2gppaO/7xbWgT6k9ATAoJfm6yDxWij8+gX49k6vauYv53qyiodBLgaaCmRiayXQSZi2fwzepDqAS4bFYUEUBMYiwBv+OpsO8QdR8+fLQav+fRmQ8fPn5n+BSODx8+Wg2fwvHhw0er4VM4Pnz4aDV8CseHDx+thk/h+PDho9XwKRwfPny0Gj6F48OHj1bjZ59pLBQPNnMDtTVVuAPiSY0OOvtN54rsoqKkFJsw0iYpjNP8jBtPAVDcVsoLy5ADIomPaX5z54VGdpooyqvCPy6eSKPhuL+u4nEhS1q0LexREh4XbkmDTu3T8b8U2WWhIGsvh7MrcPuFEKJ3Y5IDSEtLJz05svm4VKdE4vBxcfiZCsdDzuZlrFqzljW7s+l8x8s8eUXnXySIUBRcDjOVRdns2LiShUsPkXbpX/m/+/o0UThCduOwmSkvOML65UtYtLqCEfc+xl+uDP7VOpQiu3GYaynM3s+aH5fwww4Nd7/4L8Z1iWksUqF0w5f8d/FBNJrm4zcIyciYvz7CyKTfe8DAi4+Q3VhN9WRtX8aX89ZD++5cN/FaomOSW9wUq8h2SnJzqVHH0aXtzw10KLBUHmH5T/uI6D6YgekxqFs8o9tHc/xMhaMmrmNvehRtYdq8g0Ta3L9YELkum2lT3uLblQeoN1VxME/NzQP/cloHMhVs43/vvMdP2/Ooqy0msyyazrf9mmfbC2oPreDVNz9g25EqaivzKHD1Y9Ipj2wv2siX8zcQHWJo+oUVHhoqq3Ak3MKtT/8BDxK+CGj8Quk8YByJ0Vp2zP2enLje3H3jBML9mt9zp7hMHFm7gJfeXUTE+Kd4s20YhmZTnp3yvat495VptPtrML3bRuPnUzjnxc9UOBIBodHExUZi0GsuyMsurBUcrtMz6p7nGBRdyMMPftJ0638j7vpCiohn4qMP0MG2ktv/vuwClH4mJBw1R6kK7s5fX7oS7b5P+dvk8lPSqNDpw7jrf/N5fFgbDBo1ovGgJ9lazOdvv0/d8L/SJcg3nbqQqFQqNCoVapW6xT6ouK1krl/Cp7M3k37lvdxzU/efrWxAIr77KP7+bBTR3bv7psc/g18Ql+rCoonry5v/6YdBr6N23zfNhNoFEIR1vpp337oOg07DoSVbaY2JeVz/u5g2QI9eC2vzvmzmDBM3VYXBDLk+heAg/5NGOB7KDu4j3xnD44NOjznk49dGoXDrYpblqLnl2VfomhTBmaIGnQt+Ee255vr2F0a8PyHnpXAUZwO5hw5yqMREREIKQRZny+cHKS5Kjx4iM6cEj38UnTp2ICEisEX1IGn0+GnAe2ZJSxJIqLSG41+o89/mLnA2lJOTk8PR/BpCUjvSKT2FUH/NGY9rUOn8vYdsidNONT6WgoTRE0mKNTRRlK66IpYv30HClQ8R5X/m0LGK20p5QS7ZecVYVKG0S+9AWnzoCeWleDA31FBVZiUktQ2Brmr2795JodmPthkZpCVF43/q2yQUTFUFZGUdpbDGQURCMultU4kKbnqkhsdpoTD7MNkFRdhUoaSlpZKSFEug/gJFVW1lPC4rNRWlNFj9aTPoRv41yHtdcTuor6qioNJDh84p3jZV3NTXlFNZoRDXIQFqC9m77xA1niDad8ygbWJEk6NYPQ4LVRWlmDVhpMWGN7HhyI46juZkU5Rfit0/itS0VFLiozCc1C6K205NRQkVspH2ccHUFR4ms8hOWvdutAn++WOv3wvnpnAUJ+WZ65mx4hBpKbHUVxazcvbbrNxygAIL9DwluWwvYd5HUzGnDKVrTCBFexbxz3c/59onn2Biz/iLMqySPRYOrVvMgq01xIYqHFj/PUs2ZtN27P8x9fU7SQ7+JZGA1MR07dD0knCStWMV6+RuvDk04QwvrsBcsp+FC5ZSpwnGVXWEZXMWkatL5/VPP+WGXvF4qjKZ/eUXfLtoBUdMHXn9w/vIWjCbUoeH7St+JNcexXWPvc5zd48grPHsIOGuY9Psqcw/6M/46/oRaXRycPHbPL3Fwz0vvMCk3kkY1AJr5UHmzZqHpuNldIqOoqqyhM9e+4IONz3JraPb4f8LaqXVETKW/fN48t15rNuwizYjX+aTd2/EoIXanM1M/3w6KxatZnfizRxe+hJK3lqmfD6PFct+os54HS/9uwvbV6ymoqqCbRu3U6lJ5oE3PuKxKzuixcaur2cy5/slLN9eQt8HX+Pd+0fjp1IDAnvROp7820K63TeBjNBQzEc38/rbL+DpfhOv/9+tJPrLFGycyX3/fIf8KhtJt77KM12LePnJN9nuaMcrX83lgf5xF7sGf33OFkdGdtSKNdNfETff9orYX9YgnG63cLtcwlSVJ2Y+db1ITUpsEpfK2ZAn3nvwSnH5/80VVXZvhB3FWS7+e89losvEF8TmIkvzcamOo4jqPfNEr9Re4p7Jm0+JBdWUg4vfFLEhfcRzcw+KM4efUoTTXCS+eeZTsaXcLJxOu3BYqsWKt+8QbToMEJ9uzj+LTMey8Yg1Hz0somKvFF/uKGs5TpCiCHP+evHWYy+Jb3aXnTXPQ1u+FS/M2SlMDodwOGyiNudHcWt6tLj831+JWrcQisclLLXFYuYzk0SosYv4y+uzxKGyWmG1WUVNwVbx4KB0kdTzOrEks9Kbp+wQW2a9LAYP/5dYn1/vrRtFFvb6PPHancNEQrfrxRdb8oXitogNn70grrv+XVFplxtrShaHV30vvluZKSznUicXkVPjUgnhjf/UkLtKDEwIE0Pu/EKUNQYZ83icoqH0gHjn/l6Cgf8UNUIIxe0Qpsqj4onr+oqwxMvEM58uFblV9cJqMYmivUvFjR0TROKof4ijDS4hhCJcNovI2zpHXNmlg7j5re+E3SULIRThrD4g7hs+Try29Igwu2QhFCFkt1XsWzJZ9G2fIa5+bp6ocsjC47SK8vz14u6ukaLdhL+Iye99LX5asUhMeeE5seBg9UWrx9bkrDPa2twtfPTNZqKvuppOMUZ0Gg0arZagiDYMHdmbuOiTV15kjm74lncW1jLu2lGE671jGUkXTc8+HSj9aTWbdxefOc7Tr4KExi+CgfdeRY/oQLQaLRpDKIOvvppObitHj1bTfNSrn4fiqmX5NyuojOnIsIyIs4imIiljIPeMuYRAnQ6tRkdwyhAm3diZXUcPY7J7kNRaAgKDCQ0x4hcQw/ArLqNDdAj+fv6EtenJvfeOxGUv5nBpHQJwVR1k5rwf0F56Fb2Tgr3TPEmFIbgNt9x+HeH1G5g1ay0VTicVJYfYmbebPdklON0eZBna9OhH3+6JzZ7V/FtHpfXDGBqCn6bpdFCt1hFoDMVoDDx+TdLoCQoOITjAn8Cw9owcNYDUCCP+AUHEdRzMvXf1oyjvACVmBwIJrV8AIaEhBPidGKML2UH2qmnMa4jg+uFpBGhVIIFK40/64AncOiKCZTNnsOloPWqdH5HxiUSHq7Gp4rn0uisYPvIK7vnH3xiaEtyKtXTxOGuYmNLDeygoUzO6bewp0wIJlUpNE6OtcJC3azc1DTYqj+xis8vfGyVD0lLrMJBkULDb7Rcl/o5KZSAy0kVxzkHqTTbq6+ux12Thsjhx2V2nx5z62SiU7l/LT9kKl94/gFDd2SaQEoagEPwrSsgsrMNqNdFgNpNVbqPebsEte49tPxaDQqXRExSoO+mUcDXh0ZGgErhcHiSgrvgwB4pKibgx+hSloSKhcy+6hvmz50AmZbaJZPTsT4dv3ucfN15JUq8h9OmYTpduPejbp+vv0n5zVk59qMbOqNL74W/QHk+gQkt4bDS4qnAK5UTyxpA9x1A8JvavWU5DxBgiT/HB0gVE0rNvb4KmLmN/QS1XZYSCkBBCR3xqEpFBBlSSCj9jBH5/iqhU56BwTBWV2E0WXO5mXklxiv+Lx0FFdRVOZx0HtqxEPuSd3yL8iEzswD/eGUzX/kkXZT+Foy6fJbNnsdMeyWUjR9C1bxcCrVpmGmZe0HKErZDFc5ag7Xg9gzpGt7DadlJ64SJ7w/fMWryPpAFDGNavM13Cg9Afmo5Ucm6v/AmDtwTIOKwmrDYHwTb36Q62QWG00QdwUBYItYF2w27hv+8lsWD+D+zJz2XVV8t4f7LCqIde48W/XEnbsBbObP69ch7v9cmKpSUU2U5NaTWKU8aNQJy8/KDSEBYaRYwiI5pEEBGoVSpvzLETpZ27YL9jzqJwNBijI/BIxWzYlct9vcKbxKUy1ZlwOE6OS6UjNDQEvX8kI+9+ige6/ka8aoWNI2vnM/njPTz49XSGdzR6rztUF7adFTs7F05j0T41j9zbi4hzCI0g12by8TsfkNn+b/x9/HDCG6ML/Dx/MoFATVBYDCE6LcXrd1N9e0ciT9bwdiu1KjXRXTqSGAT2ejthPa7iyYHjaKiupLqiiMUfvMCbX61g75VDSQ3zO31rye8AgTdEszgplI4sO7Fb7Re0HJU6kISMNHg/k/0NbgaH6U/0KaFgsZpwJbala1roBS3398pZ41LFtO9Cor+HLbO+Ym/5iZg8LlMJ2zbup6rWwYm4VH6k9+qFUX2Er79cQo3z5DhTApfdgcstn+Uj04y33y/FbaVw3wFqrQaiwrw2J6HYyN6/nxKn6zwHsy1HCrKV7+P9D5ei7j2Knskh55SbtSyLLXnVBEaG4a8CULBW5bA3s+QUlwPppH9nli0kuQsjOyaSt2kBGw7XNUlRnb2PPH0Sl47vT7iwkrPrBzYW2wANwRFxpHXqy9XXjKV7Rgxhgc3FAvsdoNYRqlJhrSim3trYB4WL0sM72LjjKKiac4Joqd81H57oeFFaI73GTiLNto3pSzKxnBRaWnbWcTCzgPhxV9A7Ibjl7P5EnHWFOrxtf/522ygem/I1Dz6m47HbryBWV8v+PBthqW2JiNqP1WzC5ZHRaDSkDb6WF+/fzsuzn+UfmnKuHdmL2GAdptJCKtyRDB7Zl8SQ5r6ZAkX24PF4qKuuxu600FBZgcnuJESjQas9cY/scSMrHmprq3G5zFRXVmF1OjFotM3vZdL4EZXWBsU1mw/fmo726gxMJeW43SY0soLL7sDpVgjUNq9/BQLZ40F2W6iuq8XlaKCysha7IxSdVodGLQFu1nzxFstLY3jx8n5nCG3TFEN4IpeEwIpvPuazZAcdg5zUmV2Y0CIcDuwuN7KiRrhsmC1WXLIdk8mG4glEdbLfjduD1WLFLsv4BSZx/UP3s/rhF3n1lcnEPHs/XZPCcVRl8c0PBxh27yPcNCgNRakjP3MHC3YH0+XuUSQE6LCZC1m9sYJrbptEz7ig3/xxApKkRq8zNA18Z4zj6iGpPPbjl7z2uoFx/VJRaiqosTiIS0+CTCsNLjdGlYTstGFzOPA4LJjNTpQwA5L6pD7kdNBgceDxBKBCYLdYsNkcYLVic7nR+emI7n09//r7Sp557XE6G1/khqGdCNE4yFz3HZnqLjz375uJDlCjyB4cVhMWixuLyYzV7iJEr2+cXv05OHtcKo0/qb2GcMXwHnhK97Ns7gx2OzO48/ZrSDNUsHXrHvZt3cPhYkjp1p6YkAi6DL2cK4alU7ZrOTM+nc/uKg9p3fozemhPooN0x4O8ncqRVdN5e/Jkps5aSo3bQUXWOhat24fdFULXLsloJVBk2/+3d97xUVXp/3/faZnJpPeQnpBCCKHXANIRBEHsvZe1rGtZ3dVVv6591947NiwoSFWk9w4hgZCQQHovk0xmMn3u+f0xAQKEosvyw3Xef/Aid86999xzz3nuc9rzYfui93j91Vf55MfNyGo75XmrWLa9HFVgHJlJ3ewWltREJmeSHaskf+tq9pqjueaGKxgcK1i/fD255QdpdofSt3c8um6WogqnkZ+/fJnXX3mN71YVoFAZ2bPpF9bk1hGS3Iuekf5ILZt46pF5xMy6jttm5hCqO7MtHyr/HgwckIaibhdr86qIGzKVmZOGoahaz5pl+ZQ3tRLgK1j3wzvM/n4rFtrYlVuM8O1Bn4wYVJLHs1qxZgcF+/bRYg4ivV9P4hOzuHjaeCLN+Xzwz6f5dFk+BkUYUy6/junD09GrPZXcbbXQuGc5L734El/N30WrKpgxl17NpIGJ+J7EAJ8v2NtKWTZnHb6DZzBzbHoXsUQdGWNGEacxsuanhazYWkZg34nceNkY3NXb2LZpC+v21OMvNzD3y/dZvrEEu6ua3D0V+MWkkBofhhKZtopcFq7YxM78YoTbl6odi/nwwy/ZXWvCWFbC7ioT8Wm9iAsLZ9C4ixmfKrHx2/d4/a2v2VlnJyZ7HNdeMY30cB2SbOfQ1h95/skXWFFmxl6Wz478cuw+kfRMjsbn/C7qs4ZXl8rL75a2Q7/w1zvfJvmBV/nr1FR+x/pwfxjOm71UXrycGQJjYx12Hz8aKhqJGHcDV16Q3H0MHC/nHX8QR87L/xI7F7/ArJvuZ2GJnhtvm0qy/uS7xb2cX3i7VF5+dxhqCiluVNAzNYlQP43X2PyO8BocL168nDO8XSovXrycM7wGx4sXL+cMr8Hx4sXLOeM/NjjiyD9nmWP2wXjxch5ypIL+8Sqq+I0N/z9YhyNw2CyY29tx+QQREXgWFQmEG5PBgE3WERru53XDvByD7LLSVFNBZX0bTlkgCdElxpJArQshMjqKyLBgtKr/wt48Ty6wd7RSWV6L0y+W9MTg3+Um11+PQHY56TAZsTjUhIQHov4VO41/Y1u2sfnLf/HQjZdx0fSZBzr5/gAAIABJREFUvLG6+LddphtMdQV899ojTJt2Pf/6bh+OblO5aSjZyPvPPMi1l17Og//6nN0VbWctD91iM5C7biEfvvE67302j50HG5G7S+dqYeviT/jLTddz/Z+e4pu1Bdi6TejlNyPL2O0Witd8yfUXTODKh98g72ANBkMLTbWlLH7vH0yaMJ5bnv+aarPr9Nf71QiMFTt569F7ufOWq5h89yJMQOnaT3jlo2XUmv5z2aTDuKzVfP/R+8zfchDH/+d6JGQXzXsX89TD9zBp0mQefH4ZzfZf6eX8J+ECq1a/LHIGph4TYvS34mjcJ1645yKRHBEmIiPDhMY3Tdz+6okhRmWHUax475/i/r9/IAqabUIImyhe85m4bMh48fKyktOEGv1tmCvWixsmDhI94pNFWnqaSIwOFTq/JHHF098Lg+NooFFrQ5544paHxHtL8oVNdomaPQvELROGiev/tVR0/Dcy9gfHWLZK3JwWI3LufEMYrK4uv7SJb+67QOj8k8SjX24T5pPGgv0tyKKjoUB88fKbYkWFSQjhFPWFFcIpjOL1ybHCN+1SMXdPrXCd9jpnhmH3J2Jkj2iRc/97osbkPEtX/a101mFXpbg3MU5MuuFLUW35dYX7H/RWBJJCieJsafNYWzGHDuLv7//AwtnP0TvCH9GNp9ac9yOfr7Ew7ZbLyQz1AXxIGTGT+27szcKvF2F2nu3PgMzB9UuJveRJVm/eyZ7cPWxa9T0PXBjBz5+/y+oDLZ3pBBu+epfm5BxmjOuFRlIS3Xscd986kf2ffsjq8o6znC8vCBlZgDhhvC+QqTddTjom9u4vps129uI5go3dC+cw/6CT5DAfQEVEehwqArji5c/49t3HGZ8adta6VwEZ03nhs0/5110zCD+N8sd/n84G6ZbpDK33qzk7g8ZnAVX0IB595FFumnEBPXuEnERC1U157mbKDU40GvWRowq1joiYaJRWK0KcbYNjpLquDzddOYH0mGB0Oh3R6SO49oZZJDW3UFFr8iSz5/P5lxuJ65dOWOdOcUnlS1L/EcT7FjF73aGznC8vp0IfEUeUQoNGpTm7YysdzWzeuYtSm0DT2XqkzugH0VnjmT6+PyG+6lNc4Neh1IUzcuKFjMiI/lVjJecrZz5oLGQcpgb2bN3M1tJmYlKyiGxrxyV3b3LcDjOH8newZU8xDr9Yhg4ZTGZiOKqTFJqk1uKvhlObMAm/wCAay3/h8zkjSLpnKnEBWhzmRvYVtDD5smvQq7uvXkIAshNjQxl5e3aRt7eW0N6DGTFsIAmhvicNmYGsoc8Vk4kOOqoZJCGhVPoS2jOLfqmeIOmOwo2sadMxKSq4S6Eq8Q2MIjBCYtmOEpw396X7qihwdrRQun8vu/L30yxC6TdsBIMz4tCpJBDgclppaaig/KCJmEFZBHVUsX7lL+xr9qXvsOEMzO5JqK/6SIBLITyDq42VB8jbs5eiajNRqRn0z87uYtAFIGMzNVOYu4fc/YW0SRH06d2bvtnphAVof7cD9sbqg1T7R3BpVk8CtAqcVhN1VaVUNpro2X8IqrrdLPhlP8njL2Z0WigqhYylrYHC/Dz2F5XSKkLJGpBN395phPoefaNup5V6Uzsdkh2T2YzJqUHr54vCZaWp8hCH2hVkZqQTrFMBAnt7PQV7ciksLKHBEULWoGz6ZGYQFegJbua2tHLwQD75ewqp7lCSmJFJ3+w+JEcEIGQ3NnMbteXF1IkwBmSmdAkZ4qkzhfm57M3dR7NPFJm9PO8tvDNwmux2YjEbqDp4EItPCn0z9BSsX87a3BoCEzMZNnQAqTEhRze+CkDYqTyQT+7uXCpaVSRlD2LEoF6EniUjetp4OADOjlbK9+5k5fb92JwOmpsbObRrNQuXria/oo0+k69mSu/ozky7sTSXsPj7hdSJAAJ0SqwNBSxeuBlHZAopUYEnNTqHsTYU8tV3m4gaOpWpw2K7NGAJX38fynasZsmyVRxosOCjgYq8PNrDspk1ZQiBJwl8JdwdHNi0gl92ltHe1kDhrnX8uGAxu+t8GDgws7OCdIeagEA9Ckk6EuTJ2lbF5vVbkAZdzFVjMvBRSjTt+p63lrVx+fVX0ivc92gQRLeZrT8vZUtZAnfePKwbnScZU10hS39eS0VjK7UVRaxdNJ+FK3YRlj2UjOgA3O2VrFuxgM8/eo/Z8/cR2yeawjXLyC8uYcPyJSz+eQPN6lj69oo/UiFd5no2//g9v+xuIrxHGCqFm+biTcyZvx57SBJJUUH4KMFUX8TieYtp1UR4vszCTu661ZiDMkhNCD6JgTw/sLeV8vNXCzAk5XDtlCFHYhm5LLXMf+tN9gYM565bphHStpfv3nyNtz/9kqU7a+iVFsIPzz/FG7OXIg+4kIm9Qmkq3MQPC1fSoggmzN8Ht7WFLYu+45c9ZtL7pnvEEp0m9m9dydz5S9l/sIbGkr1s2dVMYr9Qtn/zEa+89g4rqzTkDOtPmF6NuX4/C75bSr02knC9CtllZe+quRQGDmFYYiCyqZql3y7iQKuCsFBfcDuo3b+NvAY9I/sl0FCwlcU/fMHbb35ErjOW8UN7o1crELhpq8jlqzfn0xAQRrivBreznR1Lvmf5PgMRSclE+0lU5q/ku2++4s23PqVRm4G+YT0rdhZSsH0NSxYvY0dpB6n9sunh7wmL6rYbWLdgMQW1zTRWHGT3ttXMm78ag28SgzJj0Ry2TG4jy96eTVPCeGZO60OA+sw9r9N6OG6bgXXfvMucnb489ORNpIb5IwkZS2sVS995kn2lLcekt7eV8cGTf2NDxPV8cNU4wvVq3PY6jPffxjMvzib6tYcZHn9yBc7T4Rs7gseefxr1Y8+w6Pu3WP/lm0T0GcfdD92PzykCorjtRg5sbqXPTTPJDlJz+ZXXsOXzx7nt/U9Zc/FYEoYndv81lw77DDbKd2xjX3kleZuXs9eeyi13pKCWBOCmoaIKIXcapS7ZUCjU+GrUSG1Wup0vEVBfU85BTV/uvCgDH67gpqs38+hlN/Hp3E1M6HMlgX5RDBk5gepdy/l03h427aznjlm3clGgDlvTPp6/7Xa+/vB9ho7I5uLMcJAt7Jj/MU99a+XZ9x5maEIwKmRshjJsj93Nk395AtubL3Lz0Aj2/jKPeWsCeOvTcUTpFAhZ5kDMMkrdDtwnRGA/T5EEdksL+/eXYXG6qT2whXWaMTz9f9cyJC4IhbMP0269hebye3h20z5Wbahg7J2Pk5ixGHO0P9bqTbzx4geoJ93FX6ePJMBHiey0UJap465rn+Iep56vnp5FqMuCW6HD19+XwOBBzLrmcqL9IogNjiHpisvZNedt5jUYPeWGjbwVP/B9eTwf3j2RcEDITup2yHxabwegfNsS5m6r50+PX01Ooh/ILgxlu1mQ14YQEiEpfZmos7H6u3nUtts6fX+Bw3CQT/75PGXZd/HSlLHofVQIt42aDD/uvv9lHqmx8vaLd5KakcMMp5H3X/kM09ZcJo+exR1jolC729jy7Zs89spnfDw4h743j0KNwNFWT4Hbj8unjidAfQnXtJXz8VMPMPuDuUyaNIARUf+5LOLpdalKt/LhD5sJmjKNrB4h+GjUaHx8CIrqyfhJw4iJ7JoJF+VbFvHa/AYmXzaRcL3n+6j0iWbwkDSqVqxhU14NJ+mFnRGyvZX9xXXETPwTb773On+7fRphbZv56+138I/3V9B+kpjJSm0Iw26YzuDoAHzUKlQ+weRMn066o53S0mZOO7vnaKNoTy57iyogOJGg5p08dd8DvLZwDy5AdglO2h2UJESI/iTWXSI2bSg3T8kmWKtBpVQTmJTDZZdldupSuZGUGvwCwwgLDsRXG8GoKePpFRtBgL8/EcnDuf3WMdgtFRQf0aUq4qsffkYaO40hicGewFSSAm1oCjdcdwmBLeuZ8/UaGu0O6qoLySvLZ09hOUaLDYdLJn7gcAZn90D7ezA2ncgOGy11NVRWVuPTczKvPfswE3pHo1YoUPr4EhYTT1yUPw6hJnvyFCaOHctNf3uCKwaEs/vHr1lV6M+o4f0I6PSQFWodSYNncv2lPVn+2musLTMi6aPIHtifHmEBaCOTGDYyh+FDMghSadAHxREXqTsyngNWmksPUZm3i5355RhMHdicENlnOlcN9Kh5tNZVsTe3gNx9RTQaTFidbvx7ZDIxpx8SoNHpCYmIJtBfdaShCtlB5Y4FvL22ngunDsbPxzNeqFBqiRs2k+smJLB98bcs3VSBUhdIVGQEvgo1PQeNZvSANMKDAwgKi2PMzEsZkqVhx/4yLJ0j7urABK6cOp7IAB1qlRrfkHgmjB9GuKGU4tqzE3z+NB6Om9qiPKqbfLgoKfK43wRuWT7OeFg5tHsPFiu4WuqorTV3dkOUoAom3t2BsdWELATKk42ZnBKZkhWf8OlqDfc+civD4gMRk6Yw88p1PHPvvXzwzFtMv3QUU2L9TvgyKxRaIqMVmJprqK2qoKj4IIbGAsztNuw2J+7TZUcdzrib72WySoWEm9by7bz0l7t46fGPmTzlTfyD9cg0HtGROoIkEJKEKikU/+6uK0noAkJRWYxUl9VRVlpCWU0DRQdaMFrNOGS3p/w6jZmk9kGnOfY7ERAWDpISu9OFhKCtpoh9dfVEJkSc0CWKzBxIVlgAufuKqLVo6NW/P1Hvv8QNU5eTPm4WU0YMYsTIEQzMTPr9LGQTErrAWEZdFH/qZLKSgJBYksI6xfC0wYRjYGtuES3SMIIDujYHCYVaz8BhI4h4499sKWni0vQghFtGCAFCIMsynLSU/Ekd2A/p81e4ceoKeg0Zw8Qxwxk16gIGZoYhAXF9BpDKNzx1y6XMzhrJhMk5jBoyjGGDszi+eRxZ1ui2ULJzE1U6f8L0x0sV6uk9ZDDRL3/MwQOVuKamcXikTqv16fyfxwXXaPXo/AKw25ydnreESqcnVGWlsaaMyrISyqvqKdu9H6Nkw2I/O2uLTuPhOGivrcPSZsbm6qZDcLwuldNBQ2MDpo5S5r7xf/z1rw/z8MMP8/DD/+DnmiAemP0s10zoieo3GRvAWsuXHy4nuP8Q+vUI8Fh2tZ747Mk8/szD9LIUk1vRAd3oCdnbq1j43os89voXFNtDmHj5Ddxyyyx6+mlP2Ws4ciVJiUZ1OE6xkuDYDCZdkINP2V6K6lyExsRicVRR02o+xs9xOxyYnTLpfRJOomTp5NCWRTz96DN8s/4g0X3GcMNNt3PJ6LQuX8tuc3SEwy/R0/mTsZpasbZbcdrtJ54eEEqyjx6tLJCUWjIvvJc5S+Zw36xJ+Nfv4pt//4VxQ4Zy079+4JDBdtZmIf/biDPMqeK4Ki+77TRaPQHRncdXcUlJYFQUGh2cYAFOi4peU//EvO8+4O7LRuDXXsC3rz7MmAGDufaJr6k1OYnqP4P3v/6K5++fRaJvHStnv8BVE4eRc/ULHLJ2P9sq3A6MjQZktxuH+8Tp/oDASGKREPIZ6God80gCS0Mer/3zCV6evQFFdH8uvuZGrpoymgjd2fv0nMbD0RAUF4VTtYxVu0u5fUBXXSqBtcOC09HlLal8CAsJxU8fz9VPf8Bd2d1+038zwtbOIZNMnF5/XEhJCX1kPBHJaWTG6jvlEbueaGH/ijk8/0ER/1j0CRcndm7DcDhP070TGEsP0RIURVKw37FaUcJzX5/eg+gXqyXEfxiZli+orzZgI5HD8nE2SyuGtmBmDUvt9g6upjxe/+cbVI18jC9vnnDEC3K5fsv0fqcuVVgMeq2a6uW5NF+fSVjXfNvMNColQvpnEx8oYTa0o0ufzBPvTsZhs+KwW1jy6l08MPsndk4dTXLI8Yqr/1soNTpSg8JQNe/jQGUbI3p01VKTsRgNOF3DuSA9CkmSfoUBdtPeZCG074X83+CLcNptWM0tLH/tTm6cP5u9t08jBFBEDeSux4dzm8OBtcPAgTWzueq6z1l44AEe7BdwwlUVSl+iUhKhLJ+9Fa1cEOd3zO9Ws5HmqASm9k1GJUndjxt2g3BbWP7WQ7xZMpltn11PlE4JuHG6XN2vqP+NnMbDURKV2pdkrZsdn35OblddqrZK1q/YTX1zF10qyZe0EYMJVBYy59MFJyx7dlis2B3O07806YT/eP7yi2RYvETJ3iLanF2uIhzUFuYROHoio3voThzodJmp2neAdpOEVqvxHHNb2L9zF5W2bryALhnRUsHcxTtptR/7NbE2l7Or0Mit/7iZXj5AxDCuGqpnz9Y8Gs2H0zpoOriX9sB0Ls4O7fYOlsZSdjUYUGl9Ors/AlNdAVtzKzyu+zHZOZ0ulYegxH5Mz07g4Na5rN1vOOa3lsJdlGqSmTFjOCHuDkp2LmZ9jRWPm+2LX2AYw0ZdwIDBSUSG+J7fxqZzQF+SutOZ6i59N8fUfkyYNppITTELftmK8chrFuCysGdrPnG33cyIRN+TVcsTbuH5uYOiZespqmsHJNQ+OgJCY5l40Vh6RWQR6a+luGAz6/Y2AhIqjQ/+wdGkDx5L2uBsMqO0x1z1iLaqSkfv0dMZpavg87lrMB9jDazs319C+JhJXDgovovne4osd/4gZCOF23Yi++jw6VzM6zI1UFBwAIPFfRp1rjPntLNUISk5PHj3LP764hyuv8nCfTdfRopPHbtq9PTt14fIjQVY2k04ZBmVpCA552reeuoAf3/jCa42FnDNRRcQH6LBUF5CoyqJ6TPHEKfp/l7C7cLldtLS1ECHxYShvoZ2q4MgtRK1UgnqEK5++D4OvLKId78P57apQwhW2ynetoyv8wN45JHrCdJ04/4p9cT27ons/IgX//4C1suzaa1oITbZl0CFArvF6hHoUys4vupq41NRLbiTR0uLuWHWGJLD9Jgbili3qoAe0+9l2qTeh0uKa55+nK1PLWHOkjRundoPqaGAJT8VMPGWu0jWd1/UuogUhoQr+P6Ll3gpqJ4+/lacuhgCI4IQVXZsDieyrEJ2WDG3m3C4LLS1WxFuP+iqn+RwYDZZsLkFWn0cVz38MLvve5QnH3mKwBcfJictEkt1Hp//XMKshx7nspwk3LKBQ/u28tU6BRn3X0JKkBZzcxGLVlZz3Z9uYXCM/3lpcIQQyG43xqYGGjpstDQ3YOiwEaDRoVAer/EkELKMw95Bu9GC02HGZLHidKpQqZVIKEmZeBN/u7Wc5796jf8L1vDna0cTpXGQv/pb1shj+OTxWYSpFB5dKYsJm8WKbDdjtDmIVitRKEBgosVgx+Jrxmy1I7sd1B5cy4qyNgLumklsoA+WhgLe+6qB2x+7l4wIHTuX5zJn436Cg65hSHIIDkMlq5f8zNDb7mFMlAbZ7cbe0YbFbMPUYcZid+LSagjrPZmnX76Du559jrtj/fjnzROI8HVTtPJrdrl68fRj15AVokZ22zG3t2MTMiaTEavdjVqjPLrmTMi4jSaMNgdBmgCyhg+i+c13eexVPyanKGh1+eOr1KFVu+mwWBGyjBBuRIeJVtlNh70Nq8WO20eLoltxwRM5A10qLXGZgxk3dghhSgsVe7dRr83m8ksnkhLgoLa+FUNdHQ0GieiUWEL8gkjpN5IJo/uiMVeze3s+DS4taf2HMjanH5EB2pMOGFfvWcb8+T+ybF0+ykB/lJYKdhVV4HT6kZwchUqS0IenMGRgKlLDXhbPncfqwkb8YzKZOWMymdH+3S/gk9SExqfRLy0cS0streokZl4+laxoNaUHK2i2mbAqguiZEHnEuh8tAB1xPaOQjVVsWPkzm4vq0YUlMWzMWIb274mf5mgA74DoNHIGJtBRuo0FC5ZTbNIx/KJZXDg0pYtm0nEvwDecrP6ZhKvbqG9103PQBCaNzEbTXkpViQGTw4leK9i3cSlrtlfjF66hoa4FpS6M5LgwlBLY2+soq26mvaUJq8Of+NQYIiOTGT1+LKn+Jjb9+CMrd5Vh1oQzZvJFjO2f4tGlkhSoJDVSy0GWLlzI2s2HMGuDGDHlYkZmxZ+3ulQuSyPbf/mWL+ZvwqQPJdTHyqFqAwptCIk9Qo7r+so0l+1hyXc/sq2ynWB/FbU1NRhbJBJ7xaNVSCjU/qQNGE7OgAQMJZtZtGw1BbV2otOHccXMcSSF+CJJbmp2r+THxb9Q0uAkVGOnttaAwi+MSLmUbz7+ii1NCoKVbhpbDCj9o0lIDsbWUMTKJQv4aXsJVimEcZdcwvj+cWiVCjQqCYW1iu3Ll7Fswy7qbDp6DRnPxRdko1fAoR0r+WHuQspsanROK3VtNnRBkcRGhJDQeyiTczKxHNrOkh+Xs6/WRHDqYKZNmUBmTBC4bZTtXMqXP6zDofVDdrbQ1OgkPj2JQB8VOC3UVNXQWl9Ndb2NqKRUBudcQFYPNY0H6gjtN5pxowfRQ2OjsrqaumYLuoBQfA27+OybJVQJNT4KG3UN9egiE4kPPTNZ7zOOaSyEjOyWPSPzCiUqlRJkNy6XZxpaUihRKhWdDV4ghMDtdiPLAklSoFAqUJxGYVCWXbjd4riuhIRCqUCpUB4dtxMCt+zG7ZZBklB27uk65eCv8Hzp3LIMkgKVSokkZJxOFwIJhVKJUiF1O1ArZM9zu2UZkFAqlR6LfkJaceTr65bFcWVy6rJ1u90IAQqlCqVCQnY7cbpE57MrELLnmofLRKk8+sxCduN0uT1lpVCgVHV6akIgy27PtVGcUI6e2RbPc8luT7mcUNbnIZ4yduGWxZF5lyP1QKE4Lu+d793t0RpHAAoJhaRAqTpW7cGTzlPOCoUCxeH33Pm77HYhd87MCjxdOaVSiULCo8wqBJKQQOE5LgGy7EaWZQQKlJ3vUjqujYjO51B01uPD9cVTj9zIR66rQNlZT4+c7+psYwrFkXMPjzUJtwu3W+bwgo3Dz6yQPHXD1VmGUmd7UHTm1+0WSEpP3aVL3VIqlUjS4XbtKXiFJKFQqs7Yw/EGUffixcs54/z0mb148fI/idfgePHi5ZzhNThevHg5Z3gNjhcvXs4ZXoPjxYuXc4bX4Hjx4uWc4TU4Xrx4OWf8B7pU/9vILhuGpjqaTBJJyQkefSMv5x1OcxMHi4vYX1hCk8uXxJSeZGX2IjbkzFa+ejm3nNOFf862QyyetwRjzDiuntzn/AzwJDsxVOxm4dzFLFi6Cp9Bt/H2MzcRof9PtugLhNNO7aE8NmzaSlmjg7C4dIYMH0JGQgQ+qqNxaoXLQU15Ablbt7Iht4rA5AyGjxjF0KwkfNVnuEnxD4GLsh3Lmf/LTtSxafTQOWk1mWmv2seKNe3c+Pq/ubRf1JFA50J2ULV3E2sOdDBi9FhSo367QXLbW9i4eD7bzfHcctUkQs/Linx+ck49HHPdfhZ//y3GXsFMG9cH7Uk2cf5/RaHEPzqDC69wsfvjd9jRbD/jWCsnQ7gsFK/8gCc/3oBCqwenlabF3/DuJ9nc9bdHuGFCJp5oAA5Kdyzi7Q0WrptxIXcMtVOyaQHvP/tvDt19PzeOTT/pnqw/FjJtBT/xxts/kXHFrVw6OotgnQZJOLGYW5CrX8TlEl1khly0lG7l3dffJbfFzfqDVl579DIClL+tLJ3ttWxYMI/5lmwmTxtL6HlZkc9PzqnBCYgbzO33P4IlciBB5+07UqDWBhAZG0e0TnUWPAqBy9bAmu8LGXLzY1w/ujf+Civ7137FA395mbc+TydnYApZoRpshhLmzp5L+vUv0y81HoVCIj5CQ96ae/jiy6WMH5xMcsB5W3DnDOFoZfk3n7ODAdw7Mptw/8OhzZT4B8cwekQOlgCfzphJAltLGRtWb0Q77BpeHhHGz3OX8um6Adw9NgXNb3jBmuAkZt55P2n2SJICve/j13BODY7SL4oRUy45l7f8jXg2wJ2VDYxCwmVqpX7YbTwxbXBnQEpf+k+6jksn/8hje8toMtsRIVCzZxXzcuGj53oc0eXSBPRg5JBU5r+xjvyqG0nODPt9BDb/L+IyNbJ17z7aYscRoDmxCmdfciFuXz9PYFbZSX1tI+rUKfxlRD+CfCQy4uNZuWontcY4EoI0v7o4FSo/skZNIeusPM0fizMyOMLtxNLWyMGDBzh4sA5dbAbZ2b2ICdQhdXXxhYzL0UF9VQUVZRU0OXUkZ/QiNT4CrQLs1nZa6hpotahJzkrBVxK4nFbaDE1Ul7cTkZ6E3tlE8f5CKgwQm55FVmoMfhpoqy4hb28x7Ypg0nr3JrlHcBdhMI/AeltjJQdLDlLRaCM8IY3evVII9/M5fQMVMi6HhcbqUoqKyrH4hJMUr8DqFiecK4TA0dFGbcUhSirqEf5RpKamkhAZSLceuiRQ+SVw82V+x0S/lSQVSn0Mg/oPJDHUF4SZ0l27MUsJhPp1iUQsaYhOjEPvs52S2jboHUp3DySEjMNsoOJQCYcq67GpgknrnUVqXJhnHEPIuBxWDM211NTIJGQloGirJnfPXhosPiT3yqRPRiLHRJMUApfDTH11BVWV1dQanUTEJZAQn0hMmP/RMCOyE0NDJZWVVVTVGlAFRRMbF0d6Yg80qrM/EerZWa2gbssWNhROZ0qfHmg7d8hLkoQuJOhoYoWGxD45xFjbqSndzbbSGly6CDJGTCQ+UIOEwO10YGpvpra8FW1kLD2CnBwqyGdfeRuhCWn06Z1KhJ8WzyZrT2wdY1M9dW12YntmEqo7PFAksJtbqa0u51BZNSbZl5jYeJJT4gntPB9ZxmY1YWiup7lVSWJmHNaqQnIPNBKdOYg+CceF1/gf47QGR3ZbKNr0E0u2NhLoZ6N46wqWbCogZtzf+Pjft5IceLhBu7G1HuL7OQtoUvij6ahl08oV7FH15uVXX6S3ZTuffPYd6zYWEJx5B+/PTkHrbOaFx+5j6YYCqg09efrN2zDmraao2kDJji2UWOO49ZmXeai/gUde/AENBtav2Yk6dRL/968nmZ7lCewuO4zs/GU+G0sdaGXps+phAAARyUlEQVQDO1YvZlWhiYm3P8NLD8wk7JR+s0x7zT5+WboJoz4QH3sL5SU/8damrRSWdhA38NjUHTW5fPntKrQpfUkJVnNwy9e8/oyFv3/0EqMTAru5voTaP4yE44521ObRYM3gwdtnEO+vQnZYaCprRKVIx0d17Pn+EeGo/dopa/HIh5wYFUOmrWwb81bk4pBdNJcXsOqndTSHD+GZ11/hkuwwbNXb+eSbBaz8+ScOOqfwzydGULpxDaU1NezZvotqRzh3/OtzHpmR4elmCHBa6/n5o6/Id0WQMywZf1UjO755jr/t1fPYqy9yYWY4SmQObfyRuRtryc4ZTKCfD5UHVvPt54d46N/vkB2uO10V+9Vo/KMYNXAwc37+nvtuqWPaxTO4aHR/khPiiY2JIkin6RI6RNBeu4f589cgR2eREa6lPG8xf3r6A/768SuMiVOwcsFnLFiwhNW7ldzw1/tJtW9l3YEm6nI3sqnEQr9rn+Sz568jRqvAWJ3HvA8/Zd6arRiCBvPOJ68TqvN0q2zN+3n1vbnokgcyIM4PVX0p37z8FsV+I3juqXvoG+2Ho3QJN975Cgcb6whMuJGn/pbOF8/+k/lbJW596UOev33ob+rm/W44nfi4w1Qp5j0xW+wwHBUtPzT/MREdky5eX3NQOGVZCCGL5uLV4tGbrxavbazvcna7+Gr2q2JdmdHzpylfPHbBCDF65ruitosue9X8e0SwNkaMvfUVkddgE0IIYa/ZJO4emySkyHHib298Ipo7ddQbNrwp+kUliYsf/lY0ODzHLM2F4uPbPxQ18uEr2sSSJ6eKyMEzxfyClpM+myyEaMhfIGZd+Wfx5Y6aY35r3b9AjA32FyNueEfUmz2ZtTfniQevu0zc/dF2YT18DXuNeO3yVJF43bvC6JLFKXGYxN7cnWLNko/FLaMvE68v2i5azFbhFkK4WgvFc+OHi95DXxD1x2nWG3bPEZNy0sTNX2wR3UrHu+1i/c9fiq+2VB45ZDr4s5gRFSomPPitsDsP58shPrh/itAFDRN/+tf3osbuOeoy7BN3D4gTgX2vF/lNnieTna1i8Yv3iktue0uUW7vcy9UkXrqmj/BLv06sKW8TDkuF+Ns9d4inllUczZvbKrav/Vzk15hPXR7/CfZ68c2Lt4s+aQkiIkgvJA6HfYkQF//5FbG9vFU4hBCWxj3i7zdfKW58ZYWwHDnZKD68LlWkXPGyKGvzVKLKFS+LnqEJYtTVz4oNFe2d6SxiyT+vEFpCxTOryoX7yOttEV8+MF2kjbpF7Go4XIjV4qmLeos73l0vTF1ekql0pbhmYA+RPOsFUW5xHzn/pUn9RM+EKeK+lz8Vy7dsFl+/9Kr4fF6+cHb7gv93OK2/q/KNZOz9l9Iv+GjS5CmXMkQhU3moEYuQwFbL/I8/Yp3vhdye00VORtaTM2oiSUGeQT3ZJaPkxEBZSq0fQpHINbdcSa8IT1pNZDpTLsghosPCgOk3Etp5UuigqczoF0B1XSmtZk+IaE1QIjOevZroIxf2YczlV5DU3E5ZdSuOkzybRAsLXv+AwMwxTMiK7mqGCUwdwKQ4bWeQdQmwsePL19lU5cfMiX04EnFWGUrOpBzKv1rMrmZnpwhadwhshmo279xHvVnPiCv6svL1u7ngkgdYtKcWThL86/C5SoUvAVqf7gQpQFIzaNQ0ZgyIOXJIHzuAy67LJLeiEMfhlQ8uJ5IE+vC+zJw1gR6d452KwJ7c+5fJGOsOUGH0KDW0Fy9n9oo8EscMJb5reF1FCDfddSd+Lcv5ZmEeBmsrbfn55K7dQHFzZ8xrhYbeA6bSM7R7nYqzgiaSqx59l82bt7JlyybWr1jIp++8xJ8vS+TnNx9i+qzn2FFjYNf3H7O+VMu0if054msJf0ZeNJ6qH5ezraIVGXBLCoQigpFTpzM0/nAoey1jrryemEgzu4tqcXTOVrodTlB2DaguqF39Oe9vD2HSqN50nXD3SxzKDddMwbL2I95cXek56HaiVaiQAqOYPutSJg4bzhV/vovLLkzj+ICT/2uctkslSRr8/ew0VxZTX99ETU01He2ltHbYcNhcuBFYGw6ydt8B1ONuOaawUUjEJ/XiTBY0C5UPPj5djJFCjT7AF7VSjV57dGBBUurQB2lwC/eRxq1Q+hDob6fs4H7aGhupqG2grXwHRqMNh/1EKY0jNO9j1foa4h+Jwve4tRRCiGOnw10N7Fy/n7amCCqK8shr87RCSUi0SxHEaw7RbHJCuOYkY0YSmvBUbr4pFbVKidtlY0iiL/f8+Tle/WIYE58bS1CYGtlo5VhpK4EsZJSSP5H++k7pj+NuIElodXraGirZV99MY0MdTY3VbDvYgk22cow0oACFygfNMRrsSgJCQ8Al43ALJGSq8ndwqNVIVvBxcY0lBRF9htBXraS88CAmcTEjx6fx93ceYvw3/2bgmLGMGj6IAQOGMKJfCN3k9iyiwi8kEn1IFMkZ2YwYM4Wrb7yeWM0MnvxuGTuKrkC1tYiWRh+qDuwjTw468gztUgRJPvtpMx9V7hAKFWp1VyUvCY3OH5VKjcPhQj7Zkwg7e1duwa4II1h/3Jih5EfawIH46payb2MJ9osS8em8X4BvLFEBnnqk1Oq6kYH+3+O0BsfSXMQ3788mX5POdTMmMip7CAFiP0sf+7TTjEjYOtowtxuxtZmPq2ASCsVvXDDXqfTSvcPQ1UsStFfs5L03PsPRZwpXjBvMpIGjcJfCl6/tg1OtazQ2UW6xE2ax4z6sN9eFY860mKho7cDcYaS0YA9StbJzPMWH4OjxfPTTpfSL1aHoxrYK4RFcUCiUR35XqnxI7TuU9PQI1pbWYVTriIwJxFZYSbtVpofm6GJAq9mIcISSGBlItwPGLhMbv/uYRftkxs6YwoDhYwlSdCAXz+OTfHHCGd3bw64Zl7G0t2O3OrBZu1G10IeQqFJRrVChUgdx6f3P03PYRWzankfhgQLmvvo9zxlCuf/jr3jq4qxTeG6/EeHG5nChVKlQKw+HCZVQqNRoVdHMuHIary9ZgtZtp6KtnY4ODRXF+eww6jpfqg8hMSN5a+E0MrPCjh3sPyGrEqcWh5EAN60tFmS3EtsJ4lbgGxCKyscHSXfsjJgkKf5wM46nMTgOSjYsZc7Ccq5+/0EGZ3R2lxwK5KNagPgGhROh1ZO3biv7zTPo7XcOS9FtYveiOXy71s27j04kPdIHCehQnMFyvZAYMvwdHCgupNmUQ3DQ4a+bhLC2U22Wj1YIXQDxIXq0rZEMn34t01P9TnbVYxDCSkVxFYHxyQTrji1uIbsQUgC9BqYSpvAnaWAGtsU7aWy3kh6o77y1k5aqRkRkT9Kiu9f5slZt5J2PFhJ747OMGZKJrwKEzY70mzWVlYTFJ+Anu6ncV077pX05RiHJ2kadUkvPfqkEaBy0N6vpN/kKBlxwEe1GA7WHdvHZc48zZ30BT0zPOvuzLnYDP6zNJS0rhyGxJ64Ydlqd+GZeQHZ6DO4Qf3RBgfSffDk3Dow6yxkBECCpScyMxzF3FfvKG5nYMwB1FyNrM7ej1EQyNCflBCXUPxqn7usIGzWFhTQYnOj1nQ6fbGPfurVU2ByITsUbn/BUJo3IxlWwkA+/3ojtpBeUfoVF79QcOukJksdtcBkp3V2I2a3CT+cxNu6OWtat3kKdzXHqr2tQOuMmJpK/cj4LNhQczbfbxJ5N6ymUjmo6o45k5NRhqA17mLtgLQ22Yxtze4sRRzcNXJKUWMvz+Gpr+XG/CA7k5tEecgF3XToKjUJD4oBRDFTUs3pPdRf5l3a27W0kfvgoeoZo6Y728jx2VRlRarSdS/nd1BbvYPPe2hMDuJ+q/CWOaF/1GDCBSenB7F73C7vKzMfkuyF3E7WJo7l4bC/0riZ2rdhDG6DW6gmNjCNr0FgmXDCYwUk9/jtTvMJF/a589h5sOvGj4mpg8S8lXPPANfSJ7cGQcYPQmPbx4/xV1B33zsxtJmyHRQDw1LWT1jepmz+kw/9o6DttBr18DCxbuIYqU1dZXBNFu/cTlT2La4fFHD3lD8qpPRzJh5jMdPx9ZvPh8/9Gc/UIlKZ29AE6/CRBe2szza0dBISEMfGW+3ig7jk+fvkRrNVXMnZAKuEBGoxmF9lDRxMfIGOorqLR3I5JWUddXTP6sAAkZweVlbU47W3U1NTTmhpEoFaiw1hPTaMBq8tIRXkNxsBwAjunHxEujIZG6uoaiYv3JXlQBu41q3n5pfe4anQCNpuMUheAr3BgaGmi1ZxIuJ/6xOFqKYTJd/yFVblP8cXzT9BSOJPh6WHYW5txR8UwKkrD98311Dc2o48Jo99lf+aRMiPvfPcCD9TtYdKwPvQI1eM0NNKqT+eyyQO6KUQNUbEaFj30FLbaaxnTJ55ArQ/tNXlsrgvh9gdncUFGBCAISBrBw3+dyQs/fsuauKvoGe5Hc+E6KjTZXHP5KPxPItvin5jNiKhvWT3nfT5QTideL5CddgKC9TgqjNQ3t+ITrMPSVkd9czt2SyM1NfWYwjToO400QkCHierqGloifQiO6MeND91N0bOf8vpr7+K8diq94kORDQdZuL6W+55+lJzkIKT2CnauX0hRkC8XZsfhr5UwlO5gh6EXD1/bv5spgrOBhF9LPl/+qxhr3XT6p8QREqTFYahk64rt6CfczJ0zsvFTKukz/XYeLm3mgyVv86DlEJOH96dHmC+utgbaND2ZOr4fbquRmppGrFYjTfU1NLfGERakR925UlkWEqa6GhqajET6qelorqWhsQ2LSUF1bT2JukhC0ibz6jO384/Z3/LKBzpuvGgEMcEamoq2sachhseeup40vYTLbsbYVEuduQNTRwM1NfXEqsII8PP9nx8whtPqUikJiU0hLc6PjoZy6ohh6vQLGZwSwN7dBTTaTVilYDJ6xhAc1oN+OTn0jtFQuX8r63cXIWvDSMvqR0ZCOLV7f2HOt0s5ZLSjVNtoNpoRASFUbpzDD0uK0ISoaDOaUOnCCNe38/O8eWzIK0cZqKWtugE5Jo3ePQKQsFNTvJ/Kqkaa2qyoQpIZOWYYqaESJSWliPAsJk8YTa9QF4WFJTRZLagCo+kZH95loeBR/MKTGJYzkPhAQU3xfkrqZTLGTmXKsCSat2+nuM1Es8mIX3QKSTGxZA4azqD0MGzVRWzZnIdBGUhy7wGMGpJBgI+6m9XJArU+mJRAQXXJDhYsWEV5O0SlZDF+7EiyEkNRdX72FEotsb360yuwg22//Mi8lXkoo/pw8YxJ9I0P7n5hIaD2j6NPVgLCWE5Fu4aMgTmMHJSO1HyAspJWOoDYQMGqpfPZsa8R3wA3Lc1m/MJiSIoNRSnJ2FvKWJNfRltbKwoi6JkWQ2RcBjmDeqNuKWTtosVsKKhDERjP6CkzGNU7xrOvS4DD3kLxtpUsWbaC3EozwbG9mDB9Kr2i/c7++A2A0ofE9FSig9zUFO5m3aqNHGgwI/lGMPCCSUwe1Re/TkFElS6EXgOHMDQ7Hkv1fjav20W925eU3oMZNTiTQLWd7Su+Zd6SXci+SmwWI05ZT0J6Av4qCexGdu47hKOtjhaDhgBtG2t//JGt5Qa0SonmViMWVQ+yUiJJyB7B8N5RGEu2sWDRGgprzATE9+bCmReSnRCEJCTMh9Yx++sFFDRaUGodNNbXYySI9JRofH7j3q7fE16ZGC9evJwz/gBOnBcvXs4XvAbHixcv5wyvwfHixcs5w2twvHjxcs7wGhwvXrycM7wGx4sXL+cMr8Hx4sXLOcNrcLx48XLOOOXWBiEETqfzVEm8ePHyB0ehUKBSnVl49FOmKi4u5rHHHvMaHS9evHSLEILBgwfz5JNPnlH6Uxocg8HAokWLcLlOjPHhxYsXL+AxOmfKKQ1OUlISb7/9Nm73KaLmefHi5Q+LEILExMQzTu/dvOnFi5dzhneWyosXL+cMr8Hx4sXLOcNrcLx48XLO8BocL168nDO8BseLFy/nDK/B8eLFyznDa3C8ePFyzvAaHC9evJwzvAbHixcv5wyvwfHixcs5w2twvHjxcs7wGhwvXrycM/4fwYk84FRH264AAAAASUVORK5CYII=)"
      ],
      "metadata": {
        "id": "-z2NVIZVOP7a"
      }
    },
    {
      "cell_type": "code",
      "metadata": {
        "id": "VGzCMUq_SagL",
        "outputId": "08f055e5-714e-4ee3-b58a-c62e8c959b31",
        "colab": {
          "base_uri": "https://localhost:8080/"
        }
      },
      "source": [
        "# Digite seu código aqui\n",
        "\n",
        "idade_atleta = int(input(\"Digite sua idade:\"))\n",
        "\n",
        "if (idade_atleta >= 5 and idade_atleta <= 10):\n",
        "    print(\"Atleta categoria INFANTIL\")\n",
        "elif (idade_atleta >= 11 and  idade_atleta <= 17):\n",
        "    print(\"Atleta categoria Júnior\")\n",
        "elif (idade_atleta >= 18 and  idade_atleta <= 30):\n",
        "    print(\"Atleta categoria Profissional\")\n",
        "else:\n",
        "  print(\"Atleta categoria Sênior\")"
      ],
      "execution_count": null,
      "outputs": [
        {
          "output_type": "stream",
          "name": "stdout",
          "text": [
            "Digite sua idade:12\n",
            "Atleta categoria Júnior\n"
          ]
        }
      ]
    },
    {
      "cell_type": "markdown",
      "metadata": {
        "id": "6kWOpJmjYLz_"
      },
      "source": [
        "2 - Escreva um algoritmo que realize a repetição em laço, utilizando uma váriável com início em 0, e que em cada repetição essa variável seja incrementada em 2 e seu valor seja exibido na tela. O laço deverá repetir enquanto a variável for menor que 50."
      ]
    },
    {
      "cell_type": "code",
      "source": [
        "# Digite seu código aqui\n",
        "var = 0\n",
        "\n",
        "while (var < 50):\n",
        "   print(\"o valor da variável é:\", var)\n",
        "   var = var + 2\n"
      ],
      "metadata": {
        "id": "WC6PYaHHNxZp"
      },
      "execution_count": null,
      "outputs": []
    },
    {
      "cell_type": "code",
      "source": [
        "for aux in range(0, 50, 2):\n",
        "   print(\"o valor da variável é:\", aux)"
      ],
      "metadata": {
        "id": "cqTe1LdafQ36"
      },
      "execution_count": null,
      "outputs": []
    },
    {
      "cell_type": "markdown",
      "metadata": {
        "id": "hva9kRw8SX6e"
      },
      "source": [
        "3 - Construa duas listas e mostre as listas na tela. Depois, crie uma lista a partir da junção das duas listas anteriores e mostre o valor da posição 2."
      ]
    },
    {
      "cell_type": "code",
      "source": [
        "# Digite seu código aqui\n",
        "\n",
        "lista1 = [2, 3.5, 5, 10]\n",
        "lista2 = [\"bola\", \"bicicleta\", \"cidade\"]\n",
        "\n",
        "lista3 = lista1 + lista2\n",
        "\n",
        "print(lista3)\n",
        "print(lista3[2])\n"
      ],
      "metadata": {
        "id": "igsFk-ZcNzXp",
        "colab": {
          "base_uri": "https://localhost:8080/"
        },
        "outputId": "486ae56c-abb4-477f-ef3e-a74b5000fe0c"
      },
      "execution_count": 3,
      "outputs": [
        {
          "output_type": "stream",
          "name": "stdout",
          "text": [
            "[2, 3.5, 5, 10, 'bola', 'bicicleta', 'cidade']\n",
            "5\n"
          ]
        }
      ]
    }
  ]
}