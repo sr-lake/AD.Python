{
  "nbformat": 4,
  "nbformat_minor": 0,
  "metadata": {
    "colab": {
      "name": "Custo de Massa Crock",
      "provenance": [],
      "collapsed_sections": [],
      "authorship_tag": "ABX9TyNxb2xVyxsOfkLLN95cszt/",
      "include_colab_link": true
    },
    "kernelspec": {
      "name": "python3",
      "display_name": "Python 3"
    },
    "language_info": {
      "name": "python"
    }
  },
  "cells": [
    {
      "cell_type": "markdown",
      "metadata": {
        "id": "view-in-github",
        "colab_type": "text"
      },
      "source": [
        "<a href=\"https://colab.research.google.com/github/sr-lake/AD.Python/blob/main/Custo_de_Massa_Crock.ipynb\" target=\"_parent\"><img src=\"https://colab.research.google.com/assets/colab-badge.svg\" alt=\"Open In Colab\"/></a>"
      ]
    },
    {
      "cell_type": "code",
      "source": [
        "import numpy as np"
      ],
      "metadata": {
        "id": "K0jQ1Q2WrxNs"
      },
      "execution_count": null,
      "outputs": []
    },
    {
      "cell_type": "markdown",
      "source": [
        "**Custa da massa por unidade de Pizza Crock.**"
      ],
      "metadata": {
        "id": "ohksxGszyz2f"
      }
    },
    {
      "cell_type": "code",
      "execution_count": null,
      "metadata": {
        "colab": {
          "base_uri": "https://localhost:8080/"
        },
        "id": "VPnJf-fGmAWb",
        "outputId": "0f146b12-4354-4fae-aad1-8310c38d3754"
      },
      "outputs": [
        {
          "output_type": "execute_result",
          "data": {
            "text/plain": [
              "1.433983888888889"
            ]
          },
          "metadata": {},
          "execution_count": 151
        }
      ],
      "source": [
        "\n",
        "trigo = 3.79/1000 * 500\n",
        "fermento = 8.99/125 * 12\n",
        "oleo = 10.00/900 * 50\n",
        "acucar = 4.19/1000 * 20\n",
        "leite = 12.98/400 * 20\n",
        "fuba = 3.19/500 * 150\n",
        "sal = 2.09/1000 * 6\n",
        "bacon = 20/1000 * 150\n",
        "qj = 45/1000 * 120\n",
        "extomate = 2,50*6/2040 * 50\n",
        "tomate = 10\n",
        "cebola = 4.95/1000 * 55\n",
        "agua = 0.72\n",
        "ml = 1.00\n",
        "g2 = 1\n",
        "MO = 300/30*2.5/10\n",
        "\n",
        "\n",
        "\n",
        "#Preço medio da massa pizza rock\n",
        "mp=(trigo + oleo + fermento + acucar + leite + fuba + sal + agua)\n",
        "Mss = mp / 4\n",
        "Mss\n",
        "\n",
        "#fermento\n",
        "#oleo\n",
        "#acucar\n",
        "#leite\n",
        "#fuba\n",
        "#sal\n",
        "#agua"
      ]
    },
    {
      "cell_type": "code",
      "source": [
        "BP = Mss + ml + qj + g2 + MO\n",
        "#print(BP)\n",
        "BP = BP*10*30\n",
        "print(BP)\n",
        "print('Mão de obra:',MO)"
      ],
      "metadata": {
        "colab": {
          "base_uri": "https://localhost:8080/"
        },
        "id": "ieWCP64emAxk",
        "outputId": "8dfc2b27-184a-4d0f-9dd7-1f3f727f1623"
      },
      "execution_count": null,
      "outputs": [
        {
          "output_type": "stream",
          "name": "stdout",
          "text": [
            "3400.1951666666664\n",
            "Mão de obra: -2650.1951666666664\n"
          ]
        }
      ]
    },
    {
      "cell_type": "code",
      "source": [
        "L = 19.90 - BP\n",
        "print(L)\n",
        "LQ = (L * 10) * 30\n",
        "LQ"
      ],
      "metadata": {
        "colab": {
          "base_uri": "https://localhost:8080/"
        },
        "id": "TIpf0yjZru9k",
        "outputId": "433023d2-15c4-4c01-9f63-162d5425f26f"
      },
      "execution_count": null,
      "outputs": [
        {
          "output_type": "stream",
          "name": "stdout",
          "text": [
            "8.56601611111111\n"
          ]
        },
        {
          "output_type": "execute_result",
          "data": {
            "text/plain": [
              "2569.804833333333"
            ]
          },
          "metadata": {},
          "execution_count": 155
        }
      ]
    },
    {
      "cell_type": "code",
      "source": [
        "MO"
      ],
      "metadata": {
        "colab": {
          "base_uri": "https://localhost:8080/"
        },
        "id": "gPAGZpQFOaB2",
        "outputId": "c35434d0-a0ab-4172-88fe-6c89ef932a6c"
      },
      "execution_count": null,
      "outputs": [
        {
          "output_type": "execute_result",
          "data": {
            "text/plain": [
              "2.5"
            ]
          },
          "metadata": {},
          "execution_count": 148
        }
      ]
    },
    {
      "cell_type": "code",
      "source": [
        "trigo = float(input('Preço do Trigo:'))\n",
        "trigo = (trigo / 1000*500)\n",
        "fermento = float(input('Preço do Fermento:'))\n",
        "fermento = (fermento / 1000*500)\n",
        "CM = trigo + fermento\n",
        "print(CM)"
      ],
      "metadata": {
        "colab": {
          "base_uri": "https://localhost:8080/"
        },
        "id": "yvx7ZnMxPTDB",
        "outputId": "85b3d8fc-e913-40c6-f81e-5328b61e33d1"
      },
      "execution_count": 85,
      "outputs": [
        {
          "output_type": "stream",
          "name": "stdout",
          "text": [
            "Preço do Trigo:3.79\n",
            "Preço do Fermento:8.99\n",
            "6.390000000000001\n"
          ]
        }
      ]
    },
    {
      "cell_type": "code",
      "source": [
        ""
      ],
      "metadata": {
        "id": "UiOLLib5PS5x"
      },
      "execution_count": null,
      "outputs": []
    }
  ]
}