{
  "nbformat": 4,
  "nbformat_minor": 0,
  "metadata": {
    "colab": {
      "name": "Dicionário.ipynb",
      "provenance": [],
      "collapsed_sections": [],
      "authorship_tag": "ABX9TyNLiUm6t2pIvo95demCi0Ko",
      "include_colab_link": true
    },
    "kernelspec": {
      "name": "python3",
      "display_name": "Python 3"
    },
    "language_info": {
      "name": "python"
    }
  },
  "cells": [
    {
      "cell_type": "markdown",
      "metadata": {
        "id": "view-in-github",
        "colab_type": "text"
      },
      "source": [
        "<a href=\"https://colab.research.google.com/github/sr-lake/AD.Python/blob/main/Dicion%C3%A1rio.ipynb\" target=\"_parent\"><img src=\"https://colab.research.google.com/assets/colab-badge.svg\" alt=\"Open In Colab\"/></a>"
      ]
    },
    {
      "cell_type": "markdown",
      "source": [
        "3. Dicionários\n",
        "3.1. Motivação\n",
        "Para se conectar a uma rede wi-fi, você precisa de duas informações: o nome da rede e a\n",
        "senha de acesso. Quando você vai acessar uma nova rede, você encontra uma lista de\n",
        "redes disponíveis:"
      ],
      "metadata": {
        "id": "mRwpaXN1T6Tp"
      }
    },
    {
      "cell_type": "code",
      "source": [
        "wifi_disponiveis = ['rede1', 'cnx_cnx', 'uai-fi', 'r3d3']\n",
        "print(wifi_disponiveis)\n"
      ],
      "metadata": {
        "id": "niWVCt_RT9Y3",
        "colab": {
          "base_uri": "https://localhost:8080/"
        },
        "outputId": "a6ffa1b7-95a2-4e27-8a27-9d5ae8175efe"
      },
      "execution_count": null,
      "outputs": [
        {
          "output_type": "stream",
          "name": "stdout",
          "text": [
            "['rede1', 'cnx_cnx', 'uai-fi', 'r3d3']\n"
          ]
        }
      ]
    },
    {
      "cell_type": "code",
      "source": [
        "wifi_disponiveis = ['rede1', 'cnx_cnx', 'uai-fi', 'r3d3']\n",
        "print(wifi_disponiveis)\n"
      ],
      "metadata": {
        "colab": {
          "base_uri": "https://localhost:8080/"
        },
        "id": "FhpSX1zCUdzp",
        "outputId": "4027c5fc-0efd-461d-a520-e408c22b4af4"
      },
      "execution_count": null,
      "outputs": [
        {
          "output_type": "stream",
          "name": "stdout",
          "text": [
            "['rede1', 'cnx_cnx', 'uai-fi', 'r3d3']\n"
          ]
        }
      ]
    },
    {
      "cell_type": "code",
      "source": [
        "brasil = {\n",
        " 'capital': 'Brasília',\n",
        " 'idioma': 'Português',\n",
        " 'populacao': 210\n",
        "}\n",
        "print(brasil)\n",
        "print(type(brasil))"
      ],
      "metadata": {
        "colab": {
          "base_uri": "https://localhost:8080/"
        },
        "id": "m0oIn_bpV1Xs",
        "outputId": "92e0a93c-fe4e-41db-f277-359f02d9c8ae"
      },
      "execution_count": null,
      "outputs": [
        {
          "output_type": "stream",
          "name": "stdout",
          "text": [
            "{'capital': 'Brasília', 'idioma': 'Português', 'populacao': 210}\n",
            "<class 'dict'>\n"
          ]
        }
      ]
    },
    {
      "cell_type": "code",
      "source": [
        "#PY elimina chaves duplicadas neste caso a chave 'ANO'\n",
        "carro = {\n",
        " 'marca': 'Volkswagen',\n",
        " 'modelo': 'Polo',\n",
        " 'ano': 2021,\n",
        " 'ano': 2004\n",
        "}\n",
        "print(carro)"
      ],
      "metadata": {
        "colab": {
          "base_uri": "https://localhost:8080/"
        },
        "id": "IkCnDBsjoKs5",
        "outputId": "f97d52aa-dba5-479f-87c0-5a0be4e7bd79"
      },
      "execution_count": null,
      "outputs": [
        {
          "output_type": "stream",
          "name": "stdout",
          "text": [
            "{'marca': 'Volkswagen', 'modelo': 'Polo', 'ano': 2004}\n"
          ]
        }
      ]
    },
    {
      "cell_type": "code",
      "source": [
        "cadastro = {\n",
        "    'andre': {\n",
        "        'nome': 'Andre Perez',\n",
        "        'ano_nascimento': 1992,\n",
        "        'pais': {\n",
        "            'pai': {\n",
        "              'nome': '<nome-do-pai> Perez',\n",
        "              'ano_nascimento': 1971\n",
        "            },\n",
        "            'mae': {\n",
        "              'nome': '<nome-da-mae> Perez',\n",
        "              'ano_nascimento': 1973\n",
        "            },\n",
        "        }\n",
        "    }\n",
        "}\n",
        "print(cadastro)"
      ],
      "metadata": {
        "colab": {
          "base_uri": "https://localhost:8080/"
        },
        "id": "HA1TSIPSrPXc",
        "outputId": "7c5f1dc5-b322-4492-a208-bd7e28d48e78"
      },
      "execution_count": null,
      "outputs": [
        {
          "output_type": "stream",
          "name": "stdout",
          "text": [
            "{'andre': {'nome': 'Andre Perez', 'ano_nascimento': 1992, 'pais': {'pai': {'nome': '<nome-do-pai> Perez', 'ano_nascimento': 1971}, 'mae': {'nome': '<nome-da-mae> Perez', 'ano_nascimento': 1973}}}}\n"
          ]
        }
      ]
    },
    {
      "cell_type": "markdown",
      "source": [
        "3.3. Operações"
      ],
      "metadata": {
        "id": "X3a1tFlrtpom"
      }
    },
    {
      "cell_type": "code",
      "source": [
        "credito = {'123': 750, '789': 980}\n"
      ],
      "metadata": {
        "id": "vn-KvEYktrJA"
      },
      "execution_count": null,
      "outputs": []
    },
    {
      "cell_type": "code",
      "source": [
        "score_123 = credito['123']\n",
        "score_789 = credito['789']\n",
        "print(score_123)\n",
        "print(score_789)"
      ],
      "metadata": {
        "colab": {
          "base_uri": "https://localhost:8080/"
        },
        "id": "Mm0cEEV7t2lH",
        "outputId": "3b65e703-b3b1-457b-b42d-824ed2008734"
      },
      "execution_count": null,
      "outputs": [
        {
          "output_type": "stream",
          "name": "stdout",
          "text": [
            "750\n",
            "980\n"
          ]
        }
      ]
    },
    {
      "cell_type": "code",
      "source": [
        "credito['123'] = 435\n",
        "print(credito)"
      ],
      "metadata": {
        "colab": {
          "base_uri": "https://localhost:8080/"
        },
        "id": "nUHxvsXGt6gh",
        "outputId": "dccd7051-cb68-4b46-fc47-e456547d211e"
      },
      "execution_count": null,
      "outputs": [
        {
          "output_type": "stream",
          "name": "stdout",
          "text": [
            "{'123': 435, '789': 980}\n"
          ]
        }
      ]
    },
    {
      "cell_type": "code",
      "source": [
        "credito['456'] = 1000\n",
        "print(credito)"
      ],
      "metadata": {
        "colab": {
          "base_uri": "https://localhost:8080/"
        },
        "id": "i6CGTBSRueaJ",
        "outputId": "720ec729-4460-45b2-9cb0-e870ae368597"
      },
      "execution_count": null,
      "outputs": [
        {
          "output_type": "stream",
          "name": "stdout",
          "text": [
            "{'123': 435, '789': 980, '456': 1000}\n"
          ]
        }
      ]
    },
    {
      "cell_type": "markdown",
      "source": [
        "3.4. Métodos\n",
        "São métodos nativos do Python que nos ajudam a trabalhar no dia a dia com dicionários."
      ],
      "metadata": {
        "id": "o-KlQdrsu6FO"
      }
    },
    {
      "cell_type": "code",
      "source": [
        "artigo = dict(\n",
        " titulo='Modulo 02 | Python: Estruturas de Dados',\n",
        " corpo='Topicos, Aulas, Listas, Conjuntos, Dicionários, ...',\n",
        " total_caracteres=1530\n",
        ")"
      ],
      "metadata": {
        "id": "scyXs4JLu67x"
      },
      "execution_count": null,
      "outputs": []
    },
    {
      "cell_type": "code",
      "source": [
        "# adicionar/atualizar um elemento pelo chave-valor: dict.update(dict)\n",
        "print(artigo)\n",
        "artigo.update({'total_caracteres': 7850})\n",
        "print(artigo)\n",
        "artigo['total_caracteres'] = 7850"
      ],
      "metadata": {
        "colab": {
          "base_uri": "https://localhost:8080/"
        },
        "id": "iDUNmy71vBeD",
        "outputId": "c5f3fcb0-fe4e-41ec-a1a0-8a47240f70e9"
      },
      "execution_count": null,
      "outputs": [
        {
          "output_type": "stream",
          "name": "stdout",
          "text": [
            "{'titulo': 'Modulo 02 | Python: Estruturas de Dados', 'corpo': 'Topicos, Aulas, Listas, Conjuntos, Dicionários, ...'}\n",
            "{'titulo': 'Modulo 02 | Python: Estruturas de Dados', 'corpo': 'Topicos, Aulas, Listas, Conjuntos, Dicionários, ...', 'total_caracteres': 7850}\n"
          ]
        }
      ]
    },
    {
      "cell_type": "code",
      "source": [
        "# remover um elemento pelo chave: dict.pop(key)\n",
        "print(artigo)\n",
        "total_caracteres = artigo.pop('total_caracteres')\n",
        "print(artigo)"
      ],
      "metadata": {
        "colab": {
          "base_uri": "https://localhost:8080/"
        },
        "id": "oJRIKZLYvHnU",
        "outputId": "cf499cf2-a171-4ca9-cce5-883eaa4e5f53"
      },
      "execution_count": null,
      "outputs": [
        {
          "output_type": "stream",
          "name": "stdout",
          "text": [
            "{'titulo': 'Modulo 02 | Python: Estruturas de Dados', 'corpo': 'Topicos, Aulas, Listas, Conjuntos, Dicionários, ...', 'total_caracteres': 7850}\n",
            "{'titulo': 'Modulo 02 | Python: Estruturas de Dados', 'corpo': 'Topicos, Aulas, Listas, Conjuntos, Dicionários, ...'}\n"
          ]
        }
      ]
    },
    {
      "cell_type": "markdown",
      "source": [
        "3.5. Conversão\n",
        "Podemos converter as chaves e os items de um dicionário em uma lista."
      ],
      "metadata": {
        "id": "MZ9gakFZwplb"
      }
    },
    {
      "cell_type": "code",
      "source": [
        "artigo = dict(\n",
        " titulo='Modulo 02 | Python: Estruturas de Dados',\n",
        " corpo='Topicos, Aulas, Listas, Conjuntos, Dicionários, ...',\n",
        " total_caracteres=1530\n",
        ")\n"
      ],
      "metadata": {
        "id": "AJYpO8fwwrA7"
      },
      "execution_count": null,
      "outputs": []
    },
    {
      "cell_type": "code",
      "source": [
        "chaves = list(artigo.keys())\n",
        "print(chaves)\n",
        "print(type(chaves))"
      ],
      "metadata": {
        "colab": {
          "base_uri": "https://localhost:8080/"
        },
        "id": "z-0a1ns9wyLs",
        "outputId": "a72efcac-3abd-4880-a86c-94bdd5ef437e"
      },
      "execution_count": null,
      "outputs": [
        {
          "output_type": "stream",
          "name": "stdout",
          "text": [
            "['titulo', 'corpo', 'total_caracteres']\n",
            "<class 'list'>\n"
          ]
        }
      ]
    },
    {
      "cell_type": "code",
      "source": [
        "valores = list(artigo.values())\n",
        "print(valores)\n",
        "print(type(valores))"
      ],
      "metadata": {
        "colab": {
          "base_uri": "https://localhost:8080/"
        },
        "id": "Olu1k5q-w07t",
        "outputId": "eb40ca03-582f-4774-bd32-1482c6a04a28"
      },
      "execution_count": null,
      "outputs": [
        {
          "output_type": "stream",
          "name": "stdout",
          "text": [
            "['Modulo 02 | Python: Estruturas de Dados', 'Topicos, Aulas, Listas, Conjuntos, Dicionários, ...', 1530]\n",
            "<class 'list'>\n"
          ]
        }
      ]
    },
    {
      "cell_type": "markdown",
      "source": [
        "3.6. Revisitando a motivação"
      ],
      "metadata": {
        "id": "itSSimerxfLo"
      }
    },
    {
      "cell_type": "code",
      "source": [
        "wifi_disponiveis = []"
      ],
      "metadata": {
        "id": "dusms80WxgLA"
      },
      "execution_count": null,
      "outputs": []
    },
    {
      "cell_type": "code",
      "source": [
        "rede = {'nome': 'rede1', 'senha': 'cnx_cnx'}\n",
        "wifi_disponiveis.append(rede)"
      ],
      "metadata": {
        "id": "RXvzm7FdxjYT"
      },
      "execution_count": null,
      "outputs": []
    },
    {
      "cell_type": "code",
      "source": [
        "rede = {'nome': 'uai-fi', 'senha': 'r3d3'}\n",
        "wifi_disponiveis.append(rede)"
      ],
      "metadata": {
        "id": "Q5GGK8Ajxm4_"
      },
      "execution_count": null,
      "outputs": []
    },
    {
      "cell_type": "code",
      "source": [
        "print(wifi_disponiveis)"
      ],
      "metadata": {
        "colab": {
          "base_uri": "https://localhost:8080/"
        },
        "id": "dVf1BHk1xsXh",
        "outputId": "71286516-e52e-4a0d-a37b-4400582e6f05"
      },
      "execution_count": null,
      "outputs": [
        {
          "output_type": "stream",
          "name": "stdout",
          "text": [
            "[{'nome': 'rede1', 'senha': 'cnx_cnx'}, {'nome': 'uai-fi', 'senha': 'r3d3'}]\n"
          ]
        }
      ]
    }
  ]
}