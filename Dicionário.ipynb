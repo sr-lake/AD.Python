{
  "nbformat": 4,
  "nbformat_minor": 0,
  "metadata": {
    "colab": {
      "name": "Dicionário.ipynb",
      "provenance": [],
      "collapsed_sections": [],
      "authorship_tag": "ABX9TyPV2ZYk4ZvDJfLAzvb6v9rO",
      "include_colab_link": true
    },
    "kernelspec": {
      "name": "python3",
      "display_name": "Python 3"
    },
    "language_info": {
      "name": "python"
    }
  },
  "cells": [
    {
      "cell_type": "markdown",
      "metadata": {
        "id": "view-in-github",
        "colab_type": "text"
      },
      "source": [
        "<a href=\"https://colab.research.google.com/github/sr-lake/AD.Python/blob/main/Dicion%C3%A1rio.ipynb\" target=\"_parent\"><img src=\"https://colab.research.google.com/assets/colab-badge.svg\" alt=\"Open In Colab\"/></a>"
      ]
    },
    {
      "cell_type": "markdown",
      "source": [
        "3. Dicionários\n",
        "3.1. Motivação\n",
        "Para se conectar a uma rede wi-fi, você precisa de duas informações: o nome da rede e a\n",
        "senha de acesso. Quando você vai acessar uma nova rede, você encontra uma lista de\n",
        "redes disponíveis:"
      ],
      "metadata": {
        "id": "mRwpaXN1T6Tp"
      }
    },
    {
      "cell_type": "code",
      "source": [
        "wifi_disponiveis = ['rede1', 'cnx_cnx', 'uai-fi', 'r3d3']\n",
        "print(wifi_disponiveis)\n"
      ],
      "metadata": {
        "id": "niWVCt_RT9Y3",
        "colab": {
          "base_uri": "https://localhost:8080/"
        },
        "outputId": "a6ffa1b7-95a2-4e27-8a27-9d5ae8175efe"
      },
      "execution_count": 1,
      "outputs": [
        {
          "output_type": "stream",
          "name": "stdout",
          "text": [
            "['rede1', 'cnx_cnx', 'uai-fi', 'r3d3']\n"
          ]
        }
      ]
    }
  ]
}