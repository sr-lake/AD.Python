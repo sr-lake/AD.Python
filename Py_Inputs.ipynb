{
  "nbformat": 4,
  "nbformat_minor": 0,
  "metadata": {
    "colab": {
      "name": "Py_Inputs.ipynb",
      "provenance": [],
      "collapsed_sections": [],
      "authorship_tag": "ABX9TyPVTBtK3zWSPbGQwqYikIhl",
      "include_colab_link": true
    },
    "kernelspec": {
      "name": "python3",
      "display_name": "Python 3"
    },
    "language_info": {
      "name": "python"
    }
  },
  "cells": [
    {
      "cell_type": "markdown",
      "metadata": {
        "id": "view-in-github",
        "colab_type": "text"
      },
      "source": [
        "<a href=\"https://colab.research.google.com/github/sr-lake/AD.Python/blob/main/Py_Inputs.ipynb\" target=\"_parent\"><img src=\"https://colab.research.google.com/assets/colab-badge.svg\" alt=\"Open In Colab\"/></a>"
      ]
    },
    {
      "cell_type": "code",
      "execution_count": 12,
      "metadata": {
        "colab": {
          "base_uri": "https://localhost:8080/"
        },
        "id": "nsrd4Ky1ld7H",
        "outputId": "5e9baf3a-e0cd-4316-baf9-a5b71a44828c"
      },
      "outputs": [
        {
          "output_type": "stream",
          "name": "stdout",
          "text": [
            "Digite Algo!2\n",
            "Digite Algo +!3\n",
            "5\n"
          ]
        }
      ],
      "source": [
        "n1 = int(input('Digite Algo!'))\n",
        "n2 = int(input('Digite Algo +!'))\n",
        "s = n1 + n2\n",
        "print(s)"
      ]
    },
    {
      "cell_type": "code",
      "source": [
        "nome = str(input('Qual o seu Nome?'))\n",
        "print('Olá, seja bem vindo {}'.format(nome),'!')\n",
        "print(type('Prazer em te conhecer {:=^20}!'.format(nome)))"
      ],
      "metadata": {
        "colab": {
          "base_uri": "https://localhost:8080/"
        },
        "id": "7GMbbVLTvzh2",
        "outputId": "2ea4228b-5217-4613-f844-a112ec505e91"
      },
      "execution_count": 13,
      "outputs": [
        {
          "output_type": "stream",
          "name": "stdout",
          "text": [
            "Qual o seu Nome?lago\n",
            "Olá, seja bem vindo lago !\n",
            "<class 'str'>\n"
          ]
        }
      ]
    },
    {
      "cell_type": "code",
      "source": [
        "n1 = int(input('Digite Val!'))\n",
        "n2 = int(input('Outro Val!'))\n",
        "s = n1 + n2\n",
        "m = n1 * n2\n",
        "d = n1 / n2\n",
        "di = n1 // n2\n",
        "e = n1 ** n2 \n",
        "\n",
        "print('A Soma é:{}, o Produto é:{}, a Divisão é:{:.3f},\\nA Divisão Inteira é:{}, e a Potência é: {}'.format(s, m, d, di, e))"
      ],
      "metadata": {
        "id": "agItMpiky1B2",
        "colab": {
          "base_uri": "https://localhost:8080/"
        },
        "outputId": "a559b1a3-4b40-4e50-91be-d47de6b07e7c"
      },
      "execution_count": 29,
      "outputs": [
        {
          "output_type": "stream",
          "name": "stdout",
          "text": [
            "Digite Val!10\n",
            "Outro Val!13\n",
            "A Soma é:23, o Produto é:130, a Divisão é:0.769,\n",
            "A Divisão Inteira é:0, e a Potência é: 10000000000000\n"
          ]
        }
      ]
    }
  ]
}