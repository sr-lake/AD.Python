{
  "nbformat": 4,
  "nbformat_minor": 0,
  "metadata": {
    "colab": {
      "name": "Py_Inputs.ipynb",
      "provenance": [],
      "collapsed_sections": [],
      "authorship_tag": "ABX9TyMoa2+1Ik/mmP1j/CZd65xJ",
      "include_colab_link": true
    },
    "kernelspec": {
      "name": "python3",
      "display_name": "Python 3"
    },
    "language_info": {
      "name": "python"
    }
  },
  "cells": [
    {
      "cell_type": "markdown",
      "metadata": {
        "id": "view-in-github",
        "colab_type": "text"
      },
      "source": [
        "<a href=\"https://colab.research.google.com/github/sr-lake/AD.Python/blob/main/Py_Inputs.ipynb\" target=\"_parent\"><img src=\"https://colab.research.google.com/assets/colab-badge.svg\" alt=\"Open In Colab\"/></a>"
      ]
    },
    {
      "cell_type": "code",
      "execution_count": 2,
      "metadata": {
        "colab": {
          "base_uri": "https://localhost:8080/"
        },
        "id": "nsrd4Ky1ld7H",
        "outputId": "b7ae2658-5ab6-46ed-dcf7-742e82e7c3f6"
      },
      "outputs": [
        {
          "output_type": "stream",
          "name": "stdout",
          "text": [
            "Digite Algo!1\n",
            "Digite Algo +!2\n",
            "12\n"
          ]
        }
      ],
      "source": [
        "n1 = input('Digite Algo!')\n",
        "n2 = input('Digite Algo +!')\n",
        "s = n1 + n2\n",
        "print(s)"
      ]
    },
    {
      "cell_type": "code",
      "source": [
        "nome = input('Qual o seu Nome?')\n",
        "print('Prazer em te conhecer {:=^20}!'.format(nome))"
      ],
      "metadata": {
        "colab": {
          "base_uri": "https://localhost:8080/"
        },
        "id": "7GMbbVLTvzh2",
        "outputId": "9802b268-3568-4ce2-d9cb-d1ce640f289a"
      },
      "execution_count": 6,
      "outputs": [
        {
          "output_type": "stream",
          "name": "stdout",
          "text": [
            "Qual o seu Nome?Gustavo\n",
            "Prazer em te conhecer ======Gustavo=======!\n"
          ]
        }
      ]
    }
  ]
}