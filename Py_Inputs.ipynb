{
  "nbformat": 4,
  "nbformat_minor": 0,
  "metadata": {
    "colab": {
      "name": "Py_Inputs.ipynb",
      "provenance": [],
      "authorship_tag": "ABX9TyMopvQhyMRkKF1lSnZhgOEF",
      "include_colab_link": true
    },
    "kernelspec": {
      "name": "python3",
      "display_name": "Python 3"
    },
    "language_info": {
      "name": "python"
    }
  },
  "cells": [
    {
      "cell_type": "markdown",
      "metadata": {
        "id": "view-in-github",
        "colab_type": "text"
      },
      "source": [
        "<a href=\"https://colab.research.google.com/github/sr-lake/AD.Python/blob/main/Py_Inputs.ipynb\" target=\"_parent\"><img src=\"https://colab.research.google.com/assets/colab-badge.svg\" alt=\"Open In Colab\"/></a>"
      ]
    },
    {
      "cell_type": "code",
      "execution_count": null,
      "metadata": {
        "id": "nsrd4Ky1ld7H"
      },
      "outputs": [],
      "source": [
        "n1 = input('Digite Algo!')\n",
        "n2 = input('Digite Algo +!')\n",
        "s = n1 + n2\n",
        "print(s)"
      ]
    }
  ]
}