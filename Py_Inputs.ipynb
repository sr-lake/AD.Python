{
  "nbformat": 4,
  "nbformat_minor": 0,
  "metadata": {
    "colab": {
      "name": "Py_Inputs.ipynb",
      "provenance": [],
      "collapsed_sections": [],
      "authorship_tag": "ABX9TyMAfqV2PwpoOPz9cMaV3eiD",
      "include_colab_link": true
    },
    "kernelspec": {
      "name": "python3",
      "display_name": "Python 3"
    },
    "language_info": {
      "name": "python"
    }
  },
  "cells": [
    {
      "cell_type": "markdown",
      "metadata": {
        "id": "view-in-github",
        "colab_type": "text"
      },
      "source": [
        "<a href=\"https://colab.research.google.com/github/sr-lake/AD.Python/blob/main/Py_Inputs.ipynb\" target=\"_parent\"><img src=\"https://colab.research.google.com/assets/colab-badge.svg\" alt=\"Open In Colab\"/></a>"
      ]
    },
    {
      "cell_type": "code",
      "execution_count": 1,
      "metadata": {
        "colab": {
          "base_uri": "https://localhost:8080/"
        },
        "id": "nsrd4Ky1ld7H",
        "outputId": "6db9598b-71f3-407f-bf3e-8a7dd124b662"
      },
      "outputs": [
        {
          "output_type": "stream",
          "name": "stdout",
          "text": [
            "Digite Algo!2\n",
            "Digite Algo +!3\n",
            "23\n"
          ]
        }
      ],
      "source": [
        "n1 = input('Digite Algo!')\n",
        "n2 = input('Digite Algo +!')\n",
        "s = n1 + n2\n",
        "print(s)"
      ]
    },
    {
      "cell_type": "code",
      "source": [
        "nome = str(input('Qual o seu Nome?'))\n",
        "print(nome)\n",
        "print(type('Prazer em te conhecer {:=^20}!'.format(nome)))"
      ],
      "metadata": {
        "colab": {
          "base_uri": "https://localhost:8080/"
        },
        "id": "7GMbbVLTvzh2",
        "outputId": "73ddd288-eada-4627-d37b-ff916bac4f60"
      },
      "execution_count": 3,
      "outputs": [
        {
          "output_type": "stream",
          "name": "stdout",
          "text": [
            "Qual o seu Nome?Lago\n",
            "Lago\n",
            "<class 'str'>\n"
          ]
        }
      ]
    },
    {
      "cell_type": "code",
      "source": [
        ""
      ],
      "metadata": {
        "id": "agItMpiky1B2"
      },
      "execution_count": null,
      "outputs": []
    }
  ]
}