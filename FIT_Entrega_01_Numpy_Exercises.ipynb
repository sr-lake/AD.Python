{
  "nbformat": 4,
  "nbformat_minor": 0,
  "metadata": {
    "kernelspec": {
      "display_name": "Python 3",
      "language": "python",
      "name": "python3"
    },
    "language_info": {
      "codemirror_mode": {
        "name": "ipython",
        "version": 3
      },
      "file_extension": ".py",
      "mimetype": "text/x-python",
      "name": "python",
      "nbconvert_exporter": "python",
      "pygments_lexer": "ipython3",
      "version": "3.9.5"
    },
    "colab": {
      "name": "FIT - Entrega 01 - Numpy Exercises.ipynb",
      "provenance": [],
      "collapsed_sections": [],
      "include_colab_link": true
    }
  },
  "cells": [
    {
      "cell_type": "markdown",
      "metadata": {
        "id": "view-in-github",
        "colab_type": "text"
      },
      "source": [
        "<a href=\"https://colab.research.google.com/github/sr-lake/AD.Python/blob/main/FIT_Entrega_01_Numpy_Exercises.ipynb\" target=\"_parent\"><img src=\"https://colab.research.google.com/assets/colab-badge.svg\" alt=\"Open In Colab\"/></a>"
      ]
    },
    {
      "cell_type": "markdown",
      "metadata": {
        "id": "dsioWNoB8OBa"
      },
      "source": [
        "# Exercícios\n"
      ]
    },
    {
      "cell_type": "markdown",
      "metadata": {
        "id": "j7RBHIKZ8OBd"
      },
      "source": [
        "1. Importe NumPy como `np`"
      ]
    },
    {
      "cell_type": "code",
      "metadata": {
        "id": "pZZAuydA8OBe"
      },
      "source": [
        "import numpy as np\n",
        "import pandas as pd"
      ],
      "execution_count": 43,
      "outputs": []
    },
    {
      "cell_type": "markdown",
      "metadata": {
        "id": "U2lOHOGk8OBe"
      },
      "source": [
        "2. Crie um array com 10 zeros "
      ]
    },
    {
      "cell_type": "code",
      "metadata": {
        "id": "lt0X0zjC8OBf",
        "colab": {
          "base_uri": "https://localhost:8080/"
        },
        "outputId": "c5d7898d-1f79-4198-a4da-83c3f288d09d"
      },
      "source": [
        "np.zeros((10))"
      ],
      "execution_count": 5,
      "outputs": [
        {
          "output_type": "execute_result",
          "data": {
            "text/plain": [
              "array([0., 0., 0., 0., 0., 0., 0., 0., 0., 0.])"
            ]
          },
          "metadata": {},
          "execution_count": 5
        }
      ]
    },
    {
      "cell_type": "markdown",
      "metadata": {
        "id": "D3WPRZjD8OBf"
      },
      "source": [
        "3. Crie um array com 10 'uns'"
      ]
    },
    {
      "cell_type": "code",
      "metadata": {
        "id": "kIaVTDIJ8OBf",
        "colab": {
          "base_uri": "https://localhost:8080/"
        },
        "outputId": "b68f8a03-0b00-4b12-87fe-6b5af9c530a3"
      },
      "source": [
        "np.ones((10))"
      ],
      "execution_count": 6,
      "outputs": [
        {
          "output_type": "execute_result",
          "data": {
            "text/plain": [
              "array([1., 1., 1., 1., 1., 1., 1., 1., 1., 1.])"
            ]
          },
          "metadata": {},
          "execution_count": 6
        }
      ]
    },
    {
      "cell_type": "markdown",
      "metadata": {
        "id": "hfUNBDMS8OBf"
      },
      "source": [
        "4. Crie um array com 10 'cincos'"
      ]
    },
    {
      "cell_type": "code",
      "metadata": {
        "id": "zuJwnHU88OBf",
        "colab": {
          "base_uri": "https://localhost:8080/"
        },
        "outputId": "fc65f4f9-46b2-4acb-ed7e-771ab0a2a38e"
      },
      "source": [
        "np.ones((10)) * 5"
      ],
      "execution_count": 7,
      "outputs": [
        {
          "output_type": "execute_result",
          "data": {
            "text/plain": [
              "array([5., 5., 5., 5., 5., 5., 5., 5., 5., 5.])"
            ]
          },
          "metadata": {},
          "execution_count": 7
        }
      ]
    },
    {
      "cell_type": "markdown",
      "metadata": {
        "id": "GHpsFznz8OBg"
      },
      "source": [
        "5. Crie um vetor de números inteiros de 10 ate 50"
      ]
    },
    {
      "cell_type": "code",
      "metadata": {
        "id": "Ib9Vt3ZN8OBg",
        "colab": {
          "base_uri": "https://localhost:8080/"
        },
        "outputId": "506d562a-910c-4585-8421-9b9a167f337a"
      },
      "source": [
        "np.arange(start=10, stop=51)"
      ],
      "execution_count": 8,
      "outputs": [
        {
          "output_type": "execute_result",
          "data": {
            "text/plain": [
              "array([10, 11, 12, 13, 14, 15, 16, 17, 18, 19, 20, 21, 22, 23, 24, 25, 26,\n",
              "       27, 28, 29, 30, 31, 32, 33, 34, 35, 36, 37, 38, 39, 40, 41, 42, 43,\n",
              "       44, 45, 46, 47, 48, 49, 50])"
            ]
          },
          "metadata": {},
          "execution_count": 8
        }
      ]
    },
    {
      "cell_type": "markdown",
      "metadata": {
        "id": "0HU-l-B78OBg"
      },
      "source": [
        "6. Crie um vetor com o numeros pares de 10 até 50"
      ]
    },
    {
      "cell_type": "code",
      "metadata": {
        "id": "A0cJ3iDu8OBg",
        "colab": {
          "base_uri": "https://localhost:8080/"
        },
        "outputId": "cef5084c-942f-4273-88fa-8b7faec3e18f"
      },
      "source": [
        "np.arange(10, 50, 2)"
      ],
      "execution_count": 9,
      "outputs": [
        {
          "output_type": "execute_result",
          "data": {
            "text/plain": [
              "array([10, 12, 14, 16, 18, 20, 22, 24, 26, 28, 30, 32, 34, 36, 38, 40, 42,\n",
              "       44, 46, 48])"
            ]
          },
          "metadata": {},
          "execution_count": 9
        }
      ]
    },
    {
      "cell_type": "markdown",
      "metadata": {
        "id": "34mFZYeg8OBh"
      },
      "source": [
        "7. Crie uma matriz $3 \\times 3$ com os valores de 0 até 8"
      ]
    },
    {
      "cell_type": "code",
      "metadata": {
        "id": "2uHccDMO8OBh",
        "colab": {
          "base_uri": "https://localhost:8080/"
        },
        "outputId": "b5bbd285-d207-4d1f-d817-4ace7ca90e65"
      },
      "source": [
        "np.arange(9).reshape(3,3)"
      ],
      "execution_count": 10,
      "outputs": [
        {
          "output_type": "execute_result",
          "data": {
            "text/plain": [
              "array([[0, 1, 2],\n",
              "       [3, 4, 5],\n",
              "       [6, 7, 8]])"
            ]
          },
          "metadata": {},
          "execution_count": 10
        }
      ]
    },
    {
      "cell_type": "markdown",
      "metadata": {
        "id": "NjZGjPmK8OBh"
      },
      "source": [
        "8. Crie uma matriz identidade $7 \\times 7$"
      ]
    },
    {
      "cell_type": "code",
      "metadata": {
        "id": "CgAzDBXo8OBh",
        "colab": {
          "base_uri": "https://localhost:8080/"
        },
        "outputId": "454cb1d2-9db9-4d44-cd9a-c32fc3f31cdc"
      },
      "source": [
        "np.identity(7)"
      ],
      "execution_count": 11,
      "outputs": [
        {
          "output_type": "execute_result",
          "data": {
            "text/plain": [
              "array([[1., 0., 0., 0., 0., 0., 0.],\n",
              "       [0., 1., 0., 0., 0., 0., 0.],\n",
              "       [0., 0., 1., 0., 0., 0., 0.],\n",
              "       [0., 0., 0., 1., 0., 0., 0.],\n",
              "       [0., 0., 0., 0., 1., 0., 0.],\n",
              "       [0., 0., 0., 0., 0., 1., 0.],\n",
              "       [0., 0., 0., 0., 0., 0., 1.]])"
            ]
          },
          "metadata": {},
          "execution_count": 11
        }
      ]
    },
    {
      "cell_type": "markdown",
      "metadata": {
        "id": "9wzjB5is8OBh"
      },
      "source": [
        "9. Use numpy para gerar um número aleatório entre 0 e 1"
      ]
    },
    {
      "cell_type": "code",
      "metadata": {
        "id": "zkRYOppS8OBh",
        "colab": {
          "base_uri": "https://localhost:8080/"
        },
        "outputId": "375ca546-4244-4313-c000-f8cfb2b109ea"
      },
      "source": [
        "np.random.rand(1)"
      ],
      "execution_count": 12,
      "outputs": [
        {
          "output_type": "execute_result",
          "data": {
            "text/plain": [
              "array([0.78696796])"
            ]
          },
          "metadata": {},
          "execution_count": 12
        }
      ]
    },
    {
      "cell_type": "markdown",
      "metadata": {
        "id": "O1m4fdu08OBi"
      },
      "source": [
        "10. Use o numpy para gerar 25 números aleatório de distribuição normal padrão (gaussiana com média $\\mu = 0$ e desvio padrão $\\sigma = 1$)"
      ]
    },
    {
      "cell_type": "code",
      "metadata": {
        "id": "nQlo9JN18OBi",
        "colab": {
          "base_uri": "https://localhost:8080/"
        },
        "outputId": "dd8e58ee-0af9-49e1-d87a-938851d4ae6d"
      },
      "source": [
        "np.random.rand(5,5)"
      ],
      "execution_count": 13,
      "outputs": [
        {
          "output_type": "execute_result",
          "data": {
            "text/plain": [
              "array([[0.20472301, 0.98832053, 0.61428387, 0.88584698, 0.02135493],\n",
              "       [0.11227058, 0.53029039, 0.31077202, 0.19280303, 0.60164009],\n",
              "       [0.78039592, 0.65647282, 0.46906242, 0.16135295, 0.86782462],\n",
              "       [0.43585274, 0.42208555, 0.64082264, 0.55915646, 0.65208592],\n",
              "       [0.65944161, 0.90833533, 0.58766685, 0.93475932, 0.88623682]])"
            ]
          },
          "metadata": {},
          "execution_count": 13
        }
      ]
    },
    {
      "cell_type": "markdown",
      "metadata": {
        "id": "sZADK-Fk8OBi"
      },
      "source": [
        "11. Crie a matrix abaixo\n",
        "\n",
        "```python\n",
        "array([[0.01, 0.02, 0.03, 0.04, 0.05, 0.06, 0.07, 0.08, 0.09, 0.1 ],\n",
        "       [0.11, 0.12, 0.13, 0.14, 0.15, 0.16, 0.17, 0.18, 0.19, 0.2 ],\n",
        "       [0.21, 0.22, 0.23, 0.24, 0.25, 0.26, 0.27, 0.28, 0.29, 0.3 ],\n",
        "       [0.31, 0.32, 0.33, 0.34, 0.35, 0.36, 0.37, 0.38, 0.39, 0.4 ],\n",
        "       [0.41, 0.42, 0.43, 0.44, 0.45, 0.46, 0.47, 0.48, 0.49, 0.5 ],\n",
        "       [0.51, 0.52, 0.53, 0.54, 0.55, 0.56, 0.57, 0.58, 0.59, 0.6 ],\n",
        "       [0.61, 0.62, 0.63, 0.64, 0.65, 0.66, 0.67, 0.68, 0.69, 0.7 ],\n",
        "       [0.71, 0.72, 0.73, 0.74, 0.75, 0.76, 0.77, 0.78, 0.79, 0.8 ],\n",
        "       [0.81, 0.82, 0.83, 0.84, 0.85, 0.86, 0.87, 0.88, 0.89, 0.9 ],\n",
        "       [0.91, 0.92, 0.93, 0.94, 0.95, 0.96, 0.97, 0.98, 0.99, 1.  ]])\n",
        "```"
      ]
    },
    {
      "cell_type": "code",
      "metadata": {
        "id": "QBYbMlNG8OBi",
        "colab": {
          "base_uri": "https://localhost:8080/"
        },
        "outputId": "90c7ac44-9951-453f-95cb-72956f052797"
      },
      "source": [
        "import numpy as np\n",
        "np.linspace(0.01,1,100).reshape(10,10)"
      ],
      "execution_count": 14,
      "outputs": [
        {
          "output_type": "execute_result",
          "data": {
            "text/plain": [
              "array([[0.01, 0.02, 0.03, 0.04, 0.05, 0.06, 0.07, 0.08, 0.09, 0.1 ],\n",
              "       [0.11, 0.12, 0.13, 0.14, 0.15, 0.16, 0.17, 0.18, 0.19, 0.2 ],\n",
              "       [0.21, 0.22, 0.23, 0.24, 0.25, 0.26, 0.27, 0.28, 0.29, 0.3 ],\n",
              "       [0.31, 0.32, 0.33, 0.34, 0.35, 0.36, 0.37, 0.38, 0.39, 0.4 ],\n",
              "       [0.41, 0.42, 0.43, 0.44, 0.45, 0.46, 0.47, 0.48, 0.49, 0.5 ],\n",
              "       [0.51, 0.52, 0.53, 0.54, 0.55, 0.56, 0.57, 0.58, 0.59, 0.6 ],\n",
              "       [0.61, 0.62, 0.63, 0.64, 0.65, 0.66, 0.67, 0.68, 0.69, 0.7 ],\n",
              "       [0.71, 0.72, 0.73, 0.74, 0.75, 0.76, 0.77, 0.78, 0.79, 0.8 ],\n",
              "       [0.81, 0.82, 0.83, 0.84, 0.85, 0.86, 0.87, 0.88, 0.89, 0.9 ],\n",
              "       [0.91, 0.92, 0.93, 0.94, 0.95, 0.96, 0.97, 0.98, 0.99, 1.  ]])"
            ]
          },
          "metadata": {},
          "execution_count": 14
        }
      ]
    },
    {
      "cell_type": "markdown",
      "metadata": {
        "id": "vmBTpxpK8OBj"
      },
      "source": [
        "12. Crie um array de 20 elementos igulmente espaçados entre 0 e 1:"
      ]
    },
    {
      "cell_type": "code",
      "metadata": {
        "id": "P-YRP_4c8OBj",
        "colab": {
          "base_uri": "https://localhost:8080/"
        },
        "outputId": "3aafd608-d4b0-40e2-8e7a-a7ff380bd4c8"
      },
      "source": [
        "np.linspace(0, 1, 20)"
      ],
      "execution_count": 15,
      "outputs": [
        {
          "output_type": "execute_result",
          "data": {
            "text/plain": [
              "array([0.        , 0.05263158, 0.10526316, 0.15789474, 0.21052632,\n",
              "       0.26315789, 0.31578947, 0.36842105, 0.42105263, 0.47368421,\n",
              "       0.52631579, 0.57894737, 0.63157895, 0.68421053, 0.73684211,\n",
              "       0.78947368, 0.84210526, 0.89473684, 0.94736842, 1.        ])"
            ]
          },
          "metadata": {},
          "execution_count": 15
        }
      ]
    },
    {
      "cell_type": "markdown",
      "metadata": {
        "id": "eVcKiaBz8OBj"
      },
      "source": [
        "13. Dada a matrix abaixo,\n",
        "\n",
        "```python\n",
        "array([[ 1,  2,  3,  4,  5],\n",
        "       [ 6,  7,  8,  9, 10],\n",
        "       [11, 12, 13, 14, 15],\n",
        "       [16, 17, 18, 19, 20],\n",
        "       [21, 22, 23, 24, 25]])\n",
        "```\n",
        "\n",
        "obtenha as seguintes matrizes por indexação e se necessário, reshape:\n",
        "* \n",
        "```python\n",
        "array([[12, 13, 14, 15],\n",
        "       [17, 18, 19, 20],\n",
        "       [22, 23, 24, 25]])\n",
        "```\n",
        "* \n",
        "```python\n",
        "array([[ 2],\n",
        "       [ 7],\n",
        "       [12]])\n",
        "```\n",
        "* \n",
        "```python\n",
        "array([21, 22, 23, 24, 25])\n",
        "```\n",
        "* \n",
        "```python\n",
        "array([[16, 17, 18, 19, 20],\n",
        "       [21, 22, 23, 24, 25]])\n",
        "```"
      ]
    },
    {
      "cell_type": "code",
      "metadata": {
        "id": "XXcVgq8i8OBj",
        "colab": {
          "base_uri": "https://localhost:8080/"
        },
        "outputId": "fe157e7b-92ce-42a4-b2dd-086eecf362e5"
      },
      "source": [
        "A = np.arange(1,26).reshape(5,5)\n",
        "A"
      ],
      "execution_count": 16,
      "outputs": [
        {
          "output_type": "execute_result",
          "data": {
            "text/plain": [
              "array([[ 1,  2,  3,  4,  5],\n",
              "       [ 6,  7,  8,  9, 10],\n",
              "       [11, 12, 13, 14, 15],\n",
              "       [16, 17, 18, 19, 20],\n",
              "       [21, 22, 23, 24, 25]])"
            ]
          },
          "metadata": {},
          "execution_count": 16
        }
      ]
    },
    {
      "cell_type": "code",
      "source": [
        "A[2:6,1:5]"
      ],
      "metadata": {
        "colab": {
          "base_uri": "https://localhost:8080/"
        },
        "id": "NiXpC8u9UkRn",
        "outputId": "6f565413-1832-44ad-8a64-3e8e626b74e6"
      },
      "execution_count": 17,
      "outputs": [
        {
          "output_type": "execute_result",
          "data": {
            "text/plain": [
              "array([[12, 13, 14, 15],\n",
              "       [17, 18, 19, 20],\n",
              "       [22, 23, 24, 25]])"
            ]
          },
          "metadata": {},
          "execution_count": 17
        }
      ]
    },
    {
      "cell_type": "markdown",
      "metadata": {
        "id": "cu-fCr-R8OBk"
      },
      "source": [
        "14. Some todos os valores da matriz"
      ]
    },
    {
      "cell_type": "code",
      "metadata": {
        "id": "Akq-o2O08OBk",
        "colab": {
          "base_uri": "https://localhost:8080/"
        },
        "outputId": "6788e30c-3ff9-437f-9073-0e677f7430bc"
      },
      "source": [
        "np.sum(A)"
      ],
      "execution_count": 42,
      "outputs": [
        {
          "output_type": "execute_result",
          "data": {
            "text/plain": [
              "325"
            ]
          },
          "metadata": {},
          "execution_count": 42
        }
      ]
    },
    {
      "cell_type": "code",
      "source": [
        "np.sum(A[:])"
      ],
      "metadata": {
        "colab": {
          "base_uri": "https://localhost:8080/"
        },
        "id": "OXkI3JcQ9Bpn",
        "outputId": "9bd29476-72ff-41a1-96fc-d9ac18ca1c3e"
      },
      "execution_count": 27,
      "outputs": [
        {
          "output_type": "execute_result",
          "data": {
            "text/plain": [
              "325"
            ]
          },
          "metadata": {},
          "execution_count": 27
        }
      ]
    },
    {
      "cell_type": "markdown",
      "metadata": {
        "id": "bb6UZR728OBk"
      },
      "source": [
        "15. Some todas as colunas da matriz"
      ]
    },
    {
      "cell_type": "code",
      "metadata": {
        "id": "kr6KfNfX8OBk",
        "colab": {
          "base_uri": "https://localhost:8080/"
        },
        "outputId": "d8a023cf-fb54-4af0-e178-ca1894598aa2"
      },
      "source": [
        "A.sum(axis=0)"
      ],
      "execution_count": 54,
      "outputs": [
        {
          "output_type": "execute_result",
          "data": {
            "text/plain": [
              "array([55, 60, 65, 70, 75])"
            ]
          },
          "metadata": {},
          "execution_count": 54
        }
      ]
    },
    {
      "cell_type": "markdown",
      "metadata": {
        "id": "xdx3HTqc8OBk"
      },
      "source": [
        "16. Calcule o desvio padrão por coluna"
      ]
    },
    {
      "cell_type": "code",
      "metadata": {
        "id": "boAPIUZb8OBl",
        "colab": {
          "base_uri": "https://localhost:8080/"
        },
        "outputId": "eba415be-8657-4605-a7ff-e814dcb27c5a"
      },
      "source": [
        "A.std()"
      ],
      "execution_count": 48,
      "outputs": [
        {
          "output_type": "execute_result",
          "data": {
            "text/plain": [
              "7.211102550927978"
            ]
          },
          "metadata": {},
          "execution_count": 48
        }
      ]
    }
  ]
}